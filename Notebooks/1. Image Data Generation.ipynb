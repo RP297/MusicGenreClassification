{
 "cells": [
  {
   "cell_type": "markdown",
   "metadata": {},
   "source": [
    "# Music Genre Classification Project \n",
    "by James Potash, Rohan Poddar, Xena Maayah, Yijun Zhao, and Noame de-Boerdere"
   ]
  },
  {
   "cell_type": "markdown",
   "metadata": {},
   "source": [
    "We use this notebook to generate Waveshow, Mel Spectrograms and MFCC plots for the audio files that we have. These are additional image data files that we will use to train the model and see which kind of image representation of the audio files give us the best performance. "
   ]
  },
  {
   "cell_type": "code",
   "execution_count": 2,
   "metadata": {},
   "outputs": [],
   "source": [
    "import math\n",
    "from scipy import sparse\n",
    "import pandas as pd\n",
    "import seaborn as sns\n",
    "import matplotlib.pyplot as plt\n",
    "import statsmodels.api as sm\n",
    "%matplotlib inline\n",
    "\n",
    "\n",
    "import pandas as pd\n",
    "import numpy as np\n",
    "import matplotlib.pyplot as plt\n",
    "import os\n",
    "\n",
    "import librosa\n",
    "import librosa.display\n",
    "\n",
    "import seaborn as sns\n",
    "sns.set_style('whitegrid')\n",
    "\n",
    "import math\n",
    "\n",
    "import warnings\n",
    "warnings.filterwarnings(\"ignore\")\n",
    "\n",
    "import IPython\n",
    "\n",
    "import sklearn\n",
    "from sklearn.preprocessing import minmax_scale\n",
    "from librosa.feature import spectral_rolloff"
   ]
  },
  {
   "cell_type": "code",
   "execution_count": 3,
   "metadata": {},
   "outputs": [],
   "source": [
    "seed = 12\n",
    "np.random.seed(seed)\n",
    "\n",
    "path = \"./Data/\"\n",
    "out_path = \"./Image Data/\"\n",
    "path_audio_files = path + \"genres_original/\"\n",
    "\n",
    "hop_length = 512\n",
    "n_fft = 2048\n",
    "genre_dict = {\"blues\":0, \"classical\":1, \"country\":2, \"disco\":3, \"hiphop\":4, \"jazz\":5, \"metal\":6, \"pop\":7, \"reggae\":8, \"rock\":9}"
   ]
  },
  {
   "cell_type": "code",
   "execution_count": 7,
   "metadata": {},
   "outputs": [
    {
     "name": "stdout",
     "output_type": "stream",
     "text": [
      "Error: (54, 'jazz')\n"
     ]
    }
   ],
   "source": [
    "for genre in genre_dict.keys():\n",
    "    for i in range(100):\n",
    "        try:\n",
    "            # Load Audio File\n",
    "            data, sampling_rate = librosa.load(path_audio_files + genre + \"/\" + genre + \".000\" + f'{i:02}' + \".wav\")\n",
    "            \n",
    "            # Waveshow\n",
    "            librosa.display.waveshow(y = data, sr = sampling_rate, color = \"#FFB100\")\n",
    "            plt.savefig(out_path + \"Waveshow/\" + genre + \"/\" + genre + \".000\" + f'{i:02}' + \".png\")\n",
    "            plt.close()\n",
    "\n",
    "            # Mel spectrogram\n",
    "            mel_spec = librosa.feature.melspectrogram(y = data, sr=sampling_rate, hop_length = hop_length)\n",
    "            mel_spec_db = librosa.amplitude_to_db(mel_spec, ref=np.max)\n",
    "            librosa.display.specshow(mel_spec_db, sr = sampling_rate, hop_length = hop_length, x_axis = 'time', y_axis = 'log')\n",
    "            plt.savefig(out_path + \"Mel Spectrogram/\" + genre + \"/\" + genre + \".000\" + f'{i:02}' + \".png\")\n",
    "\n",
    "            # MFCC \n",
    "            mfcc_data = np.abs(librosa.feature.mfcc(y = data, sr = sampling_rate))\n",
    "            librosa.display.specshow(mfcc_data, sr = sampling_rate, x_axis = 'time', y_axis = 'log')\n",
    "            plt.savefig(out_path + \"MFCC/\" + genre + \"/\" + genre + \".000\" + f'{i:02}' + \".png\")\n",
    "            plt.close()\n",
    "        \n",
    "        except:\n",
    "            print(f\"Error: {i, genre}\")\n",
    "            continue"
   ]
  }
 ],
 "metadata": {
  "kernelspec": {
   "display_name": "Python 3.9.13 ('Columbia')",
   "language": "python",
   "name": "python3"
  },
  "language_info": {
   "codemirror_mode": {
    "name": "ipython",
    "version": 3
   },
   "file_extension": ".py",
   "mimetype": "text/x-python",
   "name": "python",
   "nbconvert_exporter": "python",
   "pygments_lexer": "ipython3",
   "version": "3.9.13"
  },
  "vscode": {
   "interpreter": {
    "hash": "ccd2c648c5a6eeb8a41cd93bc6bbe3d4241470c9b6a8b405b546e5e08db09a06"
   }
  }
 },
 "nbformat": 4,
 "nbformat_minor": 2
}
