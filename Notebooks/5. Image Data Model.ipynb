{
  "cells": [
    {
      "cell_type": "markdown",
      "metadata": {
        "id": "d3jCIDkD0vHt"
      },
      "source": [
        "# Music Genre Classification Project \n",
        "by James Potash, Rohan Poddar, Xena Maayah, Yijun Zhao, and Noame de-Boerdere"
      ]
    },
    {
      "cell_type": "code",
      "execution_count": 55,
      "metadata": {
        "id": "w__er3qs0vHw"
      },
      "outputs": [],
      "source": [
        "import matplotlib.pyplot as plt\n",
        "import numpy as np\n",
        "import pandas as pd\n",
        "import os\n",
        "import glob \n",
        "from tqdm import tqdm\n",
        "import cv2\n",
        "from skimage import io\n",
        "import itertools \n",
        "\n",
        "import tensorflow as tf\n",
        "from tensorflow.keras import models, layers\n",
        "from tensorflow.keras.applications import inception_v3, EfficientNetB0, InceptionV3, resnet50\n",
        "from tensorflow.keras.models import Sequential\n",
        "from tensorflow.keras.preprocessing.image import ImageDataGenerator\n",
        "from tensorflow.keras.preprocessing import image_dataset_from_directory\n",
        "from tensorflow.keras.metrics import AUC\n",
        "from tensorflow.keras.optimizers import SGD, Adam\n",
        "from keras.applications.imagenet_utils import decode_predictions\n",
        "from keras.applications.vgg16 import VGG16, preprocess_input\n",
        "\n",
        "import keras\n",
        "from keras.preprocessing.image import ImageDataGenerator\n",
        "from keras import backend as K\n",
        "from keras.models import Sequential, Model, load_model\n",
        "from keras.callbacks import EarlyStopping,ModelCheckpoint\n",
        "from keras.layers import Input, Add, Dense, Activation, ZeroPadding2D, BatchNormalization, Flatten, Conv2D, AveragePooling2D, MaxPooling2D, GlobalMaxPooling2D,MaxPool2D, Dropout\n",
        "from keras.preprocessing import image\n",
        "from keras.initializers import glorot_uniform\n",
        "from keras.callbacks import ReduceLROnPlateau\n",
        "\n",
        "from sklearn.model_selection import train_test_split\n",
        "from sklearn.metrics import accuracy_score, roc_auc_score, confusion_matrix\n",
        "import sklearn.preprocessing"
      ]
    },
    {
      "cell_type": "code",
      "source": [
        "# references: https://www.kaggle.com/code/gtessier/inceptionv3-gtzan-implementation"
      ],
      "metadata": {
        "id": "5UTh2l5YAxgf"
      },
      "execution_count": 80,
      "outputs": []
    },
    {
      "cell_type": "code",
      "source": [
        "from google.colab import drive\n",
        "drive.mount('/content/drive')"
      ],
      "metadata": {
        "colab": {
          "base_uri": "https://localhost:8080/"
        },
        "id": "vPHbS8EQ1IIX",
        "outputId": "e4980c91-e652-443e-f9ac-29f3bb86fba5"
      },
      "execution_count": 2,
      "outputs": [
        {
          "output_type": "stream",
          "name": "stdout",
          "text": [
            "Mounted at /content/drive\n"
          ]
        }
      ]
    },
    {
      "cell_type": "code",
      "source": [
        "cd drive/MyDrive/AML\\ Data"
      ],
      "metadata": {
        "colab": {
          "base_uri": "https://localhost:8080/"
        },
        "id": "4qnngNYZ1XhB",
        "outputId": "a224d633-5088-461d-ec76-72a2fb1b6d62"
      },
      "execution_count": 3,
      "outputs": [
        {
          "output_type": "stream",
          "name": "stdout",
          "text": [
            "/content/drive/MyDrive/AML Data\n"
          ]
        }
      ]
    },
    {
      "cell_type": "code",
      "execution_count": 4,
      "metadata": {
        "id": "Ujp424qq0vHy"
      },
      "outputs": [],
      "source": [
        "path = \"./images_original/\"\n",
        "genre_dict = {\"blues\":0, \"classical\":1, \"country\":2, \"disco\":3, \"hiphop\":4, \"jazz\":5, \"metal\":6, \"pop\":7, \"reggae\":8, \"rock\":9}"
      ]
    },
    {
      "cell_type": "markdown",
      "source": [
        "## Different Image Datasets"
      ],
      "metadata": {
        "id": "C4brVIePzNxV"
      }
    },
    {
      "cell_type": "markdown",
      "source": [
        "### Waveshow"
      ],
      "metadata": {
        "id": "2gW4jix2Pn53"
      }
    },
    {
      "cell_type": "code",
      "execution_count": 5,
      "metadata": {
        "id": "Pdt9GnNi0vHy"
      },
      "outputs": [],
      "source": [
        "img_folder = \"Waveshow/\"\n",
        "df = pd.DataFrame()\n",
        "g_list = []\n",
        "file_list = []\n",
        "\n",
        "for genre in genre_dict:\n",
        "    for file_name in os.listdir(path + img_folder + genre):\n",
        "        if file_name.endswith(\".png\"):\n",
        "            file_list.append(file_name)\n",
        "            g_list.append(genre)\n",
        "    \n",
        "df['filename'] = file_list\n",
        "df['class'] = g_list"
      ]
    },
    {
      "cell_type": "code",
      "execution_count": 6,
      "metadata": {
        "colab": {
          "base_uri": "https://localhost:8080/"
        },
        "id": "WK91a5ac0vHz",
        "outputId": "d52d33e8-3d20-4214-bddc-e4874d32800b"
      },
      "outputs": [
        {
          "output_type": "execute_result",
          "data": {
            "text/plain": [
              "blues        100\n",
              "classical    100\n",
              "country      100\n",
              "disco        100\n",
              "hiphop       100\n",
              "metal        100\n",
              "pop          100\n",
              "reggae       100\n",
              "rock         100\n",
              "jazz          99\n",
              "Name: class, dtype: int64"
            ]
          },
          "metadata": {},
          "execution_count": 6
        }
      ],
      "source": [
        "df['class'].value_counts()"
      ]
    },
    {
      "cell_type": "code",
      "execution_count": 7,
      "metadata": {
        "colab": {
          "base_uri": "https://localhost:8080/"
        },
        "id": "xcORTX8n0vHz",
        "outputId": "36d82299-b1dc-4812-8c1b-593b4c953afa"
      },
      "outputs": [
        {
          "output_type": "execute_result",
          "data": {
            "text/plain": [
              "(999,)"
            ]
          },
          "metadata": {},
          "execution_count": 7
        }
      ],
      "source": [
        "x = np.array(df['filename'].tolist())\n",
        "x.shape"
      ]
    },
    {
      "cell_type": "code",
      "execution_count": 8,
      "metadata": {
        "colab": {
          "base_uri": "https://localhost:8080/",
          "height": 224
        },
        "id": "7Z6Ixgdo0vHz",
        "outputId": "bc3e32fa-dbd2-48ef-fdbd-078b097f00ba"
      },
      "outputs": [
        {
          "output_type": "stream",
          "name": "stdout",
          "text": [
            "(999, 10)\n"
          ]
        },
        {
          "output_type": "execute_result",
          "data": {
            "text/plain": [
              "   blues  classical  country  disco  hiphop  jazz  metal  pop  reggae  rock\n",
              "0      1          0        0      0       0     0      0    0       0     0\n",
              "1      1          0        0      0       0     0      0    0       0     0\n",
              "2      1          0        0      0       0     0      0    0       0     0\n",
              "3      1          0        0      0       0     0      0    0       0     0\n",
              "4      1          0        0      0       0     0      0    0       0     0"
            ],
            "text/html": [
              "\n",
              "  <div id=\"df-912ba857-2cef-4079-9abb-75c57d872e8d\">\n",
              "    <div class=\"colab-df-container\">\n",
              "      <div>\n",
              "<style scoped>\n",
              "    .dataframe tbody tr th:only-of-type {\n",
              "        vertical-align: middle;\n",
              "    }\n",
              "\n",
              "    .dataframe tbody tr th {\n",
              "        vertical-align: top;\n",
              "    }\n",
              "\n",
              "    .dataframe thead th {\n",
              "        text-align: right;\n",
              "    }\n",
              "</style>\n",
              "<table border=\"1\" class=\"dataframe\">\n",
              "  <thead>\n",
              "    <tr style=\"text-align: right;\">\n",
              "      <th></th>\n",
              "      <th>blues</th>\n",
              "      <th>classical</th>\n",
              "      <th>country</th>\n",
              "      <th>disco</th>\n",
              "      <th>hiphop</th>\n",
              "      <th>jazz</th>\n",
              "      <th>metal</th>\n",
              "      <th>pop</th>\n",
              "      <th>reggae</th>\n",
              "      <th>rock</th>\n",
              "    </tr>\n",
              "  </thead>\n",
              "  <tbody>\n",
              "    <tr>\n",
              "      <th>0</th>\n",
              "      <td>1</td>\n",
              "      <td>0</td>\n",
              "      <td>0</td>\n",
              "      <td>0</td>\n",
              "      <td>0</td>\n",
              "      <td>0</td>\n",
              "      <td>0</td>\n",
              "      <td>0</td>\n",
              "      <td>0</td>\n",
              "      <td>0</td>\n",
              "    </tr>\n",
              "    <tr>\n",
              "      <th>1</th>\n",
              "      <td>1</td>\n",
              "      <td>0</td>\n",
              "      <td>0</td>\n",
              "      <td>0</td>\n",
              "      <td>0</td>\n",
              "      <td>0</td>\n",
              "      <td>0</td>\n",
              "      <td>0</td>\n",
              "      <td>0</td>\n",
              "      <td>0</td>\n",
              "    </tr>\n",
              "    <tr>\n",
              "      <th>2</th>\n",
              "      <td>1</td>\n",
              "      <td>0</td>\n",
              "      <td>0</td>\n",
              "      <td>0</td>\n",
              "      <td>0</td>\n",
              "      <td>0</td>\n",
              "      <td>0</td>\n",
              "      <td>0</td>\n",
              "      <td>0</td>\n",
              "      <td>0</td>\n",
              "    </tr>\n",
              "    <tr>\n",
              "      <th>3</th>\n",
              "      <td>1</td>\n",
              "      <td>0</td>\n",
              "      <td>0</td>\n",
              "      <td>0</td>\n",
              "      <td>0</td>\n",
              "      <td>0</td>\n",
              "      <td>0</td>\n",
              "      <td>0</td>\n",
              "      <td>0</td>\n",
              "      <td>0</td>\n",
              "    </tr>\n",
              "    <tr>\n",
              "      <th>4</th>\n",
              "      <td>1</td>\n",
              "      <td>0</td>\n",
              "      <td>0</td>\n",
              "      <td>0</td>\n",
              "      <td>0</td>\n",
              "      <td>0</td>\n",
              "      <td>0</td>\n",
              "      <td>0</td>\n",
              "      <td>0</td>\n",
              "      <td>0</td>\n",
              "    </tr>\n",
              "  </tbody>\n",
              "</table>\n",
              "</div>\n",
              "      <button class=\"colab-df-convert\" onclick=\"convertToInteractive('df-912ba857-2cef-4079-9abb-75c57d872e8d')\"\n",
              "              title=\"Convert this dataframe to an interactive table.\"\n",
              "              style=\"display:none;\">\n",
              "        \n",
              "  <svg xmlns=\"http://www.w3.org/2000/svg\" height=\"24px\"viewBox=\"0 0 24 24\"\n",
              "       width=\"24px\">\n",
              "    <path d=\"M0 0h24v24H0V0z\" fill=\"none\"/>\n",
              "    <path d=\"M18.56 5.44l.94 2.06.94-2.06 2.06-.94-2.06-.94-.94-2.06-.94 2.06-2.06.94zm-11 1L8.5 8.5l.94-2.06 2.06-.94-2.06-.94L8.5 2.5l-.94 2.06-2.06.94zm10 10l.94 2.06.94-2.06 2.06-.94-2.06-.94-.94-2.06-.94 2.06-2.06.94z\"/><path d=\"M17.41 7.96l-1.37-1.37c-.4-.4-.92-.59-1.43-.59-.52 0-1.04.2-1.43.59L10.3 9.45l-7.72 7.72c-.78.78-.78 2.05 0 2.83L4 21.41c.39.39.9.59 1.41.59.51 0 1.02-.2 1.41-.59l7.78-7.78 2.81-2.81c.8-.78.8-2.07 0-2.86zM5.41 20L4 18.59l7.72-7.72 1.47 1.35L5.41 20z\"/>\n",
              "  </svg>\n",
              "      </button>\n",
              "      \n",
              "  <style>\n",
              "    .colab-df-container {\n",
              "      display:flex;\n",
              "      flex-wrap:wrap;\n",
              "      gap: 12px;\n",
              "    }\n",
              "\n",
              "    .colab-df-convert {\n",
              "      background-color: #E8F0FE;\n",
              "      border: none;\n",
              "      border-radius: 50%;\n",
              "      cursor: pointer;\n",
              "      display: none;\n",
              "      fill: #1967D2;\n",
              "      height: 32px;\n",
              "      padding: 0 0 0 0;\n",
              "      width: 32px;\n",
              "    }\n",
              "\n",
              "    .colab-df-convert:hover {\n",
              "      background-color: #E2EBFA;\n",
              "      box-shadow: 0px 1px 2px rgba(60, 64, 67, 0.3), 0px 1px 3px 1px rgba(60, 64, 67, 0.15);\n",
              "      fill: #174EA6;\n",
              "    }\n",
              "\n",
              "    [theme=dark] .colab-df-convert {\n",
              "      background-color: #3B4455;\n",
              "      fill: #D2E3FC;\n",
              "    }\n",
              "\n",
              "    [theme=dark] .colab-df-convert:hover {\n",
              "      background-color: #434B5C;\n",
              "      box-shadow: 0px 1px 3px 1px rgba(0, 0, 0, 0.15);\n",
              "      filter: drop-shadow(0px 1px 2px rgba(0, 0, 0, 0.3));\n",
              "      fill: #FFFFFF;\n",
              "    }\n",
              "  </style>\n",
              "\n",
              "      <script>\n",
              "        const buttonEl =\n",
              "          document.querySelector('#df-912ba857-2cef-4079-9abb-75c57d872e8d button.colab-df-convert');\n",
              "        buttonEl.style.display =\n",
              "          google.colab.kernel.accessAllowed ? 'block' : 'none';\n",
              "\n",
              "        async function convertToInteractive(key) {\n",
              "          const element = document.querySelector('#df-912ba857-2cef-4079-9abb-75c57d872e8d');\n",
              "          const dataTable =\n",
              "            await google.colab.kernel.invokeFunction('convertToInteractive',\n",
              "                                                     [key], {});\n",
              "          if (!dataTable) return;\n",
              "\n",
              "          const docLinkHtml = 'Like what you see? Visit the ' +\n",
              "            '<a target=\"_blank\" href=https://colab.research.google.com/notebooks/data_table.ipynb>data table notebook</a>'\n",
              "            + ' to learn more about interactive tables.';\n",
              "          element.innerHTML = '';\n",
              "          dataTable['output_type'] = 'display_data';\n",
              "          await google.colab.output.renderOutput(dataTable, element);\n",
              "          const docLink = document.createElement('div');\n",
              "          docLink.innerHTML = docLinkHtml;\n",
              "          element.appendChild(docLink);\n",
              "        }\n",
              "      </script>\n",
              "    </div>\n",
              "  </div>\n",
              "  "
            ]
          },
          "metadata": {},
          "execution_count": 8
        }
      ],
      "source": [
        "y = np.array(df['class'].tolist())\n",
        "y_new = pd.get_dummies(y)\n",
        "print(y_new.shape)\n",
        "y_new.head()"
      ]
    },
    {
      "cell_type": "code",
      "execution_count": 9,
      "metadata": {
        "colab": {
          "base_uri": "https://localhost:8080/",
          "height": 206
        },
        "id": "ovfpS1H70vH0",
        "outputId": "35051b4e-da96-4c1e-c5ee-d07c990f3917"
      },
      "outputs": [
        {
          "output_type": "execute_result",
          "data": {
            "text/plain": [
              "          filename  class                   path\n",
              "0  blues.00000.png  blues  blues/blues.00000.png\n",
              "1  blues.00001.png  blues  blues/blues.00001.png\n",
              "2  blues.00002.png  blues  blues/blues.00002.png\n",
              "3  blues.00003.png  blues  blues/blues.00003.png\n",
              "4  blues.00004.png  blues  blues/blues.00004.png"
            ],
            "text/html": [
              "\n",
              "  <div id=\"df-fc3829a7-3109-48dd-8185-bba245c907c9\">\n",
              "    <div class=\"colab-df-container\">\n",
              "      <div>\n",
              "<style scoped>\n",
              "    .dataframe tbody tr th:only-of-type {\n",
              "        vertical-align: middle;\n",
              "    }\n",
              "\n",
              "    .dataframe tbody tr th {\n",
              "        vertical-align: top;\n",
              "    }\n",
              "\n",
              "    .dataframe thead th {\n",
              "        text-align: right;\n",
              "    }\n",
              "</style>\n",
              "<table border=\"1\" class=\"dataframe\">\n",
              "  <thead>\n",
              "    <tr style=\"text-align: right;\">\n",
              "      <th></th>\n",
              "      <th>filename</th>\n",
              "      <th>class</th>\n",
              "      <th>path</th>\n",
              "    </tr>\n",
              "  </thead>\n",
              "  <tbody>\n",
              "    <tr>\n",
              "      <th>0</th>\n",
              "      <td>blues.00000.png</td>\n",
              "      <td>blues</td>\n",
              "      <td>blues/blues.00000.png</td>\n",
              "    </tr>\n",
              "    <tr>\n",
              "      <th>1</th>\n",
              "      <td>blues.00001.png</td>\n",
              "      <td>blues</td>\n",
              "      <td>blues/blues.00001.png</td>\n",
              "    </tr>\n",
              "    <tr>\n",
              "      <th>2</th>\n",
              "      <td>blues.00002.png</td>\n",
              "      <td>blues</td>\n",
              "      <td>blues/blues.00002.png</td>\n",
              "    </tr>\n",
              "    <tr>\n",
              "      <th>3</th>\n",
              "      <td>blues.00003.png</td>\n",
              "      <td>blues</td>\n",
              "      <td>blues/blues.00003.png</td>\n",
              "    </tr>\n",
              "    <tr>\n",
              "      <th>4</th>\n",
              "      <td>blues.00004.png</td>\n",
              "      <td>blues</td>\n",
              "      <td>blues/blues.00004.png</td>\n",
              "    </tr>\n",
              "  </tbody>\n",
              "</table>\n",
              "</div>\n",
              "      <button class=\"colab-df-convert\" onclick=\"convertToInteractive('df-fc3829a7-3109-48dd-8185-bba245c907c9')\"\n",
              "              title=\"Convert this dataframe to an interactive table.\"\n",
              "              style=\"display:none;\">\n",
              "        \n",
              "  <svg xmlns=\"http://www.w3.org/2000/svg\" height=\"24px\"viewBox=\"0 0 24 24\"\n",
              "       width=\"24px\">\n",
              "    <path d=\"M0 0h24v24H0V0z\" fill=\"none\"/>\n",
              "    <path d=\"M18.56 5.44l.94 2.06.94-2.06 2.06-.94-2.06-.94-.94-2.06-.94 2.06-2.06.94zm-11 1L8.5 8.5l.94-2.06 2.06-.94-2.06-.94L8.5 2.5l-.94 2.06-2.06.94zm10 10l.94 2.06.94-2.06 2.06-.94-2.06-.94-.94-2.06-.94 2.06-2.06.94z\"/><path d=\"M17.41 7.96l-1.37-1.37c-.4-.4-.92-.59-1.43-.59-.52 0-1.04.2-1.43.59L10.3 9.45l-7.72 7.72c-.78.78-.78 2.05 0 2.83L4 21.41c.39.39.9.59 1.41.59.51 0 1.02-.2 1.41-.59l7.78-7.78 2.81-2.81c.8-.78.8-2.07 0-2.86zM5.41 20L4 18.59l7.72-7.72 1.47 1.35L5.41 20z\"/>\n",
              "  </svg>\n",
              "      </button>\n",
              "      \n",
              "  <style>\n",
              "    .colab-df-container {\n",
              "      display:flex;\n",
              "      flex-wrap:wrap;\n",
              "      gap: 12px;\n",
              "    }\n",
              "\n",
              "    .colab-df-convert {\n",
              "      background-color: #E8F0FE;\n",
              "      border: none;\n",
              "      border-radius: 50%;\n",
              "      cursor: pointer;\n",
              "      display: none;\n",
              "      fill: #1967D2;\n",
              "      height: 32px;\n",
              "      padding: 0 0 0 0;\n",
              "      width: 32px;\n",
              "    }\n",
              "\n",
              "    .colab-df-convert:hover {\n",
              "      background-color: #E2EBFA;\n",
              "      box-shadow: 0px 1px 2px rgba(60, 64, 67, 0.3), 0px 1px 3px 1px rgba(60, 64, 67, 0.15);\n",
              "      fill: #174EA6;\n",
              "    }\n",
              "\n",
              "    [theme=dark] .colab-df-convert {\n",
              "      background-color: #3B4455;\n",
              "      fill: #D2E3FC;\n",
              "    }\n",
              "\n",
              "    [theme=dark] .colab-df-convert:hover {\n",
              "      background-color: #434B5C;\n",
              "      box-shadow: 0px 1px 3px 1px rgba(0, 0, 0, 0.15);\n",
              "      filter: drop-shadow(0px 1px 2px rgba(0, 0, 0, 0.3));\n",
              "      fill: #FFFFFF;\n",
              "    }\n",
              "  </style>\n",
              "\n",
              "      <script>\n",
              "        const buttonEl =\n",
              "          document.querySelector('#df-fc3829a7-3109-48dd-8185-bba245c907c9 button.colab-df-convert');\n",
              "        buttonEl.style.display =\n",
              "          google.colab.kernel.accessAllowed ? 'block' : 'none';\n",
              "\n",
              "        async function convertToInteractive(key) {\n",
              "          const element = document.querySelector('#df-fc3829a7-3109-48dd-8185-bba245c907c9');\n",
              "          const dataTable =\n",
              "            await google.colab.kernel.invokeFunction('convertToInteractive',\n",
              "                                                     [key], {});\n",
              "          if (!dataTable) return;\n",
              "\n",
              "          const docLinkHtml = 'Like what you see? Visit the ' +\n",
              "            '<a target=\"_blank\" href=https://colab.research.google.com/notebooks/data_table.ipynb>data table notebook</a>'\n",
              "            + ' to learn more about interactive tables.';\n",
              "          element.innerHTML = '';\n",
              "          dataTable['output_type'] = 'display_data';\n",
              "          await google.colab.output.renderOutput(dataTable, element);\n",
              "          const docLink = document.createElement('div');\n",
              "          docLink.innerHTML = docLinkHtml;\n",
              "          element.appendChild(docLink);\n",
              "        }\n",
              "      </script>\n",
              "    </div>\n",
              "  </div>\n",
              "  "
            ]
          },
          "metadata": {},
          "execution_count": 9
        }
      ],
      "source": [
        "data = df\n",
        "data['path'] = df['class'] + '/' + df['filename'] \n",
        "data.head()"
      ]
    },
    {
      "cell_type": "code",
      "execution_count": 10,
      "metadata": {
        "colab": {
          "base_uri": "https://localhost:8080/"
        },
        "id": "fPQwFPY60vH0",
        "outputId": "102cae7f-fda0-4414-bf35-26d9e372ae85"
      },
      "outputs": [
        {
          "output_type": "stream",
          "name": "stdout",
          "text": [
            "(599, 3), (200, 3), (200, 3)\n"
          ]
        }
      ],
      "source": [
        "X_dev, X_test, y_dev, y_test = train_test_split(data, y_new, test_size=0.2, random_state=42)\n",
        "X_train, X_val, y_train, y_val = train_test_split(X_dev, y_dev, test_size=0.25, random_state=42)\n",
        "print(str(X_train.shape) + ', ' + str(X_val.shape) + ', ' + str(X_test.shape))"
      ]
    },
    {
      "cell_type": "code",
      "execution_count": 11,
      "metadata": {
        "colab": {
          "base_uri": "https://localhost:8080/"
        },
        "id": "4rfy9D570vH0",
        "outputId": "af258d85-26fa-4890-d701-d5af24e4d406"
      },
      "outputs": [
        {
          "output_type": "stream",
          "name": "stdout",
          "text": [
            "Found 999 validated image filenames belonging to 10 classes.\n",
            "KerasTensor(type_spec=TensorSpec(shape=(None, 256, 256, 3), dtype=tf.float32, name='input_1'), name='input_1', description=\"created by layer 'input_1'\")\n"
          ]
        }
      ],
      "source": [
        "datagen = ImageDataGenerator(rescale=1.0/255.0)\n",
        "it = datagen.flow_from_dataframe(\n",
        "    data,\n",
        "    x_col=\"path\",\n",
        "    y_col=\"class\", batch_size=1,\n",
        "    directory=path+img_folder)\n",
        "\n",
        "inp = Input(shape = next(it)[0][0].shape)\n",
        "print(inp)"
      ]
    },
    {
      "cell_type": "code",
      "execution_count": 12,
      "metadata": {
        "colab": {
          "base_uri": "https://localhost:8080/"
        },
        "id": "xZ8hB04v0vH1",
        "outputId": "02db56b6-dacc-4e3d-8dbf-0055fe6b2162"
      },
      "outputs": [
        {
          "output_type": "stream",
          "name": "stdout",
          "text": [
            "Downloading data from https://storage.googleapis.com/tensorflow/keras-applications/inception_v3/inception_v3_weights_tf_dim_ordering_tf_kernels_notop.h5\n",
            "87910968/87910968 [==============================] - 5s 0us/step\n"
          ]
        }
      ],
      "source": [
        "inv3_model = inception_v3.InceptionV3(\n",
        "    include_top=False,\n",
        "    weights=\"imagenet\",\n",
        "    classes=10,\n",
        "    input_tensor = inp)\n",
        "\n",
        "for layer in inv3_model.layers:\n",
        "    layer.trainable=False"
      ]
    },
    {
      "cell_type": "code",
      "execution_count": 13,
      "metadata": {
        "colab": {
          "base_uri": "https://localhost:8080/"
        },
        "id": "QqiEJReo0vH1",
        "outputId": "de0182dc-1318-4566-8268-b0a79c5842af"
      },
      "outputs": [
        {
          "output_type": "stream",
          "name": "stdout",
          "text": [
            "Model: \"sequential\"\n",
            "_________________________________________________________________\n",
            " Layer (type)                Output Shape              Param #   \n",
            "=================================================================\n",
            " inception_v3 (Functional)   (None, 6, 6, 2048)        21802784  \n",
            "                                                                 \n",
            " flatten (Flatten)           (None, 73728)             0         \n",
            "                                                                 \n",
            " batch_normalization_94 (Bat  (None, 73728)            294912    \n",
            " chNormalization)                                                \n",
            "                                                                 \n",
            " dense (Dense)               (None, 512)               37749248  \n",
            "                                                                 \n",
            " dropout (Dropout)           (None, 512)               0         \n",
            "                                                                 \n",
            " batch_normalization_95 (Bat  (None, 512)              2048      \n",
            " chNormalization)                                                \n",
            "                                                                 \n",
            " dense_1 (Dense)             (None, 256)               131328    \n",
            "                                                                 \n",
            " dropout_1 (Dropout)         (None, 256)               0         \n",
            "                                                                 \n",
            " dense_2 (Dense)             (None, 10)                2570      \n",
            "                                                                 \n",
            "=================================================================\n",
            "Total params: 59,982,890\n",
            "Trainable params: 38,031,626\n",
            "Non-trainable params: 21,951,264\n",
            "_________________________________________________________________\n",
            "None\n"
          ]
        }
      ],
      "source": [
        "new_model = Sequential()\n",
        "new_model.add(inv3_model)\n",
        "new_model.add(Flatten())\n",
        "new_model.add(BatchNormalization())\n",
        "new_model.add(Dense(512, activation='relu'))\n",
        "new_model.add(Dropout(0.5))\n",
        "new_model.add(BatchNormalization())\n",
        "new_model.add(Dense(256, activation='relu'))\n",
        "new_model.add(Dropout(0.5))\n",
        "new_model.add(Dense(10, activation='softmax'))\n",
        "\n",
        "new_model.compile(loss = 'categorical_crossentropy', optimizer='adam', metrics=['accuracy', AUC()])\n",
        "print(new_model.summary())"
      ]
    },
    {
      "cell_type": "code",
      "execution_count": 14,
      "metadata": {
        "colab": {
          "base_uri": "https://localhost:8080/"
        },
        "id": "fAkhLGdS0vH1",
        "outputId": "8964faf5-0018-402e-9ac6-b58880f9d956"
      },
      "outputs": [
        {
          "output_type": "stream",
          "name": "stdout",
          "text": [
            "Found 599 validated image filenames belonging to 10 classes.\n",
            "Found 200 validated image filenames belonging to 10 classes.\n",
            "Epoch 1/500\n",
            "19/19 [==============================] - 381s 19s/step - loss: 2.6932 - accuracy: 0.2137 - auc: 0.6498 - val_loss: 2.9571 - val_accuracy: 0.2900 - val_auc: 0.7181\n",
            "Epoch 2/500\n",
            "19/19 [==============================] - 8s 403ms/step - loss: 2.0639 - accuracy: 0.3222 - auc: 0.7774 - val_loss: 2.2525 - val_accuracy: 0.3000 - val_auc: 0.7481\n",
            "Epoch 3/500\n",
            "19/19 [==============================] - 6s 342ms/step - loss: 1.7489 - accuracy: 0.4073 - auc: 0.8305 - val_loss: 1.9969 - val_accuracy: 0.3700 - val_auc: 0.7645\n",
            "Epoch 4/500\n",
            "19/19 [==============================] - 7s 393ms/step - loss: 1.5851 - accuracy: 0.4541 - auc: 0.8587 - val_loss: 1.9078 - val_accuracy: 0.4350 - val_auc: 0.7774\n",
            "Epoch 5/500\n",
            "19/19 [==============================] - 7s 344ms/step - loss: 1.3868 - accuracy: 0.5175 - auc: 0.8906 - val_loss: 1.8246 - val_accuracy: 0.4050 - val_auc: 0.7920\n",
            "Epoch 6/500\n",
            "19/19 [==============================] - 8s 449ms/step - loss: 1.2477 - accuracy: 0.5860 - auc: 0.9090 - val_loss: 1.8046 - val_accuracy: 0.4250 - val_auc: 0.7937\n",
            "Epoch 7/500\n",
            "19/19 [==============================] - 6s 332ms/step - loss: 1.0583 - accuracy: 0.6377 - auc: 0.9362 - val_loss: 1.7792 - val_accuracy: 0.4150 - val_auc: 0.8009\n",
            "Epoch 8/500\n",
            "19/19 [==============================] - 7s 392ms/step - loss: 0.9234 - accuracy: 0.6861 - auc: 0.9513 - val_loss: 1.7443 - val_accuracy: 0.4300 - val_auc: 0.8103\n",
            "Epoch 9/500\n",
            "19/19 [==============================] - 7s 345ms/step - loss: 0.8068 - accuracy: 0.7312 - auc: 0.9620 - val_loss: 1.7419 - val_accuracy: 0.4100 - val_auc: 0.8128\n",
            "Epoch 10/500\n",
            "19/19 [==============================] - 7s 386ms/step - loss: 0.6314 - accuracy: 0.7963 - auc: 0.9773 - val_loss: 1.7829 - val_accuracy: 0.4100 - val_auc: 0.8078\n",
            "Epoch 11/500\n",
            "19/19 [==============================] - 6s 340ms/step - loss: 0.5418 - accuracy: 0.8147 - auc: 0.9844 - val_loss: 1.7680 - val_accuracy: 0.4200 - val_auc: 0.8177\n",
            "Epoch 12/500\n",
            "19/19 [==============================] - 7s 398ms/step - loss: 0.4370 - accuracy: 0.8598 - auc: 0.9901 - val_loss: 1.7735 - val_accuracy: 0.4400 - val_auc: 0.8182\n",
            "Epoch 13/500\n",
            "19/19 [==============================] - 7s 342ms/step - loss: 0.3667 - accuracy: 0.8798 - auc: 0.9933 - val_loss: 1.7999 - val_accuracy: 0.4250 - val_auc: 0.8149\n",
            "Epoch 14/500\n",
            "19/19 [==============================] - 7s 384ms/step - loss: 0.3525 - accuracy: 0.8898 - auc: 0.9931 - val_loss: 1.7980 - val_accuracy: 0.4350 - val_auc: 0.8231\n",
            "Epoch 15/500\n",
            "19/19 [==============================] - 6s 332ms/step - loss: 0.2789 - accuracy: 0.9165 - auc: 0.9955 - val_loss: 1.8431 - val_accuracy: 0.4400 - val_auc: 0.8179\n",
            "Epoch 16/500\n",
            "19/19 [==============================] - 7s 379ms/step - loss: 0.2404 - accuracy: 0.9316 - auc: 0.9973 - val_loss: 1.8808 - val_accuracy: 0.4300 - val_auc: 0.8172\n",
            "Epoch 17/500\n",
            "19/19 [==============================] - 6s 331ms/step - loss: 0.2401 - accuracy: 0.9199 - auc: 0.9971 - val_loss: 1.9175 - val_accuracy: 0.4150 - val_auc: 0.8180\n",
            "Epoch 18/500\n",
            "19/19 [==============================] - 7s 383ms/step - loss: 0.1752 - accuracy: 0.9533 - auc: 0.9985 - val_loss: 1.9823 - val_accuracy: 0.4150 - val_auc: 0.8124\n",
            "Epoch 19/500\n",
            "19/19 [==============================] - 7s 389ms/step - loss: 0.1403 - accuracy: 0.9583 - auc: 0.9991 - val_loss: 1.9981 - val_accuracy: 0.4250 - val_auc: 0.8076\n",
            "Epoch 20/500\n",
            "19/19 [==============================] - 7s 369ms/step - loss: 0.1529 - accuracy: 0.9583 - auc: 0.9989 - val_loss: 2.0490 - val_accuracy: 0.4250 - val_auc: 0.8107\n",
            "Epoch 21/500\n",
            "19/19 [==============================] - 7s 386ms/step - loss: 0.1487 - accuracy: 0.9499 - auc: 0.9988 - val_loss: 2.0537 - val_accuracy: 0.4200 - val_auc: 0.8156\n",
            "Epoch 22/500\n",
            "19/19 [==============================] - 6s 333ms/step - loss: 0.1328 - accuracy: 0.9633 - auc: 0.9992 - val_loss: 2.1521 - val_accuracy: 0.4250 - val_auc: 0.8060\n",
            "Epoch 23/500\n",
            "19/19 [==============================] - 7s 376ms/step - loss: 0.1160 - accuracy: 0.9683 - auc: 0.9994 - val_loss: 2.1774 - val_accuracy: 0.4200 - val_auc: 0.8084\n",
            "Epoch 24/500\n",
            "19/19 [==============================] - 6s 333ms/step - loss: 0.1054 - accuracy: 0.9683 - auc: 0.9995 - val_loss: 2.2664 - val_accuracy: 0.4050 - val_auc: 0.8047\n",
            "Epoch 25/500\n",
            "19/19 [==============================] - 7s 394ms/step - loss: 0.1076 - accuracy: 0.9683 - auc: 0.9994 - val_loss: 2.2630 - val_accuracy: 0.4450 - val_auc: 0.8071\n",
            "Epoch 26/500\n",
            "19/19 [==============================] - 6s 339ms/step - loss: 0.0826 - accuracy: 0.9816 - auc: 0.9996 - val_loss: 2.2177 - val_accuracy: 0.4450 - val_auc: 0.8120\n",
            "Epoch 27/500\n",
            "19/19 [==============================] - 7s 385ms/step - loss: 0.0856 - accuracy: 0.9750 - auc: 0.9997 - val_loss: 2.2835 - val_accuracy: 0.4450 - val_auc: 0.8067\n",
            "Epoch 28/500\n",
            "19/19 [==============================] - 7s 349ms/step - loss: 0.0857 - accuracy: 0.9783 - auc: 0.9996 - val_loss: 2.2728 - val_accuracy: 0.4600 - val_auc: 0.8187\n",
            "Epoch 29/500\n",
            "19/19 [==============================] - 8s 403ms/step - loss: 0.0723 - accuracy: 0.9750 - auc: 0.9998 - val_loss: 2.3867 - val_accuracy: 0.4850 - val_auc: 0.8041\n",
            "Epoch 30/500\n",
            "19/19 [==============================] - 7s 387ms/step - loss: 0.0502 - accuracy: 0.9866 - auc: 0.9999 - val_loss: 2.4160 - val_accuracy: 0.4600 - val_auc: 0.8008\n",
            "Epoch 31/500\n",
            "19/19 [==============================] - 7s 376ms/step - loss: 0.0547 - accuracy: 0.9833 - auc: 0.9990 - val_loss: 2.3626 - val_accuracy: 0.4500 - val_auc: 0.8160\n",
            "Epoch 32/500\n",
            "19/19 [==============================] - 6s 326ms/step - loss: 0.0566 - accuracy: 0.9850 - auc: 0.9999 - val_loss: 2.4206 - val_accuracy: 0.4250 - val_auc: 0.8186\n",
            "Epoch 33/500\n",
            "19/19 [==============================] - 7s 372ms/step - loss: 0.0769 - accuracy: 0.9750 - auc: 0.9997 - val_loss: 2.4290 - val_accuracy: 0.4350 - val_auc: 0.8071\n",
            "Epoch 34/500\n",
            "19/19 [==============================] - 7s 379ms/step - loss: 0.0650 - accuracy: 0.9766 - auc: 0.9998 - val_loss: 2.5729 - val_accuracy: 0.4350 - val_auc: 0.8025\n",
            "Epoch 35/500\n",
            "19/19 [==============================] - 6s 331ms/step - loss: 0.0498 - accuracy: 0.9866 - auc: 0.9999 - val_loss: 2.6379 - val_accuracy: 0.4200 - val_auc: 0.7988\n",
            "Epoch 36/500\n",
            "19/19 [==============================] - 7s 390ms/step - loss: 0.0675 - accuracy: 0.9750 - auc: 0.9998 - val_loss: 2.6914 - val_accuracy: 0.4200 - val_auc: 0.7862\n",
            "Epoch 37/500\n",
            "19/19 [==============================] - 6s 335ms/step - loss: 0.0383 - accuracy: 0.9917 - auc: 1.0000 - val_loss: 2.6160 - val_accuracy: 0.4350 - val_auc: 0.8004\n",
            "Epoch 38/500\n",
            "19/19 [==============================] - 7s 392ms/step - loss: 0.0461 - accuracy: 0.9866 - auc: 0.9998 - val_loss: 2.5534 - val_accuracy: 0.4300 - val_auc: 0.7996\n",
            "Epoch 39/500\n",
            "19/19 [==============================] - 6s 333ms/step - loss: 0.0543 - accuracy: 0.9850 - auc: 0.9999 - val_loss: 2.6586 - val_accuracy: 0.4400 - val_auc: 0.7868\n",
            "Epoch 40/500\n",
            "19/19 [==============================] - 7s 379ms/step - loss: 0.0444 - accuracy: 0.9866 - auc: 0.9999 - val_loss: 2.7227 - val_accuracy: 0.4350 - val_auc: 0.7879\n",
            "Epoch 41/500\n",
            "19/19 [==============================] - 6s 340ms/step - loss: 0.0608 - accuracy: 0.9766 - auc: 0.9998 - val_loss: 2.7435 - val_accuracy: 0.4300 - val_auc: 0.7873\n",
            "Epoch 42/500\n",
            "19/19 [==============================] - 7s 380ms/step - loss: 0.0462 - accuracy: 0.9883 - auc: 0.9999 - val_loss: 2.8869 - val_accuracy: 0.4000 - val_auc: 0.7793\n",
            "Epoch 43/500\n",
            "19/19 [==============================] - 6s 331ms/step - loss: 0.0388 - accuracy: 0.9917 - auc: 0.9999 - val_loss: 2.7369 - val_accuracy: 0.4250 - val_auc: 0.7876\n",
            "Epoch 44/500\n",
            "19/19 [==============================] - 7s 380ms/step - loss: 0.0562 - accuracy: 0.9833 - auc: 0.9998 - val_loss: 2.7646 - val_accuracy: 0.4150 - val_auc: 0.7873\n",
            "Epoch 45/500\n",
            "19/19 [==============================] - 6s 333ms/step - loss: 0.0441 - accuracy: 0.9917 - auc: 0.9999 - val_loss: 2.7743 - val_accuracy: 0.4750 - val_auc: 0.7925\n",
            "Epoch 46/500\n",
            "19/19 [==============================] - 7s 381ms/step - loss: 0.0380 - accuracy: 0.9917 - auc: 0.9999 - val_loss: 2.8172 - val_accuracy: 0.4300 - val_auc: 0.7859\n",
            "Epoch 47/500\n",
            "19/19 [==============================] - 6s 331ms/step - loss: 0.0551 - accuracy: 0.9816 - auc: 0.9999 - val_loss: 2.8515 - val_accuracy: 0.4350 - val_auc: 0.7852\n",
            "Epoch 48/500\n",
            "19/19 [==============================] - 7s 389ms/step - loss: 0.0597 - accuracy: 0.9850 - auc: 0.9998 - val_loss: 2.8486 - val_accuracy: 0.4050 - val_auc: 0.7870\n",
            "Epoch 49/500\n",
            "19/19 [==============================] - 7s 369ms/step - loss: 0.0337 - accuracy: 0.9917 - auc: 0.9999 - val_loss: 2.8487 - val_accuracy: 0.4100 - val_auc: 0.7906\n"
          ]
        }
      ],
      "source": [
        "es = EarlyStopping(\n",
        "    monitor='val_accuracy', \n",
        "    restore_best_weights=True, \n",
        "    patience=20, \n",
        "    min_delta = 0.001\n",
        ")\n",
        "\n",
        "history = new_model.fit(datagen.flow_from_dataframe(X_train,\n",
        "                                                    x_col=\"path\",\n",
        "                                                    y_col=\"class\",\n",
        "                                                    batch_size = 32, \n",
        "                                                    directory = path + img_folder), \n",
        "                        validation_data=datagen.flow_from_dataframe(X_val,\n",
        "                                                                    x_col=\"path\",\n",
        "                                                                    y_col=\"class\",\n",
        "                                                                    batch_size=32, \n",
        "                                                                    directory = path + img_folder),\n",
        "                        epochs=500,                        callbacks=[es])"
      ]
    },
    {
      "cell_type": "code",
      "source": [
        "test_gen = datagen.flow_from_dataframe(X_test, \n",
        "                                        x_col=\"path\", \n",
        "                                        y_col=\"class\", \n",
        "                                        batch_size=32, \n",
        "                                        class_mode='categorical',\n",
        "                                        shuffle = False,\n",
        "                                        directory = path + img_folder)\n",
        "\n",
        "labels = pd.get_dummies(np.array(test_gen.labels))\n",
        "y_pred = new_model.predict(test_gen)\n",
        "\n",
        "y_pred_classes = np.argmax(np.array(y_pred), axis=1)\n",
        "y_true = np.argmax(np.array(labels), axis=1)\n",
        "\n",
        "m = AUC()\n",
        "m.update_state(labels, y_pred)\n",
        "\n",
        "print(\"Accuracy of the Test dataset:\", accuracy_score(y_pred_classes, y_true))\n",
        "print(\"AUC of the Test dataset:\", m.result().numpy())"
      ],
      "metadata": {
        "colab": {
          "base_uri": "https://localhost:8080/"
        },
        "id": "xfH6q9cvTyDT",
        "outputId": "771a1429-e60f-4ceb-b03e-fc597310b80b"
      },
      "execution_count": 15,
      "outputs": [
        {
          "output_type": "stream",
          "name": "stdout",
          "text": [
            "Found 200 validated image filenames belonging to 10 classes.\n",
            "7/7 [==============================] - 86s 14s/step\n",
            "Accuracy of the Test dataset: 0.445\n",
            "AUC of the Test dataset: 0.8072722\n"
          ]
        }
      ]
    },
    {
      "cell_type": "markdown",
      "source": [
        "### MFCC"
      ],
      "metadata": {
        "id": "sFuy1lqSPq61"
      }
    },
    {
      "cell_type": "code",
      "execution_count": 16,
      "metadata": {
        "id": "Qb-cXuvdP1vu"
      },
      "outputs": [],
      "source": [
        "img_folder = \"MFCC/\"\n",
        "df = pd.DataFrame()\n",
        "g_list = []\n",
        "file_list = []\n",
        "\n",
        "for genre in genre_dict:\n",
        "    for file_name in os.listdir(path + img_folder + genre):\n",
        "        if file_name.endswith(\".png\"):\n",
        "            file_list.append(file_name)\n",
        "            g_list.append(genre)\n",
        "    \n",
        "df['filename'] = file_list\n",
        "df['class'] = g_list"
      ]
    },
    {
      "cell_type": "code",
      "execution_count": 17,
      "metadata": {
        "colab": {
          "base_uri": "https://localhost:8080/"
        },
        "outputId": "19c84d4f-9fb1-4f2b-9753-03a08f48d77b",
        "id": "uq9gey6aP1vu"
      },
      "outputs": [
        {
          "output_type": "execute_result",
          "data": {
            "text/plain": [
              "blues        100\n",
              "classical    100\n",
              "country      100\n",
              "disco        100\n",
              "hiphop       100\n",
              "metal        100\n",
              "pop          100\n",
              "reggae       100\n",
              "rock         100\n",
              "jazz          99\n",
              "Name: class, dtype: int64"
            ]
          },
          "metadata": {},
          "execution_count": 17
        }
      ],
      "source": [
        "df['class'].value_counts()"
      ]
    },
    {
      "cell_type": "code",
      "execution_count": 18,
      "metadata": {
        "colab": {
          "base_uri": "https://localhost:8080/"
        },
        "outputId": "5e9e0ebf-52f1-4650-ff5b-54cabb014823",
        "id": "yqe1mEfTP1vv"
      },
      "outputs": [
        {
          "output_type": "execute_result",
          "data": {
            "text/plain": [
              "(999,)"
            ]
          },
          "metadata": {},
          "execution_count": 18
        }
      ],
      "source": [
        "x = np.array(df['filename'].tolist())\n",
        "x.shape"
      ]
    },
    {
      "cell_type": "code",
      "execution_count": 19,
      "metadata": {
        "colab": {
          "base_uri": "https://localhost:8080/",
          "height": 224
        },
        "outputId": "b6560102-2962-4c8f-8d6f-3cf799f6b90d",
        "id": "LZ5uP0nlP1vv"
      },
      "outputs": [
        {
          "output_type": "stream",
          "name": "stdout",
          "text": [
            "(999, 10)\n"
          ]
        },
        {
          "output_type": "execute_result",
          "data": {
            "text/plain": [
              "   blues  classical  country  disco  hiphop  jazz  metal  pop  reggae  rock\n",
              "0      1          0        0      0       0     0      0    0       0     0\n",
              "1      1          0        0      0       0     0      0    0       0     0\n",
              "2      1          0        0      0       0     0      0    0       0     0\n",
              "3      1          0        0      0       0     0      0    0       0     0\n",
              "4      1          0        0      0       0     0      0    0       0     0"
            ],
            "text/html": [
              "\n",
              "  <div id=\"df-b4f038c1-f4d1-44a6-9637-8d3f8a4fe4d7\">\n",
              "    <div class=\"colab-df-container\">\n",
              "      <div>\n",
              "<style scoped>\n",
              "    .dataframe tbody tr th:only-of-type {\n",
              "        vertical-align: middle;\n",
              "    }\n",
              "\n",
              "    .dataframe tbody tr th {\n",
              "        vertical-align: top;\n",
              "    }\n",
              "\n",
              "    .dataframe thead th {\n",
              "        text-align: right;\n",
              "    }\n",
              "</style>\n",
              "<table border=\"1\" class=\"dataframe\">\n",
              "  <thead>\n",
              "    <tr style=\"text-align: right;\">\n",
              "      <th></th>\n",
              "      <th>blues</th>\n",
              "      <th>classical</th>\n",
              "      <th>country</th>\n",
              "      <th>disco</th>\n",
              "      <th>hiphop</th>\n",
              "      <th>jazz</th>\n",
              "      <th>metal</th>\n",
              "      <th>pop</th>\n",
              "      <th>reggae</th>\n",
              "      <th>rock</th>\n",
              "    </tr>\n",
              "  </thead>\n",
              "  <tbody>\n",
              "    <tr>\n",
              "      <th>0</th>\n",
              "      <td>1</td>\n",
              "      <td>0</td>\n",
              "      <td>0</td>\n",
              "      <td>0</td>\n",
              "      <td>0</td>\n",
              "      <td>0</td>\n",
              "      <td>0</td>\n",
              "      <td>0</td>\n",
              "      <td>0</td>\n",
              "      <td>0</td>\n",
              "    </tr>\n",
              "    <tr>\n",
              "      <th>1</th>\n",
              "      <td>1</td>\n",
              "      <td>0</td>\n",
              "      <td>0</td>\n",
              "      <td>0</td>\n",
              "      <td>0</td>\n",
              "      <td>0</td>\n",
              "      <td>0</td>\n",
              "      <td>0</td>\n",
              "      <td>0</td>\n",
              "      <td>0</td>\n",
              "    </tr>\n",
              "    <tr>\n",
              "      <th>2</th>\n",
              "      <td>1</td>\n",
              "      <td>0</td>\n",
              "      <td>0</td>\n",
              "      <td>0</td>\n",
              "      <td>0</td>\n",
              "      <td>0</td>\n",
              "      <td>0</td>\n",
              "      <td>0</td>\n",
              "      <td>0</td>\n",
              "      <td>0</td>\n",
              "    </tr>\n",
              "    <tr>\n",
              "      <th>3</th>\n",
              "      <td>1</td>\n",
              "      <td>0</td>\n",
              "      <td>0</td>\n",
              "      <td>0</td>\n",
              "      <td>0</td>\n",
              "      <td>0</td>\n",
              "      <td>0</td>\n",
              "      <td>0</td>\n",
              "      <td>0</td>\n",
              "      <td>0</td>\n",
              "    </tr>\n",
              "    <tr>\n",
              "      <th>4</th>\n",
              "      <td>1</td>\n",
              "      <td>0</td>\n",
              "      <td>0</td>\n",
              "      <td>0</td>\n",
              "      <td>0</td>\n",
              "      <td>0</td>\n",
              "      <td>0</td>\n",
              "      <td>0</td>\n",
              "      <td>0</td>\n",
              "      <td>0</td>\n",
              "    </tr>\n",
              "  </tbody>\n",
              "</table>\n",
              "</div>\n",
              "      <button class=\"colab-df-convert\" onclick=\"convertToInteractive('df-b4f038c1-f4d1-44a6-9637-8d3f8a4fe4d7')\"\n",
              "              title=\"Convert this dataframe to an interactive table.\"\n",
              "              style=\"display:none;\">\n",
              "        \n",
              "  <svg xmlns=\"http://www.w3.org/2000/svg\" height=\"24px\"viewBox=\"0 0 24 24\"\n",
              "       width=\"24px\">\n",
              "    <path d=\"M0 0h24v24H0V0z\" fill=\"none\"/>\n",
              "    <path d=\"M18.56 5.44l.94 2.06.94-2.06 2.06-.94-2.06-.94-.94-2.06-.94 2.06-2.06.94zm-11 1L8.5 8.5l.94-2.06 2.06-.94-2.06-.94L8.5 2.5l-.94 2.06-2.06.94zm10 10l.94 2.06.94-2.06 2.06-.94-2.06-.94-.94-2.06-.94 2.06-2.06.94z\"/><path d=\"M17.41 7.96l-1.37-1.37c-.4-.4-.92-.59-1.43-.59-.52 0-1.04.2-1.43.59L10.3 9.45l-7.72 7.72c-.78.78-.78 2.05 0 2.83L4 21.41c.39.39.9.59 1.41.59.51 0 1.02-.2 1.41-.59l7.78-7.78 2.81-2.81c.8-.78.8-2.07 0-2.86zM5.41 20L4 18.59l7.72-7.72 1.47 1.35L5.41 20z\"/>\n",
              "  </svg>\n",
              "      </button>\n",
              "      \n",
              "  <style>\n",
              "    .colab-df-container {\n",
              "      display:flex;\n",
              "      flex-wrap:wrap;\n",
              "      gap: 12px;\n",
              "    }\n",
              "\n",
              "    .colab-df-convert {\n",
              "      background-color: #E8F0FE;\n",
              "      border: none;\n",
              "      border-radius: 50%;\n",
              "      cursor: pointer;\n",
              "      display: none;\n",
              "      fill: #1967D2;\n",
              "      height: 32px;\n",
              "      padding: 0 0 0 0;\n",
              "      width: 32px;\n",
              "    }\n",
              "\n",
              "    .colab-df-convert:hover {\n",
              "      background-color: #E2EBFA;\n",
              "      box-shadow: 0px 1px 2px rgba(60, 64, 67, 0.3), 0px 1px 3px 1px rgba(60, 64, 67, 0.15);\n",
              "      fill: #174EA6;\n",
              "    }\n",
              "\n",
              "    [theme=dark] .colab-df-convert {\n",
              "      background-color: #3B4455;\n",
              "      fill: #D2E3FC;\n",
              "    }\n",
              "\n",
              "    [theme=dark] .colab-df-convert:hover {\n",
              "      background-color: #434B5C;\n",
              "      box-shadow: 0px 1px 3px 1px rgba(0, 0, 0, 0.15);\n",
              "      filter: drop-shadow(0px 1px 2px rgba(0, 0, 0, 0.3));\n",
              "      fill: #FFFFFF;\n",
              "    }\n",
              "  </style>\n",
              "\n",
              "      <script>\n",
              "        const buttonEl =\n",
              "          document.querySelector('#df-b4f038c1-f4d1-44a6-9637-8d3f8a4fe4d7 button.colab-df-convert');\n",
              "        buttonEl.style.display =\n",
              "          google.colab.kernel.accessAllowed ? 'block' : 'none';\n",
              "\n",
              "        async function convertToInteractive(key) {\n",
              "          const element = document.querySelector('#df-b4f038c1-f4d1-44a6-9637-8d3f8a4fe4d7');\n",
              "          const dataTable =\n",
              "            await google.colab.kernel.invokeFunction('convertToInteractive',\n",
              "                                                     [key], {});\n",
              "          if (!dataTable) return;\n",
              "\n",
              "          const docLinkHtml = 'Like what you see? Visit the ' +\n",
              "            '<a target=\"_blank\" href=https://colab.research.google.com/notebooks/data_table.ipynb>data table notebook</a>'\n",
              "            + ' to learn more about interactive tables.';\n",
              "          element.innerHTML = '';\n",
              "          dataTable['output_type'] = 'display_data';\n",
              "          await google.colab.output.renderOutput(dataTable, element);\n",
              "          const docLink = document.createElement('div');\n",
              "          docLink.innerHTML = docLinkHtml;\n",
              "          element.appendChild(docLink);\n",
              "        }\n",
              "      </script>\n",
              "    </div>\n",
              "  </div>\n",
              "  "
            ]
          },
          "metadata": {},
          "execution_count": 19
        }
      ],
      "source": [
        "y = np.array(df['class'].tolist())\n",
        "y_new = pd.get_dummies(y)\n",
        "print(y_new.shape)\n",
        "y_new.head()"
      ]
    },
    {
      "cell_type": "code",
      "execution_count": 20,
      "metadata": {
        "colab": {
          "base_uri": "https://localhost:8080/",
          "height": 206
        },
        "outputId": "5d7cb058-3091-4dc4-f7c9-5f9c6e8c6c8f",
        "id": "sJdXo5kLP1vv"
      },
      "outputs": [
        {
          "output_type": "execute_result",
          "data": {
            "text/plain": [
              "          filename  class                   path\n",
              "0  blues.00000.png  blues  blues/blues.00000.png\n",
              "1  blues.00001.png  blues  blues/blues.00001.png\n",
              "2  blues.00002.png  blues  blues/blues.00002.png\n",
              "3  blues.00003.png  blues  blues/blues.00003.png\n",
              "4  blues.00004.png  blues  blues/blues.00004.png"
            ],
            "text/html": [
              "\n",
              "  <div id=\"df-783d329f-d8b8-4d4b-b4de-1e4de5774348\">\n",
              "    <div class=\"colab-df-container\">\n",
              "      <div>\n",
              "<style scoped>\n",
              "    .dataframe tbody tr th:only-of-type {\n",
              "        vertical-align: middle;\n",
              "    }\n",
              "\n",
              "    .dataframe tbody tr th {\n",
              "        vertical-align: top;\n",
              "    }\n",
              "\n",
              "    .dataframe thead th {\n",
              "        text-align: right;\n",
              "    }\n",
              "</style>\n",
              "<table border=\"1\" class=\"dataframe\">\n",
              "  <thead>\n",
              "    <tr style=\"text-align: right;\">\n",
              "      <th></th>\n",
              "      <th>filename</th>\n",
              "      <th>class</th>\n",
              "      <th>path</th>\n",
              "    </tr>\n",
              "  </thead>\n",
              "  <tbody>\n",
              "    <tr>\n",
              "      <th>0</th>\n",
              "      <td>blues.00000.png</td>\n",
              "      <td>blues</td>\n",
              "      <td>blues/blues.00000.png</td>\n",
              "    </tr>\n",
              "    <tr>\n",
              "      <th>1</th>\n",
              "      <td>blues.00001.png</td>\n",
              "      <td>blues</td>\n",
              "      <td>blues/blues.00001.png</td>\n",
              "    </tr>\n",
              "    <tr>\n",
              "      <th>2</th>\n",
              "      <td>blues.00002.png</td>\n",
              "      <td>blues</td>\n",
              "      <td>blues/blues.00002.png</td>\n",
              "    </tr>\n",
              "    <tr>\n",
              "      <th>3</th>\n",
              "      <td>blues.00003.png</td>\n",
              "      <td>blues</td>\n",
              "      <td>blues/blues.00003.png</td>\n",
              "    </tr>\n",
              "    <tr>\n",
              "      <th>4</th>\n",
              "      <td>blues.00004.png</td>\n",
              "      <td>blues</td>\n",
              "      <td>blues/blues.00004.png</td>\n",
              "    </tr>\n",
              "  </tbody>\n",
              "</table>\n",
              "</div>\n",
              "      <button class=\"colab-df-convert\" onclick=\"convertToInteractive('df-783d329f-d8b8-4d4b-b4de-1e4de5774348')\"\n",
              "              title=\"Convert this dataframe to an interactive table.\"\n",
              "              style=\"display:none;\">\n",
              "        \n",
              "  <svg xmlns=\"http://www.w3.org/2000/svg\" height=\"24px\"viewBox=\"0 0 24 24\"\n",
              "       width=\"24px\">\n",
              "    <path d=\"M0 0h24v24H0V0z\" fill=\"none\"/>\n",
              "    <path d=\"M18.56 5.44l.94 2.06.94-2.06 2.06-.94-2.06-.94-.94-2.06-.94 2.06-2.06.94zm-11 1L8.5 8.5l.94-2.06 2.06-.94-2.06-.94L8.5 2.5l-.94 2.06-2.06.94zm10 10l.94 2.06.94-2.06 2.06-.94-2.06-.94-.94-2.06-.94 2.06-2.06.94z\"/><path d=\"M17.41 7.96l-1.37-1.37c-.4-.4-.92-.59-1.43-.59-.52 0-1.04.2-1.43.59L10.3 9.45l-7.72 7.72c-.78.78-.78 2.05 0 2.83L4 21.41c.39.39.9.59 1.41.59.51 0 1.02-.2 1.41-.59l7.78-7.78 2.81-2.81c.8-.78.8-2.07 0-2.86zM5.41 20L4 18.59l7.72-7.72 1.47 1.35L5.41 20z\"/>\n",
              "  </svg>\n",
              "      </button>\n",
              "      \n",
              "  <style>\n",
              "    .colab-df-container {\n",
              "      display:flex;\n",
              "      flex-wrap:wrap;\n",
              "      gap: 12px;\n",
              "    }\n",
              "\n",
              "    .colab-df-convert {\n",
              "      background-color: #E8F0FE;\n",
              "      border: none;\n",
              "      border-radius: 50%;\n",
              "      cursor: pointer;\n",
              "      display: none;\n",
              "      fill: #1967D2;\n",
              "      height: 32px;\n",
              "      padding: 0 0 0 0;\n",
              "      width: 32px;\n",
              "    }\n",
              "\n",
              "    .colab-df-convert:hover {\n",
              "      background-color: #E2EBFA;\n",
              "      box-shadow: 0px 1px 2px rgba(60, 64, 67, 0.3), 0px 1px 3px 1px rgba(60, 64, 67, 0.15);\n",
              "      fill: #174EA6;\n",
              "    }\n",
              "\n",
              "    [theme=dark] .colab-df-convert {\n",
              "      background-color: #3B4455;\n",
              "      fill: #D2E3FC;\n",
              "    }\n",
              "\n",
              "    [theme=dark] .colab-df-convert:hover {\n",
              "      background-color: #434B5C;\n",
              "      box-shadow: 0px 1px 3px 1px rgba(0, 0, 0, 0.15);\n",
              "      filter: drop-shadow(0px 1px 2px rgba(0, 0, 0, 0.3));\n",
              "      fill: #FFFFFF;\n",
              "    }\n",
              "  </style>\n",
              "\n",
              "      <script>\n",
              "        const buttonEl =\n",
              "          document.querySelector('#df-783d329f-d8b8-4d4b-b4de-1e4de5774348 button.colab-df-convert');\n",
              "        buttonEl.style.display =\n",
              "          google.colab.kernel.accessAllowed ? 'block' : 'none';\n",
              "\n",
              "        async function convertToInteractive(key) {\n",
              "          const element = document.querySelector('#df-783d329f-d8b8-4d4b-b4de-1e4de5774348');\n",
              "          const dataTable =\n",
              "            await google.colab.kernel.invokeFunction('convertToInteractive',\n",
              "                                                     [key], {});\n",
              "          if (!dataTable) return;\n",
              "\n",
              "          const docLinkHtml = 'Like what you see? Visit the ' +\n",
              "            '<a target=\"_blank\" href=https://colab.research.google.com/notebooks/data_table.ipynb>data table notebook</a>'\n",
              "            + ' to learn more about interactive tables.';\n",
              "          element.innerHTML = '';\n",
              "          dataTable['output_type'] = 'display_data';\n",
              "          await google.colab.output.renderOutput(dataTable, element);\n",
              "          const docLink = document.createElement('div');\n",
              "          docLink.innerHTML = docLinkHtml;\n",
              "          element.appendChild(docLink);\n",
              "        }\n",
              "      </script>\n",
              "    </div>\n",
              "  </div>\n",
              "  "
            ]
          },
          "metadata": {},
          "execution_count": 20
        }
      ],
      "source": [
        "data = df\n",
        "data['path'] = df['class'] + '/' + df['filename'] \n",
        "data.head()"
      ]
    },
    {
      "cell_type": "code",
      "execution_count": 21,
      "metadata": {
        "colab": {
          "base_uri": "https://localhost:8080/"
        },
        "outputId": "1c909bd4-52cf-4c32-f0aa-0bdba30c5489",
        "id": "Cv3qE9e5P1vv"
      },
      "outputs": [
        {
          "output_type": "stream",
          "name": "stdout",
          "text": [
            "(599, 3), (200, 3), (200, 3)\n"
          ]
        }
      ],
      "source": [
        "X_dev, X_test, y_dev, y_test = train_test_split(data, y_new, test_size=0.2, random_state=42)\n",
        "X_train, X_val, y_train, y_val = train_test_split(X_dev, y_dev, test_size=0.25, random_state=42)\n",
        "print(str(X_train.shape) + ', ' + str(X_val.shape) + ', ' + str(X_test.shape))"
      ]
    },
    {
      "cell_type": "code",
      "execution_count": 22,
      "metadata": {
        "colab": {
          "base_uri": "https://localhost:8080/"
        },
        "outputId": "099a9ff6-edf8-4fa4-cc5c-d8191c9e4a80",
        "id": "Qc99cOdsP1vv"
      },
      "outputs": [
        {
          "output_type": "stream",
          "name": "stdout",
          "text": [
            "Found 999 validated image filenames belonging to 10 classes.\n",
            "KerasTensor(type_spec=TensorSpec(shape=(None, 256, 256, 3), dtype=tf.float32, name='input_2'), name='input_2', description=\"created by layer 'input_2'\")\n"
          ]
        }
      ],
      "source": [
        "datagen = ImageDataGenerator(rescale=1.0/255.0)\n",
        "it = datagen.flow_from_dataframe(\n",
        "    data,\n",
        "    x_col=\"path\",\n",
        "    y_col=\"class\",batch_size=1,\n",
        "    directory=path+img_folder)\n",
        "\n",
        "inp = Input(shape = next(it)[0][0].shape)\n",
        "print(inp)"
      ]
    },
    {
      "cell_type": "code",
      "execution_count": 23,
      "metadata": {
        "colab": {
          "base_uri": "https://localhost:8080/",
          "height": 424
        },
        "outputId": "342e2bcd-f2dc-4b8d-8611-6373e6112f2a",
        "id": "4aiRDU_GP1vv"
      },
      "outputs": [
        {
          "output_type": "execute_result",
          "data": {
            "text/plain": [
              "              filename    class                       path\n",
              "453   hiphop.00053.png   hiphop    hiphop/hiphop.00053.png\n",
              "793      pop.00094.png      pop          pop/pop.00094.png\n",
              "209  country.00009.png  country  country/country.00009.png\n",
              "309    disco.00009.png    disco      disco/disco.00009.png\n",
              "740      pop.00041.png      pop          pop/pop.00041.png\n",
              "..                 ...      ...                        ...\n",
              "78     blues.00078.png    blues      blues/blues.00078.png\n",
              "29     blues.00029.png    blues      blues/blues.00029.png\n",
              "277  country.00077.png  country  country/country.00077.png\n",
              "261  country.00061.png  country  country/country.00061.png\n",
              "423   hiphop.00023.png   hiphop    hiphop/hiphop.00023.png\n",
              "\n",
              "[200 rows x 3 columns]"
            ],
            "text/html": [
              "\n",
              "  <div id=\"df-ba624049-106a-46fd-9b07-d3e9c6f59cd3\">\n",
              "    <div class=\"colab-df-container\">\n",
              "      <div>\n",
              "<style scoped>\n",
              "    .dataframe tbody tr th:only-of-type {\n",
              "        vertical-align: middle;\n",
              "    }\n",
              "\n",
              "    .dataframe tbody tr th {\n",
              "        vertical-align: top;\n",
              "    }\n",
              "\n",
              "    .dataframe thead th {\n",
              "        text-align: right;\n",
              "    }\n",
              "</style>\n",
              "<table border=\"1\" class=\"dataframe\">\n",
              "  <thead>\n",
              "    <tr style=\"text-align: right;\">\n",
              "      <th></th>\n",
              "      <th>filename</th>\n",
              "      <th>class</th>\n",
              "      <th>path</th>\n",
              "    </tr>\n",
              "  </thead>\n",
              "  <tbody>\n",
              "    <tr>\n",
              "      <th>453</th>\n",
              "      <td>hiphop.00053.png</td>\n",
              "      <td>hiphop</td>\n",
              "      <td>hiphop/hiphop.00053.png</td>\n",
              "    </tr>\n",
              "    <tr>\n",
              "      <th>793</th>\n",
              "      <td>pop.00094.png</td>\n",
              "      <td>pop</td>\n",
              "      <td>pop/pop.00094.png</td>\n",
              "    </tr>\n",
              "    <tr>\n",
              "      <th>209</th>\n",
              "      <td>country.00009.png</td>\n",
              "      <td>country</td>\n",
              "      <td>country/country.00009.png</td>\n",
              "    </tr>\n",
              "    <tr>\n",
              "      <th>309</th>\n",
              "      <td>disco.00009.png</td>\n",
              "      <td>disco</td>\n",
              "      <td>disco/disco.00009.png</td>\n",
              "    </tr>\n",
              "    <tr>\n",
              "      <th>740</th>\n",
              "      <td>pop.00041.png</td>\n",
              "      <td>pop</td>\n",
              "      <td>pop/pop.00041.png</td>\n",
              "    </tr>\n",
              "    <tr>\n",
              "      <th>...</th>\n",
              "      <td>...</td>\n",
              "      <td>...</td>\n",
              "      <td>...</td>\n",
              "    </tr>\n",
              "    <tr>\n",
              "      <th>78</th>\n",
              "      <td>blues.00078.png</td>\n",
              "      <td>blues</td>\n",
              "      <td>blues/blues.00078.png</td>\n",
              "    </tr>\n",
              "    <tr>\n",
              "      <th>29</th>\n",
              "      <td>blues.00029.png</td>\n",
              "      <td>blues</td>\n",
              "      <td>blues/blues.00029.png</td>\n",
              "    </tr>\n",
              "    <tr>\n",
              "      <th>277</th>\n",
              "      <td>country.00077.png</td>\n",
              "      <td>country</td>\n",
              "      <td>country/country.00077.png</td>\n",
              "    </tr>\n",
              "    <tr>\n",
              "      <th>261</th>\n",
              "      <td>country.00061.png</td>\n",
              "      <td>country</td>\n",
              "      <td>country/country.00061.png</td>\n",
              "    </tr>\n",
              "    <tr>\n",
              "      <th>423</th>\n",
              "      <td>hiphop.00023.png</td>\n",
              "      <td>hiphop</td>\n",
              "      <td>hiphop/hiphop.00023.png</td>\n",
              "    </tr>\n",
              "  </tbody>\n",
              "</table>\n",
              "<p>200 rows × 3 columns</p>\n",
              "</div>\n",
              "      <button class=\"colab-df-convert\" onclick=\"convertToInteractive('df-ba624049-106a-46fd-9b07-d3e9c6f59cd3')\"\n",
              "              title=\"Convert this dataframe to an interactive table.\"\n",
              "              style=\"display:none;\">\n",
              "        \n",
              "  <svg xmlns=\"http://www.w3.org/2000/svg\" height=\"24px\"viewBox=\"0 0 24 24\"\n",
              "       width=\"24px\">\n",
              "    <path d=\"M0 0h24v24H0V0z\" fill=\"none\"/>\n",
              "    <path d=\"M18.56 5.44l.94 2.06.94-2.06 2.06-.94-2.06-.94-.94-2.06-.94 2.06-2.06.94zm-11 1L8.5 8.5l.94-2.06 2.06-.94-2.06-.94L8.5 2.5l-.94 2.06-2.06.94zm10 10l.94 2.06.94-2.06 2.06-.94-2.06-.94-.94-2.06-.94 2.06-2.06.94z\"/><path d=\"M17.41 7.96l-1.37-1.37c-.4-.4-.92-.59-1.43-.59-.52 0-1.04.2-1.43.59L10.3 9.45l-7.72 7.72c-.78.78-.78 2.05 0 2.83L4 21.41c.39.39.9.59 1.41.59.51 0 1.02-.2 1.41-.59l7.78-7.78 2.81-2.81c.8-.78.8-2.07 0-2.86zM5.41 20L4 18.59l7.72-7.72 1.47 1.35L5.41 20z\"/>\n",
              "  </svg>\n",
              "      </button>\n",
              "      \n",
              "  <style>\n",
              "    .colab-df-container {\n",
              "      display:flex;\n",
              "      flex-wrap:wrap;\n",
              "      gap: 12px;\n",
              "    }\n",
              "\n",
              "    .colab-df-convert {\n",
              "      background-color: #E8F0FE;\n",
              "      border: none;\n",
              "      border-radius: 50%;\n",
              "      cursor: pointer;\n",
              "      display: none;\n",
              "      fill: #1967D2;\n",
              "      height: 32px;\n",
              "      padding: 0 0 0 0;\n",
              "      width: 32px;\n",
              "    }\n",
              "\n",
              "    .colab-df-convert:hover {\n",
              "      background-color: #E2EBFA;\n",
              "      box-shadow: 0px 1px 2px rgba(60, 64, 67, 0.3), 0px 1px 3px 1px rgba(60, 64, 67, 0.15);\n",
              "      fill: #174EA6;\n",
              "    }\n",
              "\n",
              "    [theme=dark] .colab-df-convert {\n",
              "      background-color: #3B4455;\n",
              "      fill: #D2E3FC;\n",
              "    }\n",
              "\n",
              "    [theme=dark] .colab-df-convert:hover {\n",
              "      background-color: #434B5C;\n",
              "      box-shadow: 0px 1px 3px 1px rgba(0, 0, 0, 0.15);\n",
              "      filter: drop-shadow(0px 1px 2px rgba(0, 0, 0, 0.3));\n",
              "      fill: #FFFFFF;\n",
              "    }\n",
              "  </style>\n",
              "\n",
              "      <script>\n",
              "        const buttonEl =\n",
              "          document.querySelector('#df-ba624049-106a-46fd-9b07-d3e9c6f59cd3 button.colab-df-convert');\n",
              "        buttonEl.style.display =\n",
              "          google.colab.kernel.accessAllowed ? 'block' : 'none';\n",
              "\n",
              "        async function convertToInteractive(key) {\n",
              "          const element = document.querySelector('#df-ba624049-106a-46fd-9b07-d3e9c6f59cd3');\n",
              "          const dataTable =\n",
              "            await google.colab.kernel.invokeFunction('convertToInteractive',\n",
              "                                                     [key], {});\n",
              "          if (!dataTable) return;\n",
              "\n",
              "          const docLinkHtml = 'Like what you see? Visit the ' +\n",
              "            '<a target=\"_blank\" href=https://colab.research.google.com/notebooks/data_table.ipynb>data table notebook</a>'\n",
              "            + ' to learn more about interactive tables.';\n",
              "          element.innerHTML = '';\n",
              "          dataTable['output_type'] = 'display_data';\n",
              "          await google.colab.output.renderOutput(dataTable, element);\n",
              "          const docLink = document.createElement('div');\n",
              "          docLink.innerHTML = docLinkHtml;\n",
              "          element.appendChild(docLink);\n",
              "        }\n",
              "      </script>\n",
              "    </div>\n",
              "  </div>\n",
              "  "
            ]
          },
          "metadata": {},
          "execution_count": 23
        }
      ],
      "source": [
        "inv3_model = inception_v3.InceptionV3(\n",
        "    include_top=False,\n",
        "    weights=\"imagenet\",\n",
        "    classes=10,\n",
        "    input_tensor = inp)\n",
        "\n",
        "X_test"
      ]
    },
    {
      "cell_type": "code",
      "execution_count": 24,
      "metadata": {
        "id": "IX5DixtiP1vv"
      },
      "outputs": [],
      "source": [
        "for layer in inv3_model.layers:\n",
        "    layer.trainable=False"
      ]
    },
    {
      "cell_type": "code",
      "execution_count": 25,
      "metadata": {
        "colab": {
          "base_uri": "https://localhost:8080/"
        },
        "outputId": "b5a2cac7-d252-404f-f8c3-36ef5c5bd125",
        "id": "cznPlvuSP1vv"
      },
      "outputs": [
        {
          "output_type": "stream",
          "name": "stdout",
          "text": [
            "Model: \"sequential_1\"\n",
            "_________________________________________________________________\n",
            " Layer (type)                Output Shape              Param #   \n",
            "=================================================================\n",
            " inception_v3 (Functional)   (None, 6, 6, 2048)        21802784  \n",
            "                                                                 \n",
            " flatten_1 (Flatten)         (None, 73728)             0         \n",
            "                                                                 \n",
            " batch_normalization_190 (Ba  (None, 73728)            294912    \n",
            " tchNormalization)                                               \n",
            "                                                                 \n",
            " dense_3 (Dense)             (None, 512)               37749248  \n",
            "                                                                 \n",
            " dropout_2 (Dropout)         (None, 512)               0         \n",
            "                                                                 \n",
            " batch_normalization_191 (Ba  (None, 512)              2048      \n",
            " tchNormalization)                                               \n",
            "                                                                 \n",
            " dense_4 (Dense)             (None, 256)               131328    \n",
            "                                                                 \n",
            " dropout_3 (Dropout)         (None, 256)               0         \n",
            "                                                                 \n",
            " dense_5 (Dense)             (None, 10)                2570      \n",
            "                                                                 \n",
            "=================================================================\n",
            "Total params: 59,982,890\n",
            "Trainable params: 38,031,626\n",
            "Non-trainable params: 21,951,264\n",
            "_________________________________________________________________\n",
            "None\n"
          ]
        }
      ],
      "source": [
        "new_model = Sequential()\n",
        "new_model.add(inv3_model)\n",
        "new_model.add(Flatten())\n",
        "new_model.add(BatchNormalization())\n",
        "new_model.add(Dense(512, activation='relu'))\n",
        "new_model.add(Dropout(0.5))\n",
        "new_model.add(BatchNormalization())\n",
        "new_model.add(Dense(256, activation='relu'))\n",
        "new_model.add(Dropout(0.5))\n",
        "new_model.add(Dense(10, activation='softmax'))\n",
        "\n",
        "new_model.compile(loss = 'categorical_crossentropy',optimizer='adam',metrics=['accuracy', AUC()])\n",
        "print(new_model.summary())"
      ]
    },
    {
      "cell_type": "code",
      "execution_count": 26,
      "metadata": {
        "colab": {
          "base_uri": "https://localhost:8080/"
        },
        "outputId": "efd7c6e4-80c1-404e-d96b-6b394be6acb5",
        "id": "CuEGu_3qP1vv"
      },
      "outputs": [
        {
          "output_type": "stream",
          "name": "stdout",
          "text": [
            "Found 599 validated image filenames belonging to 10 classes.\n",
            "Found 200 validated image filenames belonging to 10 classes.\n",
            "Epoch 1/500\n",
            "19/19 [==============================] - 517s 27s/step - loss: 2.4751 - accuracy: 0.2871 - auc_2: 0.7031 - val_loss: 15.3219 - val_accuracy: 0.3100 - val_auc_2: 0.6523\n",
            "Epoch 2/500\n",
            "19/19 [==============================] - 7s 353ms/step - loss: 1.9979 - accuracy: 0.3556 - auc_2: 0.7949 - val_loss: 6.5923 - val_accuracy: 0.2600 - val_auc_2: 0.6660\n",
            "Epoch 3/500\n",
            "19/19 [==============================] - 7s 383ms/step - loss: 1.8655 - accuracy: 0.4007 - auc_2: 0.8184 - val_loss: 3.4404 - val_accuracy: 0.3450 - val_auc_2: 0.7290\n",
            "Epoch 4/500\n",
            "19/19 [==============================] - 7s 370ms/step - loss: 1.7362 - accuracy: 0.4107 - auc_2: 0.8416 - val_loss: 2.3965 - val_accuracy: 0.3900 - val_auc_2: 0.7957\n",
            "Epoch 5/500\n",
            "19/19 [==============================] - 9s 456ms/step - loss: 1.5708 - accuracy: 0.4758 - auc_2: 0.8675 - val_loss: 2.1256 - val_accuracy: 0.4200 - val_auc_2: 0.8216\n",
            "Epoch 6/500\n",
            "19/19 [==============================] - 7s 349ms/step - loss: 1.4464 - accuracy: 0.5342 - auc_2: 0.8808 - val_loss: 2.0742 - val_accuracy: 0.4300 - val_auc_2: 0.8151\n",
            "Epoch 7/500\n",
            "19/19 [==============================] - 8s 400ms/step - loss: 1.3787 - accuracy: 0.5292 - auc_2: 0.8934 - val_loss: 1.8829 - val_accuracy: 0.4650 - val_auc_2: 0.8336\n",
            "Epoch 8/500\n",
            "19/19 [==============================] - 8s 405ms/step - loss: 1.2784 - accuracy: 0.5676 - auc_2: 0.9074 - val_loss: 1.7723 - val_accuracy: 0.4900 - val_auc_2: 0.8416\n",
            "Epoch 9/500\n",
            "19/19 [==============================] - 7s 349ms/step - loss: 1.1926 - accuracy: 0.5860 - auc_2: 0.9189 - val_loss: 1.6715 - val_accuracy: 0.5100 - val_auc_2: 0.8510\n",
            "Epoch 10/500\n",
            "19/19 [==============================] - 7s 384ms/step - loss: 1.1117 - accuracy: 0.6244 - auc_2: 0.9295 - val_loss: 1.6299 - val_accuracy: 0.4850 - val_auc_2: 0.8526\n",
            "Epoch 11/500\n",
            "19/19 [==============================] - 7s 353ms/step - loss: 1.0239 - accuracy: 0.6528 - auc_2: 0.9390 - val_loss: 1.6250 - val_accuracy: 0.4950 - val_auc_2: 0.8566\n",
            "Epoch 12/500\n",
            "19/19 [==============================] - 7s 358ms/step - loss: 0.9835 - accuracy: 0.6661 - auc_2: 0.9438 - val_loss: 1.6236 - val_accuracy: 0.4950 - val_auc_2: 0.8575\n",
            "Epoch 13/500\n",
            "19/19 [==============================] - 8s 404ms/step - loss: 0.8264 - accuracy: 0.7078 - auc_2: 0.9607 - val_loss: 1.6632 - val_accuracy: 0.5200 - val_auc_2: 0.8559\n",
            "Epoch 14/500\n",
            "19/19 [==============================] - 6s 336ms/step - loss: 0.7089 - accuracy: 0.7613 - auc_2: 0.9706 - val_loss: 1.6559 - val_accuracy: 0.4850 - val_auc_2: 0.8557\n",
            "Epoch 15/500\n",
            "19/19 [==============================] - 7s 389ms/step - loss: 0.6985 - accuracy: 0.7796 - auc_2: 0.9719 - val_loss: 1.6612 - val_accuracy: 0.4650 - val_auc_2: 0.8586\n",
            "Epoch 16/500\n",
            "19/19 [==============================] - 7s 364ms/step - loss: 0.6182 - accuracy: 0.7796 - auc_2: 0.9774 - val_loss: 1.6595 - val_accuracy: 0.5050 - val_auc_2: 0.8590\n",
            "Epoch 17/500\n",
            "19/19 [==============================] - 6s 337ms/step - loss: 0.5593 - accuracy: 0.7930 - auc_2: 0.9832 - val_loss: 1.6687 - val_accuracy: 0.5000 - val_auc_2: 0.8528\n",
            "Epoch 18/500\n",
            "19/19 [==============================] - 7s 383ms/step - loss: 0.5386 - accuracy: 0.8214 - auc_2: 0.9828 - val_loss: 1.6849 - val_accuracy: 0.5050 - val_auc_2: 0.8496\n",
            "Epoch 19/500\n",
            "19/19 [==============================] - 6s 327ms/step - loss: 0.4585 - accuracy: 0.8447 - auc_2: 0.9876 - val_loss: 1.7505 - val_accuracy: 0.4850 - val_auc_2: 0.8443\n",
            "Epoch 20/500\n",
            "19/19 [==============================] - 7s 385ms/step - loss: 0.4491 - accuracy: 0.8431 - auc_2: 0.9893 - val_loss: 1.7555 - val_accuracy: 0.4900 - val_auc_2: 0.8447\n",
            "Epoch 21/500\n",
            "19/19 [==============================] - 6s 337ms/step - loss: 0.4154 - accuracy: 0.8731 - auc_2: 0.9889 - val_loss: 1.8530 - val_accuracy: 0.4950 - val_auc_2: 0.8383\n",
            "Epoch 22/500\n",
            "19/19 [==============================] - 7s 387ms/step - loss: 0.4443 - accuracy: 0.8381 - auc_2: 0.9878 - val_loss: 1.8400 - val_accuracy: 0.5050 - val_auc_2: 0.8434\n",
            "Epoch 23/500\n",
            "19/19 [==============================] - 6s 338ms/step - loss: 0.3642 - accuracy: 0.8681 - auc_2: 0.9922 - val_loss: 1.8421 - val_accuracy: 0.4850 - val_auc_2: 0.8500\n",
            "Epoch 24/500\n",
            "19/19 [==============================] - 7s 395ms/step - loss: 0.3218 - accuracy: 0.8948 - auc_2: 0.9944 - val_loss: 1.9063 - val_accuracy: 0.5050 - val_auc_2: 0.8438\n",
            "Epoch 25/500\n",
            "19/19 [==============================] - 6s 333ms/step - loss: 0.3139 - accuracy: 0.8898 - auc_2: 0.9935 - val_loss: 1.9858 - val_accuracy: 0.5200 - val_auc_2: 0.8343\n",
            "Epoch 26/500\n",
            "19/19 [==============================] - 7s 392ms/step - loss: 0.2700 - accuracy: 0.9115 - auc_2: 0.9961 - val_loss: 2.0680 - val_accuracy: 0.5150 - val_auc_2: 0.8351\n",
            "Epoch 27/500\n",
            "19/19 [==============================] - 6s 337ms/step - loss: 0.3083 - accuracy: 0.8881 - auc_2: 0.9943 - val_loss: 2.0679 - val_accuracy: 0.5150 - val_auc_2: 0.8295\n",
            "Epoch 28/500\n",
            "19/19 [==============================] - 9s 473ms/step - loss: 0.2368 - accuracy: 0.9182 - auc_2: 0.9971 - val_loss: 2.2367 - val_accuracy: 0.5200 - val_auc_2: 0.8234\n",
            "Epoch 29/500\n",
            "19/19 [==============================] - 7s 371ms/step - loss: 0.2327 - accuracy: 0.9282 - auc_2: 0.9970 - val_loss: 2.1358 - val_accuracy: 0.5300 - val_auc_2: 0.8419\n",
            "Epoch 30/500\n",
            "19/19 [==============================] - 7s 393ms/step - loss: 0.2226 - accuracy: 0.9149 - auc_2: 0.9973 - val_loss: 2.1172 - val_accuracy: 0.5200 - val_auc_2: 0.8408\n",
            "Epoch 31/500\n",
            "19/19 [==============================] - 7s 343ms/step - loss: 0.2146 - accuracy: 0.9232 - auc_2: 0.9975 - val_loss: 2.2444 - val_accuracy: 0.4850 - val_auc_2: 0.8322\n",
            "Epoch 32/500\n",
            "19/19 [==============================] - 7s 385ms/step - loss: 0.1978 - accuracy: 0.9382 - auc_2: 0.9970 - val_loss: 2.1081 - val_accuracy: 0.5250 - val_auc_2: 0.8392\n",
            "Epoch 33/500\n",
            "19/19 [==============================] - 6s 328ms/step - loss: 0.1610 - accuracy: 0.9482 - auc_2: 0.9987 - val_loss: 2.1734 - val_accuracy: 0.5000 - val_auc_2: 0.8414\n",
            "Epoch 34/500\n",
            "19/19 [==============================] - 7s 389ms/step - loss: 0.1896 - accuracy: 0.9332 - auc_2: 0.9964 - val_loss: 2.2895 - val_accuracy: 0.5100 - val_auc_2: 0.8317\n",
            "Epoch 35/500\n",
            "19/19 [==============================] - 6s 337ms/step - loss: 0.1913 - accuracy: 0.9399 - auc_2: 0.9978 - val_loss: 2.3292 - val_accuracy: 0.5100 - val_auc_2: 0.8263\n",
            "Epoch 36/500\n",
            "19/19 [==============================] - 6s 333ms/step - loss: 0.1832 - accuracy: 0.9432 - auc_2: 0.9978 - val_loss: 2.4595 - val_accuracy: 0.4900 - val_auc_2: 0.8175\n",
            "Epoch 37/500\n",
            "19/19 [==============================] - 7s 375ms/step - loss: 0.1823 - accuracy: 0.9366 - auc_2: 0.9972 - val_loss: 2.4467 - val_accuracy: 0.4800 - val_auc_2: 0.8122\n",
            "Epoch 38/500\n",
            "19/19 [==============================] - 6s 332ms/step - loss: 0.2094 - accuracy: 0.9316 - auc_2: 0.9951 - val_loss: 2.3794 - val_accuracy: 0.5100 - val_auc_2: 0.8152\n",
            "Epoch 39/500\n",
            "19/19 [==============================] - 7s 376ms/step - loss: 0.1712 - accuracy: 0.9466 - auc_2: 0.9968 - val_loss: 2.4207 - val_accuracy: 0.4750 - val_auc_2: 0.8107\n",
            "Epoch 40/500\n",
            "19/19 [==============================] - 6s 336ms/step - loss: 0.1602 - accuracy: 0.9583 - auc_2: 0.9976 - val_loss: 2.5253 - val_accuracy: 0.4950 - val_auc_2: 0.8082\n",
            "Epoch 41/500\n",
            "19/19 [==============================] - 7s 384ms/step - loss: 0.1849 - accuracy: 0.9449 - auc_2: 0.9973 - val_loss: 2.4147 - val_accuracy: 0.5050 - val_auc_2: 0.8211\n",
            "Epoch 42/500\n",
            "19/19 [==============================] - 6s 334ms/step - loss: 0.1208 - accuracy: 0.9649 - auc_2: 0.9991 - val_loss: 2.3927 - val_accuracy: 0.5050 - val_auc_2: 0.8214\n",
            "Epoch 43/500\n",
            "19/19 [==============================] - 7s 385ms/step - loss: 0.1666 - accuracy: 0.9482 - auc_2: 0.9968 - val_loss: 2.4165 - val_accuracy: 0.5100 - val_auc_2: 0.8210\n",
            "Epoch 44/500\n",
            "19/19 [==============================] - 6s 339ms/step - loss: 0.1298 - accuracy: 0.9533 - auc_2: 0.9991 - val_loss: 2.6456 - val_accuracy: 0.5000 - val_auc_2: 0.7999\n",
            "Epoch 45/500\n",
            "19/19 [==============================] - 7s 383ms/step - loss: 0.1129 - accuracy: 0.9599 - auc_2: 0.9984 - val_loss: 2.8812 - val_accuracy: 0.4900 - val_auc_2: 0.8031\n",
            "Epoch 46/500\n",
            "19/19 [==============================] - 6s 329ms/step - loss: 0.1133 - accuracy: 0.9666 - auc_2: 0.9984 - val_loss: 2.6820 - val_accuracy: 0.5050 - val_auc_2: 0.7983\n",
            "Epoch 47/500\n",
            "19/19 [==============================] - 7s 376ms/step - loss: 0.1661 - accuracy: 0.9566 - auc_2: 0.9958 - val_loss: 2.7957 - val_accuracy: 0.4800 - val_auc_2: 0.7960\n",
            "Epoch 48/500\n",
            "19/19 [==============================] - 7s 344ms/step - loss: 0.1551 - accuracy: 0.9549 - auc_2: 0.9975 - val_loss: 2.7259 - val_accuracy: 0.5050 - val_auc_2: 0.8035\n",
            "Epoch 49/500\n",
            "19/19 [==============================] - 7s 392ms/step - loss: 0.0905 - accuracy: 0.9666 - auc_2: 0.9996 - val_loss: 2.7827 - val_accuracy: 0.5150 - val_auc_2: 0.8023\n"
          ]
        }
      ],
      "source": [
        "es = EarlyStopping(\n",
        "    monitor='val_accuracy', \n",
        "    restore_best_weights=True, \n",
        "    patience=20, \n",
        "    min_delta = 0.001\n",
        ")\n",
        "\n",
        "history = new_model.fit(datagen.flow_from_dataframe(X_train,\n",
        "                                                    x_col=\"path\",\n",
        "                                                    y_col=\"class\",\n",
        "                                                    batch_size = 32, \n",
        "                                                    directory = path + img_folder), \n",
        "                        validation_data=datagen.flow_from_dataframe(X_val,\n",
        "                                                                    x_col=\"path\",\n",
        "                                                                    y_col=\"class\",\n",
        "                                                                    batch_size=32, \n",
        "                                                                    directory = path + img_folder),\n",
        "                        epochs=500,\n",
        "                        callbacks=[es])"
      ]
    },
    {
      "cell_type": "code",
      "source": [
        "test_gen = datagen.flow_from_dataframe(X_test, \n",
        "                                        x_col=\"path\", \n",
        "                                        y_col=\"class\", \n",
        "                                        batch_size=32, \n",
        "                                        class_mode='categorical',\n",
        "                                        shuffle = False,\n",
        "                                        directory = path + img_folder)\n",
        "\n",
        "labels = pd.get_dummies(np.array(test_gen.labels))\n",
        "y_pred = new_model.predict(test_gen)\n",
        "\n",
        "y_pred_classes = np.argmax(np.array(y_pred), axis=1)\n",
        "y_true = np.argmax(np.array(labels), axis=1)\n",
        "\n",
        "m = AUC()\n",
        "m.update_state(labels, y_pred)\n",
        "\n",
        "print(\"Accuracy of the Test dataset:\", accuracy_score(y_pred_classes, y_true))\n",
        "print(\"AUC of the Test dataset:\", m.result().numpy())"
      ],
      "metadata": {
        "colab": {
          "base_uri": "https://localhost:8080/"
        },
        "id": "OEgDE3X1uFxK",
        "outputId": "b5cbab08-876b-4d9d-f5fe-95b383e99f4c"
      },
      "execution_count": 27,
      "outputs": [
        {
          "output_type": "stream",
          "name": "stdout",
          "text": [
            "Found 200 validated image filenames belonging to 10 classes.\n",
            "7/7 [==============================] - 111s 18s/step\n",
            "Accuracy of the Test dataset: 0.415\n",
            "AUC of the Test dataset: 0.80839586\n"
          ]
        }
      ]
    },
    {
      "cell_type": "markdown",
      "source": [
        "### Mel Spectrogram"
      ],
      "metadata": {
        "id": "Ytc3_PVCQAzi"
      }
    },
    {
      "cell_type": "code",
      "execution_count": 28,
      "metadata": {
        "id": "tdjBI-BGQAzs"
      },
      "outputs": [],
      "source": [
        "img_folder = \"Mel Spectrogram/\"\n",
        "df = pd.DataFrame()\n",
        "g_list = []\n",
        "file_list = []\n",
        "\n",
        "for genre in genre_dict:\n",
        "    for file_name in os.listdir(path + img_folder + genre):\n",
        "        if file_name.endswith(\".png\"):\n",
        "            file_list.append(file_name)\n",
        "            g_list.append(genre)\n",
        "    \n",
        "df['filename'] = file_list\n",
        "df['class'] = g_list"
      ]
    },
    {
      "cell_type": "code",
      "execution_count": 29,
      "metadata": {
        "colab": {
          "base_uri": "https://localhost:8080/"
        },
        "outputId": "63e8da4a-12ce-4ef5-f6e3-35cb14570a71",
        "id": "uR9z0eUDQAzs"
      },
      "outputs": [
        {
          "output_type": "execute_result",
          "data": {
            "text/plain": [
              "blues        100\n",
              "classical    100\n",
              "country      100\n",
              "disco        100\n",
              "hiphop       100\n",
              "metal        100\n",
              "pop          100\n",
              "reggae       100\n",
              "rock         100\n",
              "jazz          99\n",
              "Name: class, dtype: int64"
            ]
          },
          "metadata": {},
          "execution_count": 29
        }
      ],
      "source": [
        "df['class'].value_counts()"
      ]
    },
    {
      "cell_type": "code",
      "execution_count": 30,
      "metadata": {
        "colab": {
          "base_uri": "https://localhost:8080/"
        },
        "outputId": "5450ad12-02ee-4f54-ca3a-dde6b15aae90",
        "id": "03lo8kLfQAzs"
      },
      "outputs": [
        {
          "output_type": "execute_result",
          "data": {
            "text/plain": [
              "(999,)"
            ]
          },
          "metadata": {},
          "execution_count": 30
        }
      ],
      "source": [
        "x = np.array(df['filename'].tolist())\n",
        "x.shape"
      ]
    },
    {
      "cell_type": "code",
      "execution_count": 31,
      "metadata": {
        "colab": {
          "base_uri": "https://localhost:8080/",
          "height": 224
        },
        "outputId": "4c0afec1-242f-47d8-cac3-6bbf9bdeb39c",
        "id": "nEx29GqtQAzt"
      },
      "outputs": [
        {
          "output_type": "stream",
          "name": "stdout",
          "text": [
            "(999, 10)\n"
          ]
        },
        {
          "output_type": "execute_result",
          "data": {
            "text/plain": [
              "   blues  classical  country  disco  hiphop  jazz  metal  pop  reggae  rock\n",
              "0      1          0        0      0       0     0      0    0       0     0\n",
              "1      1          0        0      0       0     0      0    0       0     0\n",
              "2      1          0        0      0       0     0      0    0       0     0\n",
              "3      1          0        0      0       0     0      0    0       0     0\n",
              "4      1          0        0      0       0     0      0    0       0     0"
            ],
            "text/html": [
              "\n",
              "  <div id=\"df-09568cef-3b77-4517-a5fd-9e361e994670\">\n",
              "    <div class=\"colab-df-container\">\n",
              "      <div>\n",
              "<style scoped>\n",
              "    .dataframe tbody tr th:only-of-type {\n",
              "        vertical-align: middle;\n",
              "    }\n",
              "\n",
              "    .dataframe tbody tr th {\n",
              "        vertical-align: top;\n",
              "    }\n",
              "\n",
              "    .dataframe thead th {\n",
              "        text-align: right;\n",
              "    }\n",
              "</style>\n",
              "<table border=\"1\" class=\"dataframe\">\n",
              "  <thead>\n",
              "    <tr style=\"text-align: right;\">\n",
              "      <th></th>\n",
              "      <th>blues</th>\n",
              "      <th>classical</th>\n",
              "      <th>country</th>\n",
              "      <th>disco</th>\n",
              "      <th>hiphop</th>\n",
              "      <th>jazz</th>\n",
              "      <th>metal</th>\n",
              "      <th>pop</th>\n",
              "      <th>reggae</th>\n",
              "      <th>rock</th>\n",
              "    </tr>\n",
              "  </thead>\n",
              "  <tbody>\n",
              "    <tr>\n",
              "      <th>0</th>\n",
              "      <td>1</td>\n",
              "      <td>0</td>\n",
              "      <td>0</td>\n",
              "      <td>0</td>\n",
              "      <td>0</td>\n",
              "      <td>0</td>\n",
              "      <td>0</td>\n",
              "      <td>0</td>\n",
              "      <td>0</td>\n",
              "      <td>0</td>\n",
              "    </tr>\n",
              "    <tr>\n",
              "      <th>1</th>\n",
              "      <td>1</td>\n",
              "      <td>0</td>\n",
              "      <td>0</td>\n",
              "      <td>0</td>\n",
              "      <td>0</td>\n",
              "      <td>0</td>\n",
              "      <td>0</td>\n",
              "      <td>0</td>\n",
              "      <td>0</td>\n",
              "      <td>0</td>\n",
              "    </tr>\n",
              "    <tr>\n",
              "      <th>2</th>\n",
              "      <td>1</td>\n",
              "      <td>0</td>\n",
              "      <td>0</td>\n",
              "      <td>0</td>\n",
              "      <td>0</td>\n",
              "      <td>0</td>\n",
              "      <td>0</td>\n",
              "      <td>0</td>\n",
              "      <td>0</td>\n",
              "      <td>0</td>\n",
              "    </tr>\n",
              "    <tr>\n",
              "      <th>3</th>\n",
              "      <td>1</td>\n",
              "      <td>0</td>\n",
              "      <td>0</td>\n",
              "      <td>0</td>\n",
              "      <td>0</td>\n",
              "      <td>0</td>\n",
              "      <td>0</td>\n",
              "      <td>0</td>\n",
              "      <td>0</td>\n",
              "      <td>0</td>\n",
              "    </tr>\n",
              "    <tr>\n",
              "      <th>4</th>\n",
              "      <td>1</td>\n",
              "      <td>0</td>\n",
              "      <td>0</td>\n",
              "      <td>0</td>\n",
              "      <td>0</td>\n",
              "      <td>0</td>\n",
              "      <td>0</td>\n",
              "      <td>0</td>\n",
              "      <td>0</td>\n",
              "      <td>0</td>\n",
              "    </tr>\n",
              "  </tbody>\n",
              "</table>\n",
              "</div>\n",
              "      <button class=\"colab-df-convert\" onclick=\"convertToInteractive('df-09568cef-3b77-4517-a5fd-9e361e994670')\"\n",
              "              title=\"Convert this dataframe to an interactive table.\"\n",
              "              style=\"display:none;\">\n",
              "        \n",
              "  <svg xmlns=\"http://www.w3.org/2000/svg\" height=\"24px\"viewBox=\"0 0 24 24\"\n",
              "       width=\"24px\">\n",
              "    <path d=\"M0 0h24v24H0V0z\" fill=\"none\"/>\n",
              "    <path d=\"M18.56 5.44l.94 2.06.94-2.06 2.06-.94-2.06-.94-.94-2.06-.94 2.06-2.06.94zm-11 1L8.5 8.5l.94-2.06 2.06-.94-2.06-.94L8.5 2.5l-.94 2.06-2.06.94zm10 10l.94 2.06.94-2.06 2.06-.94-2.06-.94-.94-2.06-.94 2.06-2.06.94z\"/><path d=\"M17.41 7.96l-1.37-1.37c-.4-.4-.92-.59-1.43-.59-.52 0-1.04.2-1.43.59L10.3 9.45l-7.72 7.72c-.78.78-.78 2.05 0 2.83L4 21.41c.39.39.9.59 1.41.59.51 0 1.02-.2 1.41-.59l7.78-7.78 2.81-2.81c.8-.78.8-2.07 0-2.86zM5.41 20L4 18.59l7.72-7.72 1.47 1.35L5.41 20z\"/>\n",
              "  </svg>\n",
              "      </button>\n",
              "      \n",
              "  <style>\n",
              "    .colab-df-container {\n",
              "      display:flex;\n",
              "      flex-wrap:wrap;\n",
              "      gap: 12px;\n",
              "    }\n",
              "\n",
              "    .colab-df-convert {\n",
              "      background-color: #E8F0FE;\n",
              "      border: none;\n",
              "      border-radius: 50%;\n",
              "      cursor: pointer;\n",
              "      display: none;\n",
              "      fill: #1967D2;\n",
              "      height: 32px;\n",
              "      padding: 0 0 0 0;\n",
              "      width: 32px;\n",
              "    }\n",
              "\n",
              "    .colab-df-convert:hover {\n",
              "      background-color: #E2EBFA;\n",
              "      box-shadow: 0px 1px 2px rgba(60, 64, 67, 0.3), 0px 1px 3px 1px rgba(60, 64, 67, 0.15);\n",
              "      fill: #174EA6;\n",
              "    }\n",
              "\n",
              "    [theme=dark] .colab-df-convert {\n",
              "      background-color: #3B4455;\n",
              "      fill: #D2E3FC;\n",
              "    }\n",
              "\n",
              "    [theme=dark] .colab-df-convert:hover {\n",
              "      background-color: #434B5C;\n",
              "      box-shadow: 0px 1px 3px 1px rgba(0, 0, 0, 0.15);\n",
              "      filter: drop-shadow(0px 1px 2px rgba(0, 0, 0, 0.3));\n",
              "      fill: #FFFFFF;\n",
              "    }\n",
              "  </style>\n",
              "\n",
              "      <script>\n",
              "        const buttonEl =\n",
              "          document.querySelector('#df-09568cef-3b77-4517-a5fd-9e361e994670 button.colab-df-convert');\n",
              "        buttonEl.style.display =\n",
              "          google.colab.kernel.accessAllowed ? 'block' : 'none';\n",
              "\n",
              "        async function convertToInteractive(key) {\n",
              "          const element = document.querySelector('#df-09568cef-3b77-4517-a5fd-9e361e994670');\n",
              "          const dataTable =\n",
              "            await google.colab.kernel.invokeFunction('convertToInteractive',\n",
              "                                                     [key], {});\n",
              "          if (!dataTable) return;\n",
              "\n",
              "          const docLinkHtml = 'Like what you see? Visit the ' +\n",
              "            '<a target=\"_blank\" href=https://colab.research.google.com/notebooks/data_table.ipynb>data table notebook</a>'\n",
              "            + ' to learn more about interactive tables.';\n",
              "          element.innerHTML = '';\n",
              "          dataTable['output_type'] = 'display_data';\n",
              "          await google.colab.output.renderOutput(dataTable, element);\n",
              "          const docLink = document.createElement('div');\n",
              "          docLink.innerHTML = docLinkHtml;\n",
              "          element.appendChild(docLink);\n",
              "        }\n",
              "      </script>\n",
              "    </div>\n",
              "  </div>\n",
              "  "
            ]
          },
          "metadata": {},
          "execution_count": 31
        }
      ],
      "source": [
        "y = np.array(df['class'].tolist())\n",
        "y_new = pd.get_dummies(y)\n",
        "print(y_new.shape)\n",
        "y_new.head()"
      ]
    },
    {
      "cell_type": "code",
      "execution_count": 32,
      "metadata": {
        "colab": {
          "base_uri": "https://localhost:8080/",
          "height": 206
        },
        "outputId": "f70719d2-d95e-47d6-93a9-86706d09f1cf",
        "id": "2q4DFQNSQAzt"
      },
      "outputs": [
        {
          "output_type": "execute_result",
          "data": {
            "text/plain": [
              "         filename  class                  path\n",
              "0  blues00033.png  blues  blues/blues00033.png\n",
              "1  blues00097.png  blues  blues/blues00097.png\n",
              "2  blues00005.png  blues  blues/blues00005.png\n",
              "3  blues00041.png  blues  blues/blues00041.png\n",
              "4  blues00013.png  blues  blues/blues00013.png"
            ],
            "text/html": [
              "\n",
              "  <div id=\"df-bfe663c5-5532-46d6-9353-082148945d3d\">\n",
              "    <div class=\"colab-df-container\">\n",
              "      <div>\n",
              "<style scoped>\n",
              "    .dataframe tbody tr th:only-of-type {\n",
              "        vertical-align: middle;\n",
              "    }\n",
              "\n",
              "    .dataframe tbody tr th {\n",
              "        vertical-align: top;\n",
              "    }\n",
              "\n",
              "    .dataframe thead th {\n",
              "        text-align: right;\n",
              "    }\n",
              "</style>\n",
              "<table border=\"1\" class=\"dataframe\">\n",
              "  <thead>\n",
              "    <tr style=\"text-align: right;\">\n",
              "      <th></th>\n",
              "      <th>filename</th>\n",
              "      <th>class</th>\n",
              "      <th>path</th>\n",
              "    </tr>\n",
              "  </thead>\n",
              "  <tbody>\n",
              "    <tr>\n",
              "      <th>0</th>\n",
              "      <td>blues00033.png</td>\n",
              "      <td>blues</td>\n",
              "      <td>blues/blues00033.png</td>\n",
              "    </tr>\n",
              "    <tr>\n",
              "      <th>1</th>\n",
              "      <td>blues00097.png</td>\n",
              "      <td>blues</td>\n",
              "      <td>blues/blues00097.png</td>\n",
              "    </tr>\n",
              "    <tr>\n",
              "      <th>2</th>\n",
              "      <td>blues00005.png</td>\n",
              "      <td>blues</td>\n",
              "      <td>blues/blues00005.png</td>\n",
              "    </tr>\n",
              "    <tr>\n",
              "      <th>3</th>\n",
              "      <td>blues00041.png</td>\n",
              "      <td>blues</td>\n",
              "      <td>blues/blues00041.png</td>\n",
              "    </tr>\n",
              "    <tr>\n",
              "      <th>4</th>\n",
              "      <td>blues00013.png</td>\n",
              "      <td>blues</td>\n",
              "      <td>blues/blues00013.png</td>\n",
              "    </tr>\n",
              "  </tbody>\n",
              "</table>\n",
              "</div>\n",
              "      <button class=\"colab-df-convert\" onclick=\"convertToInteractive('df-bfe663c5-5532-46d6-9353-082148945d3d')\"\n",
              "              title=\"Convert this dataframe to an interactive table.\"\n",
              "              style=\"display:none;\">\n",
              "        \n",
              "  <svg xmlns=\"http://www.w3.org/2000/svg\" height=\"24px\"viewBox=\"0 0 24 24\"\n",
              "       width=\"24px\">\n",
              "    <path d=\"M0 0h24v24H0V0z\" fill=\"none\"/>\n",
              "    <path d=\"M18.56 5.44l.94 2.06.94-2.06 2.06-.94-2.06-.94-.94-2.06-.94 2.06-2.06.94zm-11 1L8.5 8.5l.94-2.06 2.06-.94-2.06-.94L8.5 2.5l-.94 2.06-2.06.94zm10 10l.94 2.06.94-2.06 2.06-.94-2.06-.94-.94-2.06-.94 2.06-2.06.94z\"/><path d=\"M17.41 7.96l-1.37-1.37c-.4-.4-.92-.59-1.43-.59-.52 0-1.04.2-1.43.59L10.3 9.45l-7.72 7.72c-.78.78-.78 2.05 0 2.83L4 21.41c.39.39.9.59 1.41.59.51 0 1.02-.2 1.41-.59l7.78-7.78 2.81-2.81c.8-.78.8-2.07 0-2.86zM5.41 20L4 18.59l7.72-7.72 1.47 1.35L5.41 20z\"/>\n",
              "  </svg>\n",
              "      </button>\n",
              "      \n",
              "  <style>\n",
              "    .colab-df-container {\n",
              "      display:flex;\n",
              "      flex-wrap:wrap;\n",
              "      gap: 12px;\n",
              "    }\n",
              "\n",
              "    .colab-df-convert {\n",
              "      background-color: #E8F0FE;\n",
              "      border: none;\n",
              "      border-radius: 50%;\n",
              "      cursor: pointer;\n",
              "      display: none;\n",
              "      fill: #1967D2;\n",
              "      height: 32px;\n",
              "      padding: 0 0 0 0;\n",
              "      width: 32px;\n",
              "    }\n",
              "\n",
              "    .colab-df-convert:hover {\n",
              "      background-color: #E2EBFA;\n",
              "      box-shadow: 0px 1px 2px rgba(60, 64, 67, 0.3), 0px 1px 3px 1px rgba(60, 64, 67, 0.15);\n",
              "      fill: #174EA6;\n",
              "    }\n",
              "\n",
              "    [theme=dark] .colab-df-convert {\n",
              "      background-color: #3B4455;\n",
              "      fill: #D2E3FC;\n",
              "    }\n",
              "\n",
              "    [theme=dark] .colab-df-convert:hover {\n",
              "      background-color: #434B5C;\n",
              "      box-shadow: 0px 1px 3px 1px rgba(0, 0, 0, 0.15);\n",
              "      filter: drop-shadow(0px 1px 2px rgba(0, 0, 0, 0.3));\n",
              "      fill: #FFFFFF;\n",
              "    }\n",
              "  </style>\n",
              "\n",
              "      <script>\n",
              "        const buttonEl =\n",
              "          document.querySelector('#df-bfe663c5-5532-46d6-9353-082148945d3d button.colab-df-convert');\n",
              "        buttonEl.style.display =\n",
              "          google.colab.kernel.accessAllowed ? 'block' : 'none';\n",
              "\n",
              "        async function convertToInteractive(key) {\n",
              "          const element = document.querySelector('#df-bfe663c5-5532-46d6-9353-082148945d3d');\n",
              "          const dataTable =\n",
              "            await google.colab.kernel.invokeFunction('convertToInteractive',\n",
              "                                                     [key], {});\n",
              "          if (!dataTable) return;\n",
              "\n",
              "          const docLinkHtml = 'Like what you see? Visit the ' +\n",
              "            '<a target=\"_blank\" href=https://colab.research.google.com/notebooks/data_table.ipynb>data table notebook</a>'\n",
              "            + ' to learn more about interactive tables.';\n",
              "          element.innerHTML = '';\n",
              "          dataTable['output_type'] = 'display_data';\n",
              "          await google.colab.output.renderOutput(dataTable, element);\n",
              "          const docLink = document.createElement('div');\n",
              "          docLink.innerHTML = docLinkHtml;\n",
              "          element.appendChild(docLink);\n",
              "        }\n",
              "      </script>\n",
              "    </div>\n",
              "  </div>\n",
              "  "
            ]
          },
          "metadata": {},
          "execution_count": 32
        }
      ],
      "source": [
        "data = df\n",
        "data['path'] = df['class'] + '/' + df['filename'] \n",
        "data.head()"
      ]
    },
    {
      "cell_type": "code",
      "execution_count": 33,
      "metadata": {
        "colab": {
          "base_uri": "https://localhost:8080/"
        },
        "outputId": "21477552-d76a-46e1-ff92-0c643fa89d7e",
        "id": "9huRE9UqQAzt"
      },
      "outputs": [
        {
          "output_type": "stream",
          "name": "stdout",
          "text": [
            "(599, 3), (200, 3), (200, 3)\n"
          ]
        }
      ],
      "source": [
        "X_dev, X_test, y_dev, y_test = train_test_split(data, y_new, test_size=0.2, random_state=42)\n",
        "X_train, X_val, y_train, y_val = train_test_split(X_dev, y_dev, test_size=0.25, random_state=42)\n",
        "print(str(X_train.shape) + ', ' + str(X_val.shape) + ', ' + str(X_test.shape))"
      ]
    },
    {
      "cell_type": "code",
      "execution_count": 34,
      "metadata": {
        "colab": {
          "base_uri": "https://localhost:8080/"
        },
        "outputId": "850a778e-acb2-4976-a495-0c189ef21e94",
        "id": "G949xbbHQAzt"
      },
      "outputs": [
        {
          "output_type": "stream",
          "name": "stdout",
          "text": [
            "Found 999 validated image filenames belonging to 10 classes.\n",
            "KerasTensor(type_spec=TensorSpec(shape=(None, 256, 256, 3), dtype=tf.float32, name='input_3'), name='input_3', description=\"created by layer 'input_3'\")\n"
          ]
        }
      ],
      "source": [
        "datagen = ImageDataGenerator(rescale=1.0/255.0)\n",
        "it = datagen.flow_from_dataframe(\n",
        "    data,\n",
        "    x_col=\"path\",\n",
        "    y_col=\"class\",batch_size=1,\n",
        "    directory=path+img_folder)\n",
        "\n",
        "inp = Input(shape = next(it)[0][0].shape)\n",
        "print(inp)"
      ]
    },
    {
      "cell_type": "code",
      "execution_count": 35,
      "metadata": {
        "colab": {
          "base_uri": "https://localhost:8080/",
          "height": 424
        },
        "outputId": "ac8debe8-b1d2-48e4-d4aa-267c08483732",
        "id": "M8P17TCWQAzt"
      },
      "outputs": [
        {
          "output_type": "execute_result",
          "data": {
            "text/plain": [
              "             filename    class                      path\n",
              "453   hiphop00082.png   hiphop    hiphop/hiphop00082.png\n",
              "793      pop00005.png      pop          pop/pop00005.png\n",
              "209  country00049.png  country  country/country00049.png\n",
              "309    disco00074.png    disco      disco/disco00074.png\n",
              "740      pop00039.png      pop          pop/pop00039.png\n",
              "..                ...      ...                       ...\n",
              "78     blues00079.png    blues      blues/blues00079.png\n",
              "29     blues00002.png    blues      blues/blues00002.png\n",
              "277  country00060.png  country  country/country00060.png\n",
              "261  country00028.png  country  country/country00028.png\n",
              "423   hiphop00023.png   hiphop    hiphop/hiphop00023.png\n",
              "\n",
              "[200 rows x 3 columns]"
            ],
            "text/html": [
              "\n",
              "  <div id=\"df-2503e762-0944-423e-b0d1-b25d7c7204a9\">\n",
              "    <div class=\"colab-df-container\">\n",
              "      <div>\n",
              "<style scoped>\n",
              "    .dataframe tbody tr th:only-of-type {\n",
              "        vertical-align: middle;\n",
              "    }\n",
              "\n",
              "    .dataframe tbody tr th {\n",
              "        vertical-align: top;\n",
              "    }\n",
              "\n",
              "    .dataframe thead th {\n",
              "        text-align: right;\n",
              "    }\n",
              "</style>\n",
              "<table border=\"1\" class=\"dataframe\">\n",
              "  <thead>\n",
              "    <tr style=\"text-align: right;\">\n",
              "      <th></th>\n",
              "      <th>filename</th>\n",
              "      <th>class</th>\n",
              "      <th>path</th>\n",
              "    </tr>\n",
              "  </thead>\n",
              "  <tbody>\n",
              "    <tr>\n",
              "      <th>453</th>\n",
              "      <td>hiphop00082.png</td>\n",
              "      <td>hiphop</td>\n",
              "      <td>hiphop/hiphop00082.png</td>\n",
              "    </tr>\n",
              "    <tr>\n",
              "      <th>793</th>\n",
              "      <td>pop00005.png</td>\n",
              "      <td>pop</td>\n",
              "      <td>pop/pop00005.png</td>\n",
              "    </tr>\n",
              "    <tr>\n",
              "      <th>209</th>\n",
              "      <td>country00049.png</td>\n",
              "      <td>country</td>\n",
              "      <td>country/country00049.png</td>\n",
              "    </tr>\n",
              "    <tr>\n",
              "      <th>309</th>\n",
              "      <td>disco00074.png</td>\n",
              "      <td>disco</td>\n",
              "      <td>disco/disco00074.png</td>\n",
              "    </tr>\n",
              "    <tr>\n",
              "      <th>740</th>\n",
              "      <td>pop00039.png</td>\n",
              "      <td>pop</td>\n",
              "      <td>pop/pop00039.png</td>\n",
              "    </tr>\n",
              "    <tr>\n",
              "      <th>...</th>\n",
              "      <td>...</td>\n",
              "      <td>...</td>\n",
              "      <td>...</td>\n",
              "    </tr>\n",
              "    <tr>\n",
              "      <th>78</th>\n",
              "      <td>blues00079.png</td>\n",
              "      <td>blues</td>\n",
              "      <td>blues/blues00079.png</td>\n",
              "    </tr>\n",
              "    <tr>\n",
              "      <th>29</th>\n",
              "      <td>blues00002.png</td>\n",
              "      <td>blues</td>\n",
              "      <td>blues/blues00002.png</td>\n",
              "    </tr>\n",
              "    <tr>\n",
              "      <th>277</th>\n",
              "      <td>country00060.png</td>\n",
              "      <td>country</td>\n",
              "      <td>country/country00060.png</td>\n",
              "    </tr>\n",
              "    <tr>\n",
              "      <th>261</th>\n",
              "      <td>country00028.png</td>\n",
              "      <td>country</td>\n",
              "      <td>country/country00028.png</td>\n",
              "    </tr>\n",
              "    <tr>\n",
              "      <th>423</th>\n",
              "      <td>hiphop00023.png</td>\n",
              "      <td>hiphop</td>\n",
              "      <td>hiphop/hiphop00023.png</td>\n",
              "    </tr>\n",
              "  </tbody>\n",
              "</table>\n",
              "<p>200 rows × 3 columns</p>\n",
              "</div>\n",
              "      <button class=\"colab-df-convert\" onclick=\"convertToInteractive('df-2503e762-0944-423e-b0d1-b25d7c7204a9')\"\n",
              "              title=\"Convert this dataframe to an interactive table.\"\n",
              "              style=\"display:none;\">\n",
              "        \n",
              "  <svg xmlns=\"http://www.w3.org/2000/svg\" height=\"24px\"viewBox=\"0 0 24 24\"\n",
              "       width=\"24px\">\n",
              "    <path d=\"M0 0h24v24H0V0z\" fill=\"none\"/>\n",
              "    <path d=\"M18.56 5.44l.94 2.06.94-2.06 2.06-.94-2.06-.94-.94-2.06-.94 2.06-2.06.94zm-11 1L8.5 8.5l.94-2.06 2.06-.94-2.06-.94L8.5 2.5l-.94 2.06-2.06.94zm10 10l.94 2.06.94-2.06 2.06-.94-2.06-.94-.94-2.06-.94 2.06-2.06.94z\"/><path d=\"M17.41 7.96l-1.37-1.37c-.4-.4-.92-.59-1.43-.59-.52 0-1.04.2-1.43.59L10.3 9.45l-7.72 7.72c-.78.78-.78 2.05 0 2.83L4 21.41c.39.39.9.59 1.41.59.51 0 1.02-.2 1.41-.59l7.78-7.78 2.81-2.81c.8-.78.8-2.07 0-2.86zM5.41 20L4 18.59l7.72-7.72 1.47 1.35L5.41 20z\"/>\n",
              "  </svg>\n",
              "      </button>\n",
              "      \n",
              "  <style>\n",
              "    .colab-df-container {\n",
              "      display:flex;\n",
              "      flex-wrap:wrap;\n",
              "      gap: 12px;\n",
              "    }\n",
              "\n",
              "    .colab-df-convert {\n",
              "      background-color: #E8F0FE;\n",
              "      border: none;\n",
              "      border-radius: 50%;\n",
              "      cursor: pointer;\n",
              "      display: none;\n",
              "      fill: #1967D2;\n",
              "      height: 32px;\n",
              "      padding: 0 0 0 0;\n",
              "      width: 32px;\n",
              "    }\n",
              "\n",
              "    .colab-df-convert:hover {\n",
              "      background-color: #E2EBFA;\n",
              "      box-shadow: 0px 1px 2px rgba(60, 64, 67, 0.3), 0px 1px 3px 1px rgba(60, 64, 67, 0.15);\n",
              "      fill: #174EA6;\n",
              "    }\n",
              "\n",
              "    [theme=dark] .colab-df-convert {\n",
              "      background-color: #3B4455;\n",
              "      fill: #D2E3FC;\n",
              "    }\n",
              "\n",
              "    [theme=dark] .colab-df-convert:hover {\n",
              "      background-color: #434B5C;\n",
              "      box-shadow: 0px 1px 3px 1px rgba(0, 0, 0, 0.15);\n",
              "      filter: drop-shadow(0px 1px 2px rgba(0, 0, 0, 0.3));\n",
              "      fill: #FFFFFF;\n",
              "    }\n",
              "  </style>\n",
              "\n",
              "      <script>\n",
              "        const buttonEl =\n",
              "          document.querySelector('#df-2503e762-0944-423e-b0d1-b25d7c7204a9 button.colab-df-convert');\n",
              "        buttonEl.style.display =\n",
              "          google.colab.kernel.accessAllowed ? 'block' : 'none';\n",
              "\n",
              "        async function convertToInteractive(key) {\n",
              "          const element = document.querySelector('#df-2503e762-0944-423e-b0d1-b25d7c7204a9');\n",
              "          const dataTable =\n",
              "            await google.colab.kernel.invokeFunction('convertToInteractive',\n",
              "                                                     [key], {});\n",
              "          if (!dataTable) return;\n",
              "\n",
              "          const docLinkHtml = 'Like what you see? Visit the ' +\n",
              "            '<a target=\"_blank\" href=https://colab.research.google.com/notebooks/data_table.ipynb>data table notebook</a>'\n",
              "            + ' to learn more about interactive tables.';\n",
              "          element.innerHTML = '';\n",
              "          dataTable['output_type'] = 'display_data';\n",
              "          await google.colab.output.renderOutput(dataTable, element);\n",
              "          const docLink = document.createElement('div');\n",
              "          docLink.innerHTML = docLinkHtml;\n",
              "          element.appendChild(docLink);\n",
              "        }\n",
              "      </script>\n",
              "    </div>\n",
              "  </div>\n",
              "  "
            ]
          },
          "metadata": {},
          "execution_count": 35
        }
      ],
      "source": [
        "inv3_model = inception_v3.InceptionV3(\n",
        "    include_top=False,\n",
        "    weights=\"imagenet\",\n",
        "    classes=10,\n",
        "    input_tensor = inp)\n",
        "\n",
        "X_test"
      ]
    },
    {
      "cell_type": "code",
      "execution_count": 36,
      "metadata": {
        "id": "HTFG2SGAQAzt"
      },
      "outputs": [],
      "source": [
        "for layer in inv3_model.layers:\n",
        "    layer.trainable=False"
      ]
    },
    {
      "cell_type": "code",
      "execution_count": 37,
      "metadata": {
        "colab": {
          "base_uri": "https://localhost:8080/"
        },
        "outputId": "785206fe-c3f6-429d-8e3a-2dc792de6b23",
        "id": "eNBHC57tQAzt"
      },
      "outputs": [
        {
          "output_type": "stream",
          "name": "stdout",
          "text": [
            "Model: \"sequential_2\"\n",
            "_________________________________________________________________\n",
            " Layer (type)                Output Shape              Param #   \n",
            "=================================================================\n",
            " inception_v3 (Functional)   (None, 6, 6, 2048)        21802784  \n",
            "                                                                 \n",
            " flatten_2 (Flatten)         (None, 73728)             0         \n",
            "                                                                 \n",
            " batch_normalization_286 (Ba  (None, 73728)            294912    \n",
            " tchNormalization)                                               \n",
            "                                                                 \n",
            " dense_6 (Dense)             (None, 512)               37749248  \n",
            "                                                                 \n",
            " dropout_4 (Dropout)         (None, 512)               0         \n",
            "                                                                 \n",
            " batch_normalization_287 (Ba  (None, 512)              2048      \n",
            " tchNormalization)                                               \n",
            "                                                                 \n",
            " dense_7 (Dense)             (None, 256)               131328    \n",
            "                                                                 \n",
            " dropout_5 (Dropout)         (None, 256)               0         \n",
            "                                                                 \n",
            " dense_8 (Dense)             (None, 10)                2570      \n",
            "                                                                 \n",
            "=================================================================\n",
            "Total params: 59,982,890\n",
            "Trainable params: 38,031,626\n",
            "Non-trainable params: 21,951,264\n",
            "_________________________________________________________________\n",
            "None\n"
          ]
        }
      ],
      "source": [
        "new_model = Sequential()\n",
        "new_model.add(inv3_model)\n",
        "new_model.add(Flatten())\n",
        "new_model.add(BatchNormalization())\n",
        "new_model.add(Dense(512, activation='relu'))\n",
        "new_model.add(Dropout(0.5))\n",
        "new_model.add(BatchNormalization())\n",
        "new_model.add(Dense(256, activation='relu'))\n",
        "new_model.add(Dropout(0.5))\n",
        "new_model.add(Dense(10, activation='softmax'))\n",
        "\n",
        "new_model.compile(loss = 'categorical_crossentropy',optimizer='adam',metrics=['accuracy', AUC()])\n",
        "print(new_model.summary())"
      ]
    },
    {
      "cell_type": "code",
      "execution_count": 38,
      "metadata": {
        "colab": {
          "base_uri": "https://localhost:8080/"
        },
        "outputId": "93b7a0db-5509-4cca-e72d-d2b30710d0ab",
        "id": "aGbBQKIqQAzv"
      },
      "outputs": [
        {
          "output_type": "stream",
          "name": "stdout",
          "text": [
            "Found 599 validated image filenames belonging to 10 classes.\n",
            "Found 200 validated image filenames belonging to 10 classes.\n",
            "Epoch 1/500\n",
            "19/19 [==============================] - 532s 28s/step - loss: 2.6419 - accuracy: 0.1886 - auc_4: 0.6602 - val_loss: 15.8803 - val_accuracy: 0.3250 - val_auc_4: 0.6508\n",
            "Epoch 2/500\n",
            "19/19 [==============================] - 5s 253ms/step - loss: 2.1354 - accuracy: 0.3389 - auc_4: 0.7634 - val_loss: 4.0905 - val_accuracy: 0.3700 - val_auc_4: 0.7361\n",
            "Epoch 3/500\n",
            "19/19 [==============================] - 8s 416ms/step - loss: 1.7761 - accuracy: 0.3907 - auc_4: 0.8307 - val_loss: 3.4364 - val_accuracy: 0.3950 - val_auc_4: 0.7326\n",
            "Epoch 4/500\n",
            "19/19 [==============================] - 5s 241ms/step - loss: 1.7943 - accuracy: 0.4124 - auc_4: 0.8283 - val_loss: 3.2838 - val_accuracy: 0.3400 - val_auc_4: 0.7410\n",
            "Epoch 5/500\n",
            "19/19 [==============================] - 6s 313ms/step - loss: 1.5459 - accuracy: 0.4741 - auc_4: 0.8684 - val_loss: 2.5596 - val_accuracy: 0.3800 - val_auc_4: 0.7840\n",
            "Epoch 6/500\n",
            "19/19 [==============================] - 5s 244ms/step - loss: 1.4456 - accuracy: 0.5259 - auc_4: 0.8823 - val_loss: 2.3711 - val_accuracy: 0.3700 - val_auc_4: 0.8044\n",
            "Epoch 7/500\n",
            "19/19 [==============================] - 8s 402ms/step - loss: 1.2985 - accuracy: 0.5376 - auc_4: 0.9053 - val_loss: 1.9899 - val_accuracy: 0.4250 - val_auc_4: 0.8302\n",
            "Epoch 8/500\n",
            "19/19 [==============================] - 8s 427ms/step - loss: 1.2149 - accuracy: 0.5810 - auc_4: 0.9158 - val_loss: 1.6828 - val_accuracy: 0.4800 - val_auc_4: 0.8616\n",
            "Epoch 9/500\n",
            "19/19 [==============================] - 6s 300ms/step - loss: 1.1066 - accuracy: 0.6110 - auc_4: 0.9302 - val_loss: 1.4677 - val_accuracy: 0.5150 - val_auc_4: 0.8882\n",
            "Epoch 10/500\n",
            "19/19 [==============================] - 5s 282ms/step - loss: 0.9695 - accuracy: 0.6661 - auc_4: 0.9464 - val_loss: 1.5639 - val_accuracy: 0.4950 - val_auc_4: 0.8801\n",
            "Epoch 11/500\n",
            "19/19 [==============================] - 5s 257ms/step - loss: 0.8737 - accuracy: 0.6895 - auc_4: 0.9563 - val_loss: 1.4191 - val_accuracy: 0.5550 - val_auc_4: 0.8915\n",
            "Epoch 12/500\n",
            "19/19 [==============================] - 5s 274ms/step - loss: 0.8185 - accuracy: 0.7212 - auc_4: 0.9612 - val_loss: 1.3729 - val_accuracy: 0.5600 - val_auc_4: 0.8986\n",
            "Epoch 13/500\n",
            "19/19 [==============================] - 5s 256ms/step - loss: 0.7444 - accuracy: 0.7362 - auc_4: 0.9685 - val_loss: 1.3594 - val_accuracy: 0.5700 - val_auc_4: 0.9000\n",
            "Epoch 14/500\n",
            "19/19 [==============================] - 6s 341ms/step - loss: 0.6968 - accuracy: 0.7679 - auc_4: 0.9719 - val_loss: 1.3637 - val_accuracy: 0.5400 - val_auc_4: 0.8979\n",
            "Epoch 15/500\n",
            "19/19 [==============================] - 5s 260ms/step - loss: 0.6488 - accuracy: 0.7629 - auc_4: 0.9760 - val_loss: 1.3631 - val_accuracy: 0.5750 - val_auc_4: 0.8987\n",
            "Epoch 16/500\n",
            "19/19 [==============================] - 5s 252ms/step - loss: 0.5640 - accuracy: 0.8013 - auc_4: 0.9828 - val_loss: 1.4196 - val_accuracy: 0.5750 - val_auc_4: 0.8944\n",
            "Epoch 17/500\n",
            "19/19 [==============================] - 10s 532ms/step - loss: 0.5479 - accuracy: 0.8197 - auc_4: 0.9821 - val_loss: 1.4740 - val_accuracy: 0.5400 - val_auc_4: 0.8911\n",
            "Epoch 18/500\n",
            "19/19 [==============================] - 8s 451ms/step - loss: 0.4565 - accuracy: 0.8431 - auc_4: 0.9886 - val_loss: 1.4381 - val_accuracy: 0.5750 - val_auc_4: 0.8945\n",
            "Epoch 19/500\n",
            "19/19 [==============================] - 6s 340ms/step - loss: 0.4177 - accuracy: 0.8715 - auc_4: 0.9891 - val_loss: 1.5101 - val_accuracy: 0.5650 - val_auc_4: 0.8846\n",
            "Epoch 20/500\n",
            "19/19 [==============================] - 8s 430ms/step - loss: 0.4412 - accuracy: 0.8497 - auc_4: 0.9880 - val_loss: 1.5412 - val_accuracy: 0.5700 - val_auc_4: 0.8856\n",
            "Epoch 21/500\n",
            "19/19 [==============================] - 8s 426ms/step - loss: 0.3739 - accuracy: 0.8848 - auc_4: 0.9922 - val_loss: 1.5284 - val_accuracy: 0.5750 - val_auc_4: 0.8890\n",
            "Epoch 22/500\n",
            "19/19 [==============================] - 6s 317ms/step - loss: 0.3087 - accuracy: 0.8982 - auc_4: 0.9949 - val_loss: 1.4673 - val_accuracy: 0.5600 - val_auc_4: 0.8964\n",
            "Epoch 23/500\n",
            "19/19 [==============================] - 5s 251ms/step - loss: 0.3382 - accuracy: 0.8865 - auc_4: 0.9925 - val_loss: 1.5950 - val_accuracy: 0.5650 - val_auc_4: 0.8839\n",
            "Epoch 24/500\n",
            "19/19 [==============================] - 7s 384ms/step - loss: 0.2592 - accuracy: 0.9199 - auc_4: 0.9963 - val_loss: 1.5699 - val_accuracy: 0.5850 - val_auc_4: 0.8876\n",
            "Epoch 25/500\n",
            "19/19 [==============================] - 7s 366ms/step - loss: 0.2810 - accuracy: 0.9032 - auc_4: 0.9949 - val_loss: 1.5887 - val_accuracy: 0.5800 - val_auc_4: 0.8897\n",
            "Epoch 26/500\n",
            "19/19 [==============================] - 5s 237ms/step - loss: 0.2796 - accuracy: 0.9165 - auc_4: 0.9942 - val_loss: 1.6061 - val_accuracy: 0.5800 - val_auc_4: 0.8925\n",
            "Epoch 27/500\n",
            "19/19 [==============================] - 5s 237ms/step - loss: 0.2590 - accuracy: 0.9182 - auc_4: 0.9963 - val_loss: 1.7463 - val_accuracy: 0.5350 - val_auc_4: 0.8825\n",
            "Epoch 28/500\n",
            "19/19 [==============================] - 8s 441ms/step - loss: 0.2377 - accuracy: 0.9282 - auc_4: 0.9960 - val_loss: 1.7344 - val_accuracy: 0.5900 - val_auc_4: 0.8828\n",
            "Epoch 29/500\n",
            "19/19 [==============================] - 6s 303ms/step - loss: 0.2047 - accuracy: 0.9299 - auc_4: 0.9968 - val_loss: 1.7832 - val_accuracy: 0.5700 - val_auc_4: 0.8803\n",
            "Epoch 30/500\n",
            "19/19 [==============================] - 10s 519ms/step - loss: 0.2359 - accuracy: 0.9282 - auc_4: 0.9968 - val_loss: 1.8471 - val_accuracy: 0.5700 - val_auc_4: 0.8797\n",
            "Epoch 31/500\n",
            "19/19 [==============================] - 11s 589ms/step - loss: 0.2274 - accuracy: 0.9282 - auc_4: 0.9965 - val_loss: 1.8158 - val_accuracy: 0.5800 - val_auc_4: 0.8917\n",
            "Epoch 32/500\n",
            "19/19 [==============================] - 7s 362ms/step - loss: 0.2530 - accuracy: 0.9199 - auc_4: 0.9936 - val_loss: 1.7523 - val_accuracy: 0.5650 - val_auc_4: 0.8871\n",
            "Epoch 33/500\n",
            "19/19 [==============================] - 7s 363ms/step - loss: 0.2120 - accuracy: 0.9366 - auc_4: 0.9950 - val_loss: 1.7498 - val_accuracy: 0.5600 - val_auc_4: 0.8847\n",
            "Epoch 34/500\n",
            "19/19 [==============================] - 5s 254ms/step - loss: 0.2136 - accuracy: 0.9215 - auc_4: 0.9972 - val_loss: 1.8336 - val_accuracy: 0.5450 - val_auc_4: 0.8818\n",
            "Epoch 35/500\n",
            "19/19 [==============================] - 7s 386ms/step - loss: 0.1967 - accuracy: 0.9449 - auc_4: 0.9959 - val_loss: 1.8589 - val_accuracy: 0.5300 - val_auc_4: 0.8806\n",
            "Epoch 36/500\n",
            "19/19 [==============================] - 5s 246ms/step - loss: 0.1968 - accuracy: 0.9299 - auc_4: 0.9979 - val_loss: 1.9464 - val_accuracy: 0.5600 - val_auc_4: 0.8770\n",
            "Epoch 37/500\n",
            "19/19 [==============================] - 7s 359ms/step - loss: 0.1928 - accuracy: 0.9265 - auc_4: 0.9970 - val_loss: 1.9508 - val_accuracy: 0.5400 - val_auc_4: 0.8775\n",
            "Epoch 38/500\n",
            "19/19 [==============================] - 5s 241ms/step - loss: 0.1530 - accuracy: 0.9599 - auc_4: 0.9968 - val_loss: 1.8889 - val_accuracy: 0.5400 - val_auc_4: 0.8818\n",
            "Epoch 39/500\n",
            "19/19 [==============================] - 6s 318ms/step - loss: 0.1655 - accuracy: 0.9466 - auc_4: 0.9977 - val_loss: 1.9047 - val_accuracy: 0.5500 - val_auc_4: 0.8720\n",
            "Epoch 40/500\n",
            "19/19 [==============================] - 5s 243ms/step - loss: 0.1823 - accuracy: 0.9332 - auc_4: 0.9981 - val_loss: 1.8757 - val_accuracy: 0.5600 - val_auc_4: 0.8695\n",
            "Epoch 41/500\n",
            "19/19 [==============================] - 5s 237ms/step - loss: 0.1452 - accuracy: 0.9549 - auc_4: 0.9978 - val_loss: 1.7913 - val_accuracy: 0.5600 - val_auc_4: 0.8765\n",
            "Epoch 42/500\n",
            "19/19 [==============================] - 8s 426ms/step - loss: 0.1586 - accuracy: 0.9466 - auc_4: 0.9985 - val_loss: 1.9483 - val_accuracy: 0.5500 - val_auc_4: 0.8744\n",
            "Epoch 43/500\n",
            "19/19 [==============================] - 5s 237ms/step - loss: 0.1545 - accuracy: 0.9482 - auc_4: 0.9978 - val_loss: 1.9243 - val_accuracy: 0.5500 - val_auc_4: 0.8782\n",
            "Epoch 44/500\n",
            "19/19 [==============================] - 7s 387ms/step - loss: 0.1907 - accuracy: 0.9349 - auc_4: 0.9969 - val_loss: 1.9213 - val_accuracy: 0.5650 - val_auc_4: 0.8765\n",
            "Epoch 45/500\n",
            "19/19 [==============================] - 6s 295ms/step - loss: 0.1904 - accuracy: 0.9349 - auc_4: 0.9956 - val_loss: 1.9958 - val_accuracy: 0.5650 - val_auc_4: 0.8685\n",
            "Epoch 46/500\n",
            "19/19 [==============================] - 7s 344ms/step - loss: 0.1961 - accuracy: 0.9332 - auc_4: 0.9977 - val_loss: 2.0969 - val_accuracy: 0.5650 - val_auc_4: 0.8607\n",
            "Epoch 47/500\n",
            "19/19 [==============================] - 5s 259ms/step - loss: 0.1452 - accuracy: 0.9466 - auc_4: 0.9981 - val_loss: 2.0771 - val_accuracy: 0.6000 - val_auc_4: 0.8735\n",
            "Epoch 48/500\n",
            "19/19 [==============================] - 5s 284ms/step - loss: 0.1658 - accuracy: 0.9499 - auc_4: 0.9975 - val_loss: 2.0398 - val_accuracy: 0.5500 - val_auc_4: 0.8628\n",
            "Epoch 49/500\n",
            "19/19 [==============================] - 4s 230ms/step - loss: 0.1780 - accuracy: 0.9416 - auc_4: 0.9981 - val_loss: 2.0686 - val_accuracy: 0.5300 - val_auc_4: 0.8685\n",
            "Epoch 50/500\n",
            "19/19 [==============================] - 5s 245ms/step - loss: 0.1583 - accuracy: 0.9533 - auc_4: 0.9978 - val_loss: 2.0066 - val_accuracy: 0.5400 - val_auc_4: 0.8739\n",
            "Epoch 51/500\n",
            "19/19 [==============================] - 6s 295ms/step - loss: 0.1563 - accuracy: 0.9416 - auc_4: 0.9979 - val_loss: 2.1452 - val_accuracy: 0.5400 - val_auc_4: 0.8588\n",
            "Epoch 52/500\n",
            "19/19 [==============================] - 5s 252ms/step - loss: 0.1442 - accuracy: 0.9583 - auc_4: 0.9972 - val_loss: 2.1970 - val_accuracy: 0.5300 - val_auc_4: 0.8563\n",
            "Epoch 53/500\n",
            "19/19 [==============================] - 5s 273ms/step - loss: 0.1459 - accuracy: 0.9633 - auc_4: 0.9978 - val_loss: 2.1908 - val_accuracy: 0.5250 - val_auc_4: 0.8596\n",
            "Epoch 54/500\n",
            "19/19 [==============================] - 5s 276ms/step - loss: 0.1572 - accuracy: 0.9466 - auc_4: 0.9970 - val_loss: 2.2394 - val_accuracy: 0.5300 - val_auc_4: 0.8443\n",
            "Epoch 55/500\n",
            "19/19 [==============================] - 6s 338ms/step - loss: 0.1573 - accuracy: 0.9382 - auc_4: 0.9986 - val_loss: 2.1985 - val_accuracy: 0.5500 - val_auc_4: 0.8540\n",
            "Epoch 56/500\n",
            "19/19 [==============================] - 5s 237ms/step - loss: 0.1789 - accuracy: 0.9416 - auc_4: 0.9972 - val_loss: 2.1846 - val_accuracy: 0.5300 - val_auc_4: 0.8526\n",
            "Epoch 57/500\n",
            "19/19 [==============================] - 5s 285ms/step - loss: 0.1433 - accuracy: 0.9566 - auc_4: 0.9971 - val_loss: 2.2831 - val_accuracy: 0.5650 - val_auc_4: 0.8599\n",
            "Epoch 58/500\n",
            "19/19 [==============================] - 5s 237ms/step - loss: 0.1653 - accuracy: 0.9416 - auc_4: 0.9975 - val_loss: 2.3312 - val_accuracy: 0.5250 - val_auc_4: 0.8514\n",
            "Epoch 59/500\n",
            "19/19 [==============================] - 4s 235ms/step - loss: 0.1427 - accuracy: 0.9466 - auc_4: 0.9987 - val_loss: 2.3354 - val_accuracy: 0.5600 - val_auc_4: 0.8559\n",
            "Epoch 60/500\n",
            "19/19 [==============================] - 7s 376ms/step - loss: 0.1635 - accuracy: 0.9482 - auc_4: 0.9967 - val_loss: 2.2553 - val_accuracy: 0.5500 - val_auc_4: 0.8585\n",
            "Epoch 61/500\n",
            "19/19 [==============================] - 5s 246ms/step - loss: 0.1909 - accuracy: 0.9449 - auc_4: 0.9963 - val_loss: 2.1862 - val_accuracy: 0.5550 - val_auc_4: 0.8656\n",
            "Epoch 62/500\n",
            "19/19 [==============================] - 5s 252ms/step - loss: 0.1238 - accuracy: 0.9583 - auc_4: 0.9976 - val_loss: 2.2516 - val_accuracy: 0.5500 - val_auc_4: 0.8527\n",
            "Epoch 63/500\n",
            "19/19 [==============================] - 5s 272ms/step - loss: 0.1232 - accuracy: 0.9533 - auc_4: 0.9992 - val_loss: 2.1969 - val_accuracy: 0.5600 - val_auc_4: 0.8678\n",
            "Epoch 64/500\n",
            "19/19 [==============================] - 4s 236ms/step - loss: 0.1409 - accuracy: 0.9566 - auc_4: 0.9980 - val_loss: 2.1184 - val_accuracy: 0.5950 - val_auc_4: 0.8697\n",
            "Epoch 65/500\n",
            "19/19 [==============================] - 6s 316ms/step - loss: 0.0998 - accuracy: 0.9633 - auc_4: 0.9994 - val_loss: 2.3037 - val_accuracy: 0.5800 - val_auc_4: 0.8604\n",
            "Epoch 66/500\n",
            "19/19 [==============================] - 7s 375ms/step - loss: 0.1278 - accuracy: 0.9649 - auc_4: 0.9974 - val_loss: 2.4438 - val_accuracy: 0.5450 - val_auc_4: 0.8566\n",
            "Epoch 67/500\n",
            "19/19 [==============================] - 5s 266ms/step - loss: 0.1103 - accuracy: 0.9616 - auc_4: 0.9992 - val_loss: 2.4505 - val_accuracy: 0.5750 - val_auc_4: 0.8447\n"
          ]
        }
      ],
      "source": [
        "es = EarlyStopping(\n",
        "    monitor='val_accuracy', \n",
        "    restore_best_weights=True, \n",
        "    patience=20, \n",
        "    min_delta = 0.001\n",
        ")\n",
        "\n",
        "history = new_model.fit(datagen.flow_from_dataframe(X_train,\n",
        "                                                    x_col=\"path\",\n",
        "                                                    y_col=\"class\",\n",
        "                                                    batch_size = 32, \n",
        "                                                    directory = path + img_folder), \n",
        "                        validation_data=datagen.flow_from_dataframe(X_val,\n",
        "                                                                    x_col=\"path\",\n",
        "                                                                    y_col=\"class\",\n",
        "                                                                    batch_size=32, \n",
        "                                                                    directory = path + img_folder),\n",
        "                        epochs=500,\n",
        "                        callbacks=[es])"
      ]
    },
    {
      "cell_type": "code",
      "source": [
        "test_gen = datagen.flow_from_dataframe(X_test, \n",
        "                                        x_col=\"path\", \n",
        "                                        y_col=\"class\", \n",
        "                                        batch_size=32, \n",
        "                                        class_mode='categorical',\n",
        "                                        shuffle = False,\n",
        "                                        directory = path + img_folder)\n",
        "\n",
        "labels = pd.get_dummies(np.array(test_gen.labels))\n",
        "y_pred = new_model.predict(test_gen)\n",
        "\n",
        "y_pred_classes = np.argmax(np.array(y_pred), axis=1)\n",
        "y_true = np.argmax(np.array(labels), axis=1)\n",
        "\n",
        "m = AUC()\n",
        "m.update_state(labels, y_pred)\n",
        "\n",
        "print(\"Accuracy of the Test dataset:\", accuracy_score(y_pred_classes, y_true))\n",
        "print(\"AUC of the Test dataset:\", m.result().numpy())"
      ],
      "metadata": {
        "colab": {
          "base_uri": "https://localhost:8080/"
        },
        "id": "wX0e-Fk0upVJ",
        "outputId": "c9c7a1e5-c013-475f-891a-496a013fc3ff"
      },
      "execution_count": 39,
      "outputs": [
        {
          "output_type": "stream",
          "name": "stdout",
          "text": [
            "Found 200 validated image filenames belonging to 10 classes.\n",
            "7/7 [==============================] - 114s 19s/step\n",
            "Accuracy of the Test dataset: 0.62\n",
            "AUC of the Test dataset: 0.87255275\n"
          ]
        }
      ]
    },
    {
      "cell_type": "markdown",
      "source": [
        "## Different Models on Optimal Image Dataset"
      ],
      "metadata": {
        "id": "_nRhxb0AzTEe"
      }
    },
    {
      "cell_type": "code",
      "source": [
        "img_folder = \"Mel Spectrogram/\"\n",
        "df = pd.DataFrame()\n",
        "g_list = []\n",
        "file_list = []\n",
        "\n",
        "for genre in genre_dict:\n",
        "    for file_name in os.listdir(path + img_folder + genre):\n",
        "        if file_name.endswith(\".png\"):\n",
        "            file_list.append(file_name)\n",
        "            g_list.append(genre)\n",
        "    \n",
        "df['filename'] = file_list\n",
        "df['class'] = g_list"
      ],
      "metadata": {
        "id": "upNwTuIyzXyz"
      },
      "execution_count": 40,
      "outputs": []
    },
    {
      "cell_type": "code",
      "source": [
        "x = df\n",
        "x['path'] = df['class'] + '/' + df['filename'] \n",
        "\n",
        "y = np.array(df['class'].tolist())\n",
        "y_new = pd.get_dummies(y)"
      ],
      "metadata": {
        "id": "FnktkGah2jRW"
      },
      "execution_count": 41,
      "outputs": []
    },
    {
      "cell_type": "code",
      "source": [
        "X_train, X_test, y_train, y_test = train_test_split(data, y_new, test_size=0.2, random_state=42)\n",
        "print(str(X_train.shape) + ', ' + str(X_test.shape))"
      ],
      "metadata": {
        "colab": {
          "base_uri": "https://localhost:8080/"
        },
        "id": "-uROFm1d2xPc",
        "outputId": "b72ad45a-f8bb-4064-eda4-7c001349f550"
      },
      "execution_count": 42,
      "outputs": [
        {
          "output_type": "stream",
          "name": "stdout",
          "text": [
            "(799, 3), (200, 3)\n"
          ]
        }
      ]
    },
    {
      "cell_type": "code",
      "source": [
        "datagen = ImageDataGenerator(rescale=1.0/255.0)\n",
        "it = datagen.flow_from_dataframe(\n",
        "    data,\n",
        "    x_col=\"path\",\n",
        "    y_col=\"class\",batch_size=1,\n",
        "    directory=path+img_folder)\n",
        "\n",
        "inp = Input(shape = next(it)[0][0].shape)\n",
        "print(inp)"
      ],
      "metadata": {
        "colab": {
          "base_uri": "https://localhost:8080/"
        },
        "id": "kyvN0hx52528",
        "outputId": "7dc97c0b-7c93-4fe9-ff92-6350c7419a58"
      },
      "execution_count": 43,
      "outputs": [
        {
          "output_type": "stream",
          "name": "stdout",
          "text": [
            "Found 999 validated image filenames belonging to 10 classes.\n",
            "KerasTensor(type_spec=TensorSpec(shape=(None, 256, 256, 3), dtype=tf.float32, name='input_4'), name='input_4', description=\"created by layer 'input_4'\")\n"
          ]
        }
      ]
    },
    {
      "cell_type": "code",
      "source": [
        "test_dat = ImageDataGenerator(rescale=1.0/255.0)\n",
        "test_gen = datagen.flow_from_dataframe(x, \n",
        "                                        x_col=\"path\", \n",
        "                                        y_col=\"class\", \n",
        "                                        batch_size=32, \n",
        "                                        class_mode='categorical',\n",
        "                                        shuffle = False,\n",
        "                                        directory = path + img_folder)"
      ],
      "metadata": {
        "colab": {
          "base_uri": "https://localhost:8080/"
        },
        "id": "nJOc-ncd5di3",
        "outputId": "403fa0a6-ded5-49f1-86fe-3f611bb6551c"
      },
      "execution_count": 44,
      "outputs": [
        {
          "output_type": "stream",
          "name": "stdout",
          "text": [
            "Found 999 validated image filenames belonging to 10 classes.\n"
          ]
        }
      ]
    },
    {
      "cell_type": "markdown",
      "source": [
        "### Inception V3"
      ],
      "metadata": {
        "id": "QLIVc3wP3Qox"
      }
    },
    {
      "cell_type": "code",
      "source": [
        "inv3_model = inception_v3.InceptionV3(\n",
        "    include_top=False,\n",
        "    weights=\"imagenet\",\n",
        "    classes=10,\n",
        "    input_tensor = inp)\n",
        "\n",
        "for layer in inv3_model.layers:\n",
        "    layer.trainable=False"
      ],
      "metadata": {
        "id": "IpJiN-X229kC"
      },
      "execution_count": 45,
      "outputs": []
    },
    {
      "cell_type": "code",
      "source": [
        "new_model = Sequential()\n",
        "new_model.add(inv3_model)\n",
        "new_model.add(Flatten())\n",
        "new_model.add(BatchNormalization())\n",
        "new_model.add(Dense(512, activation='relu'))\n",
        "new_model.add(Dropout(0.5))\n",
        "new_model.add(BatchNormalization())\n",
        "new_model.add(Dense(256, activation='relu'))\n",
        "new_model.add(Dropout(0.5))\n",
        "new_model.add(Dense(10, activation='softmax'))\n",
        "\n",
        "new_model.compile(loss = 'categorical_crossentropy',optimizer='adam',metrics=['accuracy', AUC()])\n",
        "print(new_model.summary())"
      ],
      "metadata": {
        "colab": {
          "base_uri": "https://localhost:8080/"
        },
        "id": "p4KANOYb3ENc",
        "outputId": "cfa5fb32-5be7-405b-a8d4-2ac24452ad00"
      },
      "execution_count": 46,
      "outputs": [
        {
          "output_type": "stream",
          "name": "stdout",
          "text": [
            "Model: \"sequential_3\"\n",
            "_________________________________________________________________\n",
            " Layer (type)                Output Shape              Param #   \n",
            "=================================================================\n",
            " inception_v3 (Functional)   (None, 6, 6, 2048)        21802784  \n",
            "                                                                 \n",
            " flatten_3 (Flatten)         (None, 73728)             0         \n",
            "                                                                 \n",
            " batch_normalization_382 (Ba  (None, 73728)            294912    \n",
            " tchNormalization)                                               \n",
            "                                                                 \n",
            " dense_9 (Dense)             (None, 512)               37749248  \n",
            "                                                                 \n",
            " dropout_6 (Dropout)         (None, 512)               0         \n",
            "                                                                 \n",
            " batch_normalization_383 (Ba  (None, 512)              2048      \n",
            " tchNormalization)                                               \n",
            "                                                                 \n",
            " dense_10 (Dense)            (None, 256)               131328    \n",
            "                                                                 \n",
            " dropout_7 (Dropout)         (None, 256)               0         \n",
            "                                                                 \n",
            " dense_11 (Dense)            (None, 10)                2570      \n",
            "                                                                 \n",
            "=================================================================\n",
            "Total params: 59,982,890\n",
            "Trainable params: 38,031,626\n",
            "Non-trainable params: 21,951,264\n",
            "_________________________________________________________________\n",
            "None\n"
          ]
        }
      ]
    },
    {
      "cell_type": "code",
      "source": [
        "es = EarlyStopping(\n",
        "    monitor='val_accuracy', \n",
        "    restore_best_weights=True, \n",
        "    patience=20, \n",
        "    min_delta = 0.001\n",
        ")\n",
        "\n",
        "history = new_model.fit(datagen.flow_from_dataframe(X_train,\n",
        "                                                    x_col=\"path\",\n",
        "                                                    y_col=\"class\",\n",
        "                                                    batch_size = 32, \n",
        "                                                    directory = path + img_folder), \n",
        "                        validation_data=datagen.flow_from_dataframe(X_test,\n",
        "                                                                    x_col=\"path\",\n",
        "                                                                    y_col=\"class\",\n",
        "                                                                    batch_size=32, \n",
        "                                                                    directory = path + img_folder),\n",
        "                        epochs=500,\n",
        "                        callbacks=[es])"
      ],
      "metadata": {
        "colab": {
          "base_uri": "https://localhost:8080/"
        },
        "id": "8uD8Y8mR3Gte",
        "outputId": "92b38e3b-1fcd-4e12-f81d-1b3327898dbb"
      },
      "execution_count": 47,
      "outputs": [
        {
          "output_type": "stream",
          "name": "stdout",
          "text": [
            "Found 799 validated image filenames belonging to 10 classes.\n",
            "Found 200 validated image filenames belonging to 10 classes.\n",
            "Epoch 1/500\n",
            "25/25 [==============================] - 16s 422ms/step - loss: 2.2493 - accuracy: 0.2979 - auc_6: 0.7467 - val_loss: 2.3767 - val_accuracy: 0.3450 - val_auc_6: 0.7944\n",
            "Epoch 2/500\n",
            "25/25 [==============================] - 6s 238ms/step - loss: 1.4580 - accuracy: 0.5081 - auc_6: 0.8841 - val_loss: 1.5354 - val_accuracy: 0.4850 - val_auc_6: 0.8701\n",
            "Epoch 3/500\n",
            "25/25 [==============================] - 7s 270ms/step - loss: 1.1447 - accuracy: 0.6058 - auc_6: 0.9235 - val_loss: 1.3138 - val_accuracy: 0.5400 - val_auc_6: 0.9002\n",
            "Epoch 4/500\n",
            "25/25 [==============================] - 6s 237ms/step - loss: 0.8865 - accuracy: 0.7146 - auc_6: 0.9532 - val_loss: 1.2835 - val_accuracy: 0.5500 - val_auc_6: 0.9045\n",
            "Epoch 5/500\n",
            "25/25 [==============================] - 10s 409ms/step - loss: 0.6811 - accuracy: 0.7635 - auc_6: 0.9744 - val_loss: 1.2575 - val_accuracy: 0.5700 - val_auc_6: 0.9114\n",
            "Epoch 6/500\n",
            "25/25 [==============================] - 6s 243ms/step - loss: 0.5064 - accuracy: 0.8298 - auc_6: 0.9853 - val_loss: 1.1860 - val_accuracy: 0.6000 - val_auc_6: 0.9211\n",
            "Epoch 7/500\n",
            "25/25 [==============================] - 7s 279ms/step - loss: 0.4313 - accuracy: 0.8598 - auc_6: 0.9885 - val_loss: 1.1481 - val_accuracy: 0.6350 - val_auc_6: 0.9257\n",
            "Epoch 8/500\n",
            "25/25 [==============================] - 6s 224ms/step - loss: 0.2741 - accuracy: 0.9049 - auc_6: 0.9961 - val_loss: 1.1320 - val_accuracy: 0.6150 - val_auc_6: 0.9268\n",
            "Epoch 9/500\n",
            "25/25 [==============================] - 6s 224ms/step - loss: 0.2607 - accuracy: 0.9199 - auc_6: 0.9957 - val_loss: 1.1668 - val_accuracy: 0.5900 - val_auc_6: 0.9273\n",
            "Epoch 10/500\n",
            "25/25 [==============================] - 6s 252ms/step - loss: 0.2137 - accuracy: 0.9412 - auc_6: 0.9964 - val_loss: 1.1868 - val_accuracy: 0.6250 - val_auc_6: 0.9211\n",
            "Epoch 11/500\n",
            "25/25 [==============================] - 6s 228ms/step - loss: 0.1747 - accuracy: 0.9462 - auc_6: 0.9984 - val_loss: 1.1988 - val_accuracy: 0.6100 - val_auc_6: 0.9236\n",
            "Epoch 12/500\n",
            "25/25 [==============================] - 6s 254ms/step - loss: 0.1542 - accuracy: 0.9524 - auc_6: 0.9976 - val_loss: 1.2344 - val_accuracy: 0.6000 - val_auc_6: 0.9208\n",
            "Epoch 13/500\n",
            "25/25 [==============================] - 6s 222ms/step - loss: 0.1433 - accuracy: 0.9637 - auc_6: 0.9983 - val_loss: 1.2331 - val_accuracy: 0.6200 - val_auc_6: 0.9202\n",
            "Epoch 14/500\n",
            "25/25 [==============================] - 7s 260ms/step - loss: 0.1200 - accuracy: 0.9599 - auc_6: 0.9993 - val_loss: 1.2450 - val_accuracy: 0.6300 - val_auc_6: 0.9223\n",
            "Epoch 15/500\n",
            "25/25 [==============================] - 6s 229ms/step - loss: 0.1020 - accuracy: 0.9737 - auc_6: 0.9988 - val_loss: 1.2401 - val_accuracy: 0.6300 - val_auc_6: 0.9209\n",
            "Epoch 16/500\n",
            "25/25 [==============================] - 7s 282ms/step - loss: 0.0781 - accuracy: 0.9712 - auc_6: 0.9997 - val_loss: 1.3341 - val_accuracy: 0.6150 - val_auc_6: 0.9098\n",
            "Epoch 17/500\n",
            "25/25 [==============================] - 6s 230ms/step - loss: 0.0827 - accuracy: 0.9737 - auc_6: 0.9997 - val_loss: 1.2928 - val_accuracy: 0.6300 - val_auc_6: 0.9155\n",
            "Epoch 18/500\n",
            "25/25 [==============================] - 8s 304ms/step - loss: 0.0798 - accuracy: 0.9775 - auc_6: 0.9996 - val_loss: 1.3615 - val_accuracy: 0.6400 - val_auc_6: 0.9148\n",
            "Epoch 19/500\n",
            "25/25 [==============================] - 6s 220ms/step - loss: 0.0930 - accuracy: 0.9737 - auc_6: 0.9994 - val_loss: 1.4759 - val_accuracy: 0.6000 - val_auc_6: 0.9134\n",
            "Epoch 20/500\n",
            "25/25 [==============================] - 7s 295ms/step - loss: 0.0859 - accuracy: 0.9737 - auc_6: 0.9982 - val_loss: 1.4820 - val_accuracy: 0.6250 - val_auc_6: 0.9090\n",
            "Epoch 21/500\n",
            "25/25 [==============================] - 6s 233ms/step - loss: 0.0777 - accuracy: 0.9762 - auc_6: 0.9990 - val_loss: 1.5459 - val_accuracy: 0.6100 - val_auc_6: 0.9005\n",
            "Epoch 22/500\n",
            "25/25 [==============================] - 7s 282ms/step - loss: 0.0544 - accuracy: 0.9887 - auc_6: 0.9992 - val_loss: 1.5252 - val_accuracy: 0.6000 - val_auc_6: 0.9033\n",
            "Epoch 23/500\n",
            "25/25 [==============================] - 6s 236ms/step - loss: 0.0514 - accuracy: 0.9862 - auc_6: 0.9998 - val_loss: 1.5480 - val_accuracy: 0.6300 - val_auc_6: 0.9013\n",
            "Epoch 24/500\n",
            "25/25 [==============================] - 7s 262ms/step - loss: 0.0599 - accuracy: 0.9900 - auc_6: 0.9991 - val_loss: 1.5853 - val_accuracy: 0.6100 - val_auc_6: 0.9025\n",
            "Epoch 25/500\n",
            "25/25 [==============================] - 6s 226ms/step - loss: 0.0530 - accuracy: 0.9850 - auc_6: 0.9992 - val_loss: 1.6273 - val_accuracy: 0.6300 - val_auc_6: 0.9012\n",
            "Epoch 26/500\n",
            "25/25 [==============================] - 6s 255ms/step - loss: 0.0644 - accuracy: 0.9812 - auc_6: 0.9991 - val_loss: 1.6564 - val_accuracy: 0.6300 - val_auc_6: 0.8960\n",
            "Epoch 27/500\n",
            "25/25 [==============================] - 6s 243ms/step - loss: 0.0632 - accuracy: 0.9750 - auc_6: 0.9998 - val_loss: 1.5318 - val_accuracy: 0.6450 - val_auc_6: 0.9026\n",
            "Epoch 28/500\n",
            "25/25 [==============================] - 7s 262ms/step - loss: 0.0350 - accuracy: 0.9925 - auc_6: 0.9999 - val_loss: 1.5409 - val_accuracy: 0.6400 - val_auc_6: 0.9054\n",
            "Epoch 29/500\n",
            "25/25 [==============================] - 6s 226ms/step - loss: 0.0324 - accuracy: 0.9950 - auc_6: 1.0000 - val_loss: 1.6091 - val_accuracy: 0.6300 - val_auc_6: 0.8997\n",
            "Epoch 30/500\n",
            "25/25 [==============================] - 7s 275ms/step - loss: 0.0274 - accuracy: 0.9912 - auc_6: 1.0000 - val_loss: 1.5442 - val_accuracy: 0.6500 - val_auc_6: 0.8995\n",
            "Epoch 31/500\n",
            "25/25 [==============================] - 6s 251ms/step - loss: 0.0503 - accuracy: 0.9862 - auc_6: 0.9992 - val_loss: 1.5096 - val_accuracy: 0.6550 - val_auc_6: 0.9065\n",
            "Epoch 32/500\n",
            "25/25 [==============================] - 7s 276ms/step - loss: 0.0464 - accuracy: 0.9862 - auc_6: 0.9992 - val_loss: 1.5301 - val_accuracy: 0.6900 - val_auc_6: 0.9049\n",
            "Epoch 33/500\n",
            "25/25 [==============================] - 6s 225ms/step - loss: 0.0331 - accuracy: 0.9900 - auc_6: 0.9999 - val_loss: 1.6462 - val_accuracy: 0.6450 - val_auc_6: 0.9009\n",
            "Epoch 34/500\n",
            "25/25 [==============================] - 8s 303ms/step - loss: 0.0405 - accuracy: 0.9900 - auc_6: 0.9999 - val_loss: 1.6539 - val_accuracy: 0.6450 - val_auc_6: 0.9008\n",
            "Epoch 35/500\n",
            "25/25 [==============================] - 6s 226ms/step - loss: 0.0515 - accuracy: 0.9837 - auc_6: 0.9992 - val_loss: 1.6464 - val_accuracy: 0.6100 - val_auc_6: 0.9044\n",
            "Epoch 36/500\n",
            "25/25 [==============================] - 8s 302ms/step - loss: 0.0378 - accuracy: 0.9900 - auc_6: 0.9992 - val_loss: 1.6667 - val_accuracy: 0.6200 - val_auc_6: 0.8981\n",
            "Epoch 37/500\n",
            "25/25 [==============================] - 6s 224ms/step - loss: 0.0468 - accuracy: 0.9862 - auc_6: 0.9992 - val_loss: 1.7933 - val_accuracy: 0.6200 - val_auc_6: 0.8870\n",
            "Epoch 38/500\n",
            "25/25 [==============================] - 7s 298ms/step - loss: 0.0266 - accuracy: 0.9900 - auc_6: 1.0000 - val_loss: 1.7710 - val_accuracy: 0.6350 - val_auc_6: 0.8922\n",
            "Epoch 39/500\n",
            "25/25 [==============================] - 6s 236ms/step - loss: 0.0293 - accuracy: 0.9912 - auc_6: 1.0000 - val_loss: 1.6794 - val_accuracy: 0.6400 - val_auc_6: 0.8962\n",
            "Epoch 40/500\n",
            "25/25 [==============================] - 6s 252ms/step - loss: 0.0303 - accuracy: 0.9937 - auc_6: 0.9999 - val_loss: 1.6672 - val_accuracy: 0.6350 - val_auc_6: 0.8974\n",
            "Epoch 41/500\n",
            "25/25 [==============================] - 6s 233ms/step - loss: 0.0391 - accuracy: 0.9900 - auc_6: 0.9993 - val_loss: 1.7973 - val_accuracy: 0.6400 - val_auc_6: 0.8969\n",
            "Epoch 42/500\n",
            "25/25 [==============================] - 6s 241ms/step - loss: 0.0407 - accuracy: 0.9887 - auc_6: 0.9992 - val_loss: 1.8403 - val_accuracy: 0.6400 - val_auc_6: 0.8934\n",
            "Epoch 43/500\n",
            "25/25 [==============================] - 6s 224ms/step - loss: 0.0435 - accuracy: 0.9925 - auc_6: 0.9986 - val_loss: 1.8453 - val_accuracy: 0.6150 - val_auc_6: 0.8928\n",
            "Epoch 44/500\n",
            "25/25 [==============================] - 6s 259ms/step - loss: 0.0354 - accuracy: 0.9875 - auc_6: 0.9999 - val_loss: 1.8089 - val_accuracy: 0.6450 - val_auc_6: 0.8945\n",
            "Epoch 45/500\n",
            "25/25 [==============================] - 6s 227ms/step - loss: 0.0311 - accuracy: 0.9925 - auc_6: 0.9999 - val_loss: 1.8052 - val_accuracy: 0.6450 - val_auc_6: 0.8815\n",
            "Epoch 46/500\n",
            "25/25 [==============================] - 8s 304ms/step - loss: 0.0277 - accuracy: 0.9925 - auc_6: 0.9993 - val_loss: 1.8081 - val_accuracy: 0.6500 - val_auc_6: 0.8913\n",
            "Epoch 47/500\n",
            "25/25 [==============================] - 6s 228ms/step - loss: 0.0330 - accuracy: 0.9862 - auc_6: 0.9999 - val_loss: 1.7398 - val_accuracy: 0.6600 - val_auc_6: 0.8987\n",
            "Epoch 48/500\n",
            "25/25 [==============================] - 8s 305ms/step - loss: 0.0555 - accuracy: 0.9825 - auc_6: 0.9986 - val_loss: 1.8007 - val_accuracy: 0.6600 - val_auc_6: 0.8935\n",
            "Epoch 49/500\n",
            "25/25 [==============================] - 7s 294ms/step - loss: 0.0374 - accuracy: 0.9875 - auc_6: 0.9992 - val_loss: 1.8043 - val_accuracy: 0.6450 - val_auc_6: 0.8896\n",
            "Epoch 50/500\n",
            "25/25 [==============================] - 7s 268ms/step - loss: 0.0482 - accuracy: 0.9825 - auc_6: 0.9992 - val_loss: 1.8270 - val_accuracy: 0.6200 - val_auc_6: 0.8875\n",
            "Epoch 51/500\n",
            "25/25 [==============================] - 7s 279ms/step - loss: 0.0348 - accuracy: 0.9862 - auc_6: 0.9999 - val_loss: 1.8671 - val_accuracy: 0.6350 - val_auc_6: 0.8850\n",
            "Epoch 52/500\n",
            "25/25 [==============================] - 6s 252ms/step - loss: 0.0194 - accuracy: 0.9950 - auc_6: 1.0000 - val_loss: 1.9572 - val_accuracy: 0.6250 - val_auc_6: 0.8799\n"
          ]
        }
      ]
    },
    {
      "cell_type": "code",
      "source": [
        "fig, (ax1, ax2) = plt.subplots(2,1, figsize=(12,6))\n",
        "ax2.plot(history.history['loss'], color='orange', label='Loss')\n",
        "ax2.plot(history.history['val_loss'], color='blue', label='val_loss')\n",
        "ax2.legend(loc='upper right')\n",
        "ax1.plot(history.history['accuracy'], label='Accuracy', color='orange')\n",
        "ax1.plot(history.history['val_accuracy'], label='val_accuracy', color='blue')\n",
        "ax1.legend(loc=\"upper right\")\n",
        "ax1.set_title(\"Model-Accuracy w.r.t Epochs\", loc='center')\n",
        "plt.xlabel(\"Epochs\")\n",
        "plt.ylabel(\"Loss\")\n",
        "ax1.set_xlabel(\"Epoch\")\n",
        "ax1.set_ylabel(\"Accuracy\")\n",
        "plt.show()"
      ],
      "metadata": {
        "colab": {
          "base_uri": "https://localhost:8080/",
          "height": 564
        },
        "id": "msihV_Cf3UND",
        "outputId": "986eaf4e-ad53-4280-b774-a721dfcee29e"
      },
      "execution_count": 52,
      "outputs": [
        {
          "output_type": "display_data",
          "data": {
            "text/plain": [
              "<Figure size 1200x600 with 2 Axes>"
            ],
            "image/png": "[encoded data removed]"
          },
          "metadata": {}
        }
      ]
    },
    {
      "cell_type": "code",
      "source": [
        "labels = pd.get_dummies(np.array(test_gen.labels))\n",
        "y_pred = new_model.predict(test_gen)\n",
        "y_pred_classes = np.argmax(np.array(y_pred), axis=1)\n",
        "y_true = np.argmax(np.array(labels), axis=1)\n",
        "m = AUC()\n",
        "m.update_state(labels, y_pred)\n",
        "\n",
        "print(\"Accuracy of the Test dataset:\", accuracy_score(y_pred_classes, y_true))\n",
        "print(\"AUC of the Test dataset:\", m.result().numpy())"
      ],
      "metadata": {
        "colab": {
          "base_uri": "https://localhost:8080/"
        },
        "id": "g2XDD8JN3tnz",
        "outputId": "17c85e45-c1f3-45a7-9d53-d58194031add"
      },
      "execution_count": 53,
      "outputs": [
        {
          "output_type": "stream",
          "name": "stdout",
          "text": [
            "32/32 [==============================] - 8s 206ms/step\n",
            "Accuracy of the Test dataset: 0.9369369369369369\n",
            "AUC of the Test dataset: 0.98690647\n"
          ]
        }
      ]
    },
    {
      "cell_type": "code",
      "source": [
        "cm = confusion_matrix(y_pred_classes, y_true,)\n",
        "plt.clf()\n",
        "fig = plt.figure(figsize = (12,12)) \n",
        "ax = fig.add_subplot(111)\n",
        "ax.set_aspect(1)\n",
        "plt.imshow(cm, cmap = plt.cm.Blues, interpolation='nearest')\n",
        "\n",
        "plt.title(\"Confusion Matrix\")\n",
        "plt.colorbar()\n",
        "tick_marks = np.arange(len(range(10)))\n",
        "plt.xticks(tick_marks, y_new.columns)\n",
        "plt.yticks(tick_marks, y_new.columns)\n",
        "thresh = cm.max()/2\n",
        "for i, j in itertools.product(range(cm.shape[0]), range(cm.shape[1])):\n",
        "    plt.text(j, i , cm[i,j], horizontalalignment=\"center\", color=\"white\" if cm[i,j]>thresh else \"black\")\n",
        "\n",
        "plt.tight_layout()\n",
        "plt.ylabel(\"True Label\")\n",
        "plt.xlabel(\"Predicted Label\")\n",
        "plt.show()"
      ],
      "metadata": {
        "colab": {
          "base_uri": "https://localhost:8080/",
          "height": 1000
        },
        "id": "rUpEDAmc37n8",
        "outputId": "8af828da-5169-4425-c763-54b0666dbc86"
      },
      "execution_count": 61,
      "outputs": [
        {
          "output_type": "display_data",
          "data": {
            "text/plain": [
              "<Figure size 640x480 with 0 Axes>"
            ]
          },
          "metadata": {}
        },
        {
          "output_type": "display_data",
          "data": {
            "text/plain": [
              "<Figure size 1200x1200 with 2 Axes>"
            ],
            "image/png": "[encoded data removed]"
          },
          "metadata": {}
        }
      ]
    },
    {
      "cell_type": "markdown",
      "source": [
        "### VGG16"
      ],
      "metadata": {
        "id": "WF-6coU54MJ9"
      }
    },
    {
      "cell_type": "code",
      "source": [
        "vgg_model = keras.applications.VGG16(\n",
        "    include_top=False,\n",
        "    weights=\"imagenet\",\n",
        "    classes=10,\n",
        "    input_tensor = inp)\n",
        "\n",
        "for layer in vgg_model.layers:\n",
        "    layer.trainable=False"
      ],
      "metadata": {
        "colab": {
          "base_uri": "https://localhost:8080/"
        },
        "id": "MAEcPjpa4MJ-",
        "outputId": "434fc91d-e83a-46c1-8b26-14451806a958"
      },
      "execution_count": 62,
      "outputs": [
        {
          "output_type": "stream",
          "name": "stdout",
          "text": [
            "Downloading data from https://storage.googleapis.com/tensorflow/keras-applications/vgg16/vgg16_weights_tf_dim_ordering_tf_kernels_notop.h5\n",
            "58889256/58889256 [==============================] - 3s 0us/step\n"
          ]
        }
      ]
    },
    {
      "cell_type": "code",
      "source": [
        "new_model = Sequential()\n",
        "new_model.add(vgg_model)\n",
        "new_model.add(Flatten())\n",
        "new_model.add(BatchNormalization())\n",
        "new_model.add(Dense(512, activation='relu'))\n",
        "new_model.add(Dropout(0.5))\n",
        "new_model.add(BatchNormalization())\n",
        "new_model.add(Dense(256, activation='relu'))\n",
        "new_model.add(Dropout(0.5))\n",
        "new_model.add(Dense(10, activation='softmax'))\n",
        "\n",
        "new_model.compile(loss = 'categorical_crossentropy',optimizer='adam',metrics=['accuracy', AUC()])\n",
        "print(new_model.summary())"
      ],
      "metadata": {
        "colab": {
          "base_uri": "https://localhost:8080/"
        },
        "id": "I9yAvyV34MJ-",
        "outputId": "a04a2a00-c4ba-4b70-9a77-278025269af2"
      },
      "execution_count": 63,
      "outputs": [
        {
          "output_type": "stream",
          "name": "stdout",
          "text": [
            "Model: \"sequential_4\"\n",
            "_________________________________________________________________\n",
            " Layer (type)                Output Shape              Param #   \n",
            "=================================================================\n",
            " vgg16 (Functional)          (None, 8, 8, 512)         14714688  \n",
            "                                                                 \n",
            " flatten_4 (Flatten)         (None, 32768)             0         \n",
            "                                                                 \n",
            " batch_normalization_384 (Ba  (None, 32768)            131072    \n",
            " tchNormalization)                                               \n",
            "                                                                 \n",
            " dense_12 (Dense)            (None, 512)               16777728  \n",
            "                                                                 \n",
            " dropout_8 (Dropout)         (None, 512)               0         \n",
            "                                                                 \n",
            " batch_normalization_385 (Ba  (None, 512)              2048      \n",
            " tchNormalization)                                               \n",
            "                                                                 \n",
            " dense_13 (Dense)            (None, 256)               131328    \n",
            "                                                                 \n",
            " dropout_9 (Dropout)         (None, 256)               0         \n",
            "                                                                 \n",
            " dense_14 (Dense)            (None, 10)                2570      \n",
            "                                                                 \n",
            "=================================================================\n",
            "Total params: 31,759,434\n",
            "Trainable params: 16,978,186\n",
            "Non-trainable params: 14,781,248\n",
            "_________________________________________________________________\n",
            "None\n"
          ]
        }
      ]
    },
    {
      "cell_type": "code",
      "source": [
        "es = EarlyStopping(\n",
        "    monitor='val_accuracy', \n",
        "    restore_best_weights=True, \n",
        "    patience=20, \n",
        "    min_delta = 0.001\n",
        ")\n",
        "\n",
        "history = new_model.fit(datagen.flow_from_dataframe(X_train,\n",
        "                                                    x_col=\"path\",\n",
        "                                                    y_col=\"class\",\n",
        "                                                    batch_size = 32, \n",
        "                                                    directory = path + img_folder), \n",
        "                        validation_data=datagen.flow_from_dataframe(X_test,\n",
        "                                                                    x_col=\"path\",\n",
        "                                                                    y_col=\"class\",\n",
        "                                                                    batch_size=32, \n",
        "                                                                    directory = path + img_folder),\n",
        "                        epochs=500,\n",
        "                        callbacks=[es])"
      ],
      "metadata": {
        "colab": {
          "base_uri": "https://localhost:8080/"
        },
        "id": "B1_Bjw6r4MJ-",
        "outputId": "fde39a09-cc6b-4d86-9d9a-fad00d22c9a3"
      },
      "execution_count": 64,
      "outputs": [
        {
          "output_type": "stream",
          "name": "stdout",
          "text": [
            "Found 799 validated image filenames belonging to 10 classes.\n",
            "Found 200 validated image filenames belonging to 10 classes.\n",
            "Epoch 1/500\n",
            "25/25 [==============================] - 24s 641ms/step - loss: 2.0496 - accuracy: 0.3692 - auc_8: 0.7849 - val_loss: 2.6760 - val_accuracy: 0.1750 - val_auc_8: 0.7293\n",
            "Epoch 2/500\n",
            "25/25 [==============================] - 7s 297ms/step - loss: 1.3444 - accuracy: 0.5519 - auc_8: 0.8988 - val_loss: 2.0773 - val_accuracy: 0.1900 - val_auc_8: 0.7584\n",
            "Epoch 3/500\n",
            "25/25 [==============================] - 7s 286ms/step - loss: 1.0567 - accuracy: 0.6433 - auc_8: 0.9358 - val_loss: 1.6729 - val_accuracy: 0.3550 - val_auc_8: 0.8393\n",
            "Epoch 4/500\n",
            "25/25 [==============================] - 6s 244ms/step - loss: 0.8116 - accuracy: 0.7222 - auc_8: 0.9619 - val_loss: 1.6415 - val_accuracy: 0.4050 - val_auc_8: 0.8503\n",
            "Epoch 5/500\n",
            "25/25 [==============================] - 7s 277ms/step - loss: 0.6204 - accuracy: 0.7772 - auc_8: 0.9774 - val_loss: 1.4355 - val_accuracy: 0.5700 - val_auc_8: 0.8970\n",
            "Epoch 6/500\n",
            "25/25 [==============================] - 6s 246ms/step - loss: 0.5295 - accuracy: 0.8060 - auc_8: 0.9837 - val_loss: 1.3730 - val_accuracy: 0.6000 - val_auc_8: 0.9093\n",
            "Epoch 7/500\n",
            "25/25 [==============================] - 7s 269ms/step - loss: 0.3860 - accuracy: 0.8673 - auc_8: 0.9917 - val_loss: 1.4113 - val_accuracy: 0.5600 - val_auc_8: 0.9078\n",
            "Epoch 8/500\n",
            "25/25 [==============================] - 6s 234ms/step - loss: 0.3157 - accuracy: 0.8999 - auc_8: 0.9949 - val_loss: 1.4069 - val_accuracy: 0.5550 - val_auc_8: 0.9079\n",
            "Epoch 9/500\n",
            "25/25 [==============================] - 7s 274ms/step - loss: 0.2888 - accuracy: 0.9099 - auc_8: 0.9943 - val_loss: 1.2163 - val_accuracy: 0.6300 - val_auc_8: 0.9312\n",
            "Epoch 10/500\n",
            "25/25 [==============================] - 6s 241ms/step - loss: 0.2434 - accuracy: 0.9287 - auc_8: 0.9968 - val_loss: 1.0337 - val_accuracy: 0.6500 - val_auc_8: 0.9455\n",
            "Epoch 11/500\n",
            "25/25 [==============================] - 6s 241ms/step - loss: 0.2355 - accuracy: 0.9312 - auc_8: 0.9958 - val_loss: 1.0011 - val_accuracy: 0.6650 - val_auc_8: 0.9464\n",
            "Epoch 12/500\n",
            "25/25 [==============================] - 7s 271ms/step - loss: 0.2137 - accuracy: 0.9362 - auc_8: 0.9947 - val_loss: 1.0355 - val_accuracy: 0.6350 - val_auc_8: 0.9406\n",
            "Epoch 13/500\n",
            "25/25 [==============================] - 6s 242ms/step - loss: 0.1933 - accuracy: 0.9274 - auc_8: 0.9979 - val_loss: 0.9793 - val_accuracy: 0.6600 - val_auc_8: 0.9465\n",
            "Epoch 14/500\n",
            "25/25 [==============================] - 7s 272ms/step - loss: 0.1636 - accuracy: 0.9499 - auc_8: 0.9978 - val_loss: 1.0333 - val_accuracy: 0.6400 - val_auc_8: 0.9413\n",
            "Epoch 15/500\n",
            "25/25 [==============================] - 6s 242ms/step - loss: 0.1739 - accuracy: 0.9462 - auc_8: 0.9964 - val_loss: 0.9430 - val_accuracy: 0.6800 - val_auc_8: 0.9492\n",
            "Epoch 16/500\n",
            "25/25 [==============================] - 6s 253ms/step - loss: 0.1339 - accuracy: 0.9574 - auc_8: 0.9984 - val_loss: 1.0501 - val_accuracy: 0.6300 - val_auc_8: 0.9427\n",
            "Epoch 17/500\n",
            "25/25 [==============================] - 6s 241ms/step - loss: 0.1163 - accuracy: 0.9675 - auc_8: 0.9986 - val_loss: 1.0967 - val_accuracy: 0.6250 - val_auc_8: 0.9370\n",
            "Epoch 18/500\n",
            "25/25 [==============================] - 6s 238ms/step - loss: 0.1115 - accuracy: 0.9675 - auc_8: 0.9986 - val_loss: 1.0696 - val_accuracy: 0.6350 - val_auc_8: 0.9448\n",
            "Epoch 19/500\n",
            "25/25 [==============================] - 8s 299ms/step - loss: 0.1246 - accuracy: 0.9637 - auc_8: 0.9984 - val_loss: 1.1070 - val_accuracy: 0.6450 - val_auc_8: 0.9352\n",
            "Epoch 20/500\n",
            "25/25 [==============================] - 6s 246ms/step - loss: 0.1034 - accuracy: 0.9675 - auc_8: 0.9994 - val_loss: 1.0703 - val_accuracy: 0.6600 - val_auc_8: 0.9448\n",
            "Epoch 21/500\n",
            "25/25 [==============================] - 8s 307ms/step - loss: 0.0834 - accuracy: 0.9787 - auc_8: 0.9995 - val_loss: 1.1322 - val_accuracy: 0.6300 - val_auc_8: 0.9362\n",
            "Epoch 22/500\n",
            "25/25 [==============================] - 6s 247ms/step - loss: 0.0680 - accuracy: 0.9800 - auc_8: 0.9998 - val_loss: 1.1009 - val_accuracy: 0.6650 - val_auc_8: 0.9385\n",
            "Epoch 23/500\n",
            "25/25 [==============================] - 7s 272ms/step - loss: 0.0855 - accuracy: 0.9775 - auc_8: 0.9988 - val_loss: 1.1956 - val_accuracy: 0.6700 - val_auc_8: 0.9321\n",
            "Epoch 24/500\n",
            "25/25 [==============================] - 6s 247ms/step - loss: 0.0639 - accuracy: 0.9850 - auc_8: 0.9997 - val_loss: 1.2976 - val_accuracy: 0.6600 - val_auc_8: 0.9342\n",
            "Epoch 25/500\n",
            "25/25 [==============================] - 7s 267ms/step - loss: 0.0777 - accuracy: 0.9800 - auc_8: 0.9983 - val_loss: 1.2244 - val_accuracy: 0.7000 - val_auc_8: 0.9312\n",
            "Epoch 26/500\n",
            "25/25 [==============================] - 6s 246ms/step - loss: 0.0857 - accuracy: 0.9725 - auc_8: 0.9982 - val_loss: 1.2663 - val_accuracy: 0.6500 - val_auc_8: 0.9319\n",
            "Epoch 27/500\n",
            "25/25 [==============================] - 6s 252ms/step - loss: 0.0610 - accuracy: 0.9775 - auc_8: 0.9998 - val_loss: 1.2062 - val_accuracy: 0.6900 - val_auc_8: 0.9375\n",
            "Epoch 28/500\n",
            "25/25 [==============================] - 6s 240ms/step - loss: 0.0565 - accuracy: 0.9850 - auc_8: 0.9998 - val_loss: 1.2355 - val_accuracy: 0.6700 - val_auc_8: 0.9319\n",
            "Epoch 29/500\n",
            "25/25 [==============================] - 7s 269ms/step - loss: 0.0581 - accuracy: 0.9837 - auc_8: 0.9991 - val_loss: 1.3089 - val_accuracy: 0.6800 - val_auc_8: 0.9272\n",
            "Epoch 30/500\n",
            "25/25 [==============================] - 6s 241ms/step - loss: 0.0461 - accuracy: 0.9862 - auc_8: 0.9999 - val_loss: 1.3054 - val_accuracy: 0.6850 - val_auc_8: 0.9327\n",
            "Epoch 31/500\n",
            "25/25 [==============================] - 7s 269ms/step - loss: 0.0577 - accuracy: 0.9850 - auc_8: 0.9991 - val_loss: 1.3248 - val_accuracy: 0.6750 - val_auc_8: 0.9283\n",
            "Epoch 32/500\n",
            "25/25 [==============================] - 6s 242ms/step - loss: 0.0391 - accuracy: 0.9887 - auc_8: 0.9999 - val_loss: 1.2819 - val_accuracy: 0.6850 - val_auc_8: 0.9305\n",
            "Epoch 33/500\n",
            "25/25 [==============================] - 6s 252ms/step - loss: 0.0557 - accuracy: 0.9825 - auc_8: 0.9991 - val_loss: 1.2905 - val_accuracy: 0.6700 - val_auc_8: 0.9323\n",
            "Epoch 34/500\n",
            "25/25 [==============================] - 7s 292ms/step - loss: 0.0776 - accuracy: 0.9762 - auc_8: 0.9991 - val_loss: 1.2958 - val_accuracy: 0.6700 - val_auc_8: 0.9261\n",
            "Epoch 35/500\n",
            "25/25 [==============================] - 6s 234ms/step - loss: 0.0624 - accuracy: 0.9850 - auc_8: 0.9978 - val_loss: 1.5300 - val_accuracy: 0.6650 - val_auc_8: 0.9109\n",
            "Epoch 36/500\n",
            "25/25 [==============================] - 7s 264ms/step - loss: 0.0536 - accuracy: 0.9825 - auc_8: 0.9998 - val_loss: 1.4826 - val_accuracy: 0.6800 - val_auc_8: 0.9161\n",
            "Epoch 37/500\n",
            "25/25 [==============================] - 6s 236ms/step - loss: 0.0469 - accuracy: 0.9800 - auc_8: 0.9999 - val_loss: 1.3073 - val_accuracy: 0.6950 - val_auc_8: 0.9234\n",
            "Epoch 38/500\n",
            "25/25 [==============================] - 7s 270ms/step - loss: 0.0602 - accuracy: 0.9787 - auc_8: 0.9991 - val_loss: 1.2677 - val_accuracy: 0.6700 - val_auc_8: 0.9356\n",
            "Epoch 39/500\n",
            "25/25 [==============================] - 6s 233ms/step - loss: 0.0474 - accuracy: 0.9875 - auc_8: 0.9998 - val_loss: 1.3803 - val_accuracy: 0.6850 - val_auc_8: 0.9293\n",
            "Epoch 40/500\n",
            "25/25 [==============================] - 7s 264ms/step - loss: 0.0654 - accuracy: 0.9762 - auc_8: 0.9991 - val_loss: 1.3491 - val_accuracy: 0.6750 - val_auc_8: 0.9268\n",
            "Epoch 41/500\n",
            "25/25 [==============================] - 6s 245ms/step - loss: 0.0446 - accuracy: 0.9812 - auc_8: 0.9999 - val_loss: 1.4086 - val_accuracy: 0.6600 - val_auc_8: 0.9255\n",
            "Epoch 42/500\n",
            "25/25 [==============================] - 7s 294ms/step - loss: 0.0531 - accuracy: 0.9800 - auc_8: 0.9992 - val_loss: 1.3911 - val_accuracy: 0.6850 - val_auc_8: 0.9340\n",
            "Epoch 43/500\n",
            "25/25 [==============================] - 7s 298ms/step - loss: 0.0515 - accuracy: 0.9837 - auc_8: 0.9992 - val_loss: 1.5350 - val_accuracy: 0.6600 - val_auc_8: 0.9202\n",
            "Epoch 44/500\n",
            "25/25 [==============================] - 7s 273ms/step - loss: 0.0698 - accuracy: 0.9762 - auc_8: 0.9990 - val_loss: 1.5107 - val_accuracy: 0.6650 - val_auc_8: 0.9173\n",
            "Epoch 45/500\n",
            "25/25 [==============================] - 6s 240ms/step - loss: 0.0482 - accuracy: 0.9837 - auc_8: 0.9998 - val_loss: 1.5738 - val_accuracy: 0.6950 - val_auc_8: 0.9167\n"
          ]
        }
      ]
    },
    {
      "cell_type": "code",
      "source": [
        "fig, (ax1, ax2) = plt.subplots(2,1, figsize=(12,6))\n",
        "ax2.plot(history.history['loss'], color='orange', label='Loss')\n",
        "ax2.plot(history.history['val_loss'], color='blue', label='val_loss')\n",
        "ax2.legend(loc='upper right')\n",
        "ax1.plot(history.history['accuracy'], label='Accuracy', color='orange')\n",
        "ax1.plot(history.history['val_accuracy'], label='val_accuracy', color='blue')\n",
        "ax1.legend(loc=\"upper right\")\n",
        "ax1.set_title(\"Model-Accuracy w.r.t Epochs\", loc='center')\n",
        "plt.xlabel(\"Epochs\")\n",
        "plt.ylabel(\"Loss\")\n",
        "ax1.set_xlabel(\"Epoch\")\n",
        "ax1.set_ylabel(\"Accuracy\")\n",
        "plt.show()"
      ],
      "metadata": {
        "colab": {
          "base_uri": "https://localhost:8080/",
          "height": 564
        },
        "id": "nIQuLB-s4MJ-",
        "outputId": "79bac9b0-3bd2-4c93-d4d2-94c06ed9fe14"
      },
      "execution_count": 65,
      "outputs": [
        {
          "output_type": "display_data",
          "data": {
            "text/plain": [
              "<Figure size 1200x600 with 2 Axes>"
            ],
            "image/png": "[encoded data removed]"
          },
          "metadata": {}
        }
      ]
    },
    {
      "cell_type": "code",
      "source": [
        "labels = pd.get_dummies(np.array(test_gen.labels))\n",
        "y_pred = new_model.predict(test_gen)\n",
        "y_pred_classes = np.argmax(np.array(y_pred), axis=1)\n",
        "y_true = np.argmax(np.array(labels), axis=1)\n",
        "m = AUC()\n",
        "m.update_state(labels, y_pred)\n",
        "\n",
        "print(\"Accuracy of the Test dataset:\", accuracy_score(y_pred_classes, y_true))\n",
        "print(\"AUC of the Test dataset:\", m.result().numpy())"
      ],
      "metadata": {
        "colab": {
          "base_uri": "https://localhost:8080/"
        },
        "id": "tVL-ytL24MJ_",
        "outputId": "d49366a9-9cc7-4c3a-ee26-36c4493980c2"
      },
      "execution_count": 66,
      "outputs": [
        {
          "output_type": "stream",
          "name": "stdout",
          "text": [
            "32/32 [==============================] - 9s 263ms/step\n",
            "Accuracy of the Test dataset: 0.938938938938939\n",
            "AUC of the Test dataset: 0.9917528\n"
          ]
        }
      ]
    },
    {
      "cell_type": "code",
      "source": [
        "cm = confusion_matrix(y_pred_classes, y_true,)\n",
        "plt.clf()\n",
        "fig = plt.figure(figsize = (12,12)) \n",
        "ax = fig.add_subplot(111)\n",
        "ax.set_aspect(1)\n",
        "plt.imshow(cm, cmap = plt.cm.Blues, interpolation='nearest')\n",
        "\n",
        "plt.title(\"Confusion Matrix\")\n",
        "plt.colorbar()\n",
        "tick_marks = np.arange(len(range(10)))\n",
        "plt.xticks(tick_marks, y_new.columns)\n",
        "plt.yticks(tick_marks, y_new.columns)\n",
        "thresh = cm.max()/2\n",
        "for i, j in itertools.product(range(cm.shape[0]), range(cm.shape[1])):\n",
        "    plt.text(j, i , cm[i,j], horizontalalignment=\"center\", color=\"white\" if cm[i,j]>thresh else \"black\")\n",
        "\n",
        "plt.tight_layout()\n",
        "plt.ylabel(\"True Label\")\n",
        "plt.xlabel(\"Predicted Label\")\n",
        "plt.show()"
      ],
      "metadata": {
        "colab": {
          "base_uri": "https://localhost:8080/",
          "height": 1000
        },
        "id": "M1E6p05b4MJ_",
        "outputId": "b15c8a13-78b9-47fa-c910-eec620f1dddc"
      },
      "execution_count": 67,
      "outputs": [
        {
          "output_type": "display_data",
          "data": {
            "text/plain": [
              "<Figure size 640x480 with 0 Axes>"
            ]
          },
          "metadata": {}
        },
        {
          "output_type": "display_data",
          "data": {
            "text/plain": [
              "<Figure size 1200x1200 with 2 Axes>"
            ],
            "image/png": "[encoded data removed]"
          },
          "metadata": {}
        }
      ]
    },
    {
      "cell_type": "markdown",
      "source": [
        "### ResNet50"
      ],
      "metadata": {
        "id": "LagVb3WO4NQU"
      }
    },
    {
      "cell_type": "code",
      "source": [
        "resnet_model = resnet50.ResNet50(\n",
        "    include_top=False,\n",
        "    weights=\"imagenet\",\n",
        "    classes=10,\n",
        "    input_tensor=inp)\n",
        "\n",
        "for layer in resnet_model.layers:\n",
        "    layer.trainable=False"
      ],
      "metadata": {
        "colab": {
          "base_uri": "https://localhost:8080/"
        },
        "id": "s4D2ezK24NQV",
        "outputId": "56dc9a18-0c9c-471c-9038-ce90691e5cc0"
      },
      "execution_count": 68,
      "outputs": [
        {
          "output_type": "stream",
          "name": "stdout",
          "text": [
            "Downloading data from https://storage.googleapis.com/tensorflow/keras-applications/resnet/resnet50_weights_tf_dim_ordering_tf_kernels_notop.h5\n",
            "94765736/94765736 [==============================] - 5s 0us/step\n"
          ]
        }
      ]
    },
    {
      "cell_type": "code",
      "source": [
        "new_model = Sequential()\n",
        "new_model.add(resnet_model)\n",
        "new_model.add(Flatten())\n",
        "new_model.add(BatchNormalization())\n",
        "new_model.add(Dense(512, activation='relu'))\n",
        "new_model.add(Dropout(0.5))\n",
        "new_model.add(BatchNormalization())\n",
        "new_model.add(Dense(256, activation='relu'))\n",
        "new_model.add(Dropout(0.5))\n",
        "new_model.add(Dense(10, activation='softmax'))\n",
        "\n",
        "new_model.compile(loss = 'categorical_crossentropy',optimizer='adam',metrics=['accuracy', AUC()])\n",
        "print(new_model.summary())"
      ],
      "metadata": {
        "colab": {
          "base_uri": "https://localhost:8080/"
        },
        "id": "B4Fxt6Ua4NQV",
        "outputId": "1c46d748-cb07-4bf8-977a-dce2cbdd0d57"
      },
      "execution_count": 70,
      "outputs": [
        {
          "output_type": "stream",
          "name": "stdout",
          "text": [
            "Model: \"sequential_5\"\n",
            "_________________________________________________________________\n",
            " Layer (type)                Output Shape              Param #   \n",
            "=================================================================\n",
            " resnet50 (Functional)       (None, 8, 8, 2048)        23587712  \n",
            "                                                                 \n",
            " flatten_5 (Flatten)         (None, 131072)            0         \n",
            "                                                                 \n",
            " batch_normalization_386 (Ba  (None, 131072)           524288    \n",
            " tchNormalization)                                               \n",
            "                                                                 \n",
            " dense_15 (Dense)            (None, 512)               67109376  \n",
            "                                                                 \n",
            " dropout_10 (Dropout)        (None, 512)               0         \n",
            "                                                                 \n",
            " batch_normalization_387 (Ba  (None, 512)              2048      \n",
            " tchNormalization)                                               \n",
            "                                                                 \n",
            " dense_16 (Dense)            (None, 256)               131328    \n",
            "                                                                 \n",
            " dropout_11 (Dropout)        (None, 256)               0         \n",
            "                                                                 \n",
            " dense_17 (Dense)            (None, 10)                2570      \n",
            "                                                                 \n",
            "=================================================================\n",
            "Total params: 91,357,322\n",
            "Trainable params: 67,506,442\n",
            "Non-trainable params: 23,850,880\n",
            "_________________________________________________________________\n",
            "None\n"
          ]
        }
      ]
    },
    {
      "cell_type": "code",
      "source": [
        "es = EarlyStopping(\n",
        "    monitor='val_accuracy', \n",
        "    restore_best_weights=True, \n",
        "    patience=20, \n",
        "    min_delta = 0.001\n",
        ")\n",
        "\n",
        "history = new_model.fit(datagen.flow_from_dataframe(X_train,\n",
        "                                                    x_col=\"path\",\n",
        "                                                    y_col=\"class\",\n",
        "                                                    batch_size = 32, \n",
        "                                                    directory = path + img_folder), \n",
        "                        validation_data=datagen.flow_from_dataframe(X_test,\n",
        "                                                                    x_col=\"path\",\n",
        "                                                                    y_col=\"class\",\n",
        "                                                                    batch_size=32, \n",
        "                                                                    directory = path + img_folder),\n",
        "                        epochs=500,\n",
        "                        callbacks=[es])"
      ],
      "metadata": {
        "colab": {
          "base_uri": "https://localhost:8080/"
        },
        "id": "3Cf2w6nm4NQV",
        "outputId": "4f3be81f-1e56-47af-b13d-9d97cd76803e"
      },
      "execution_count": 71,
      "outputs": [
        {
          "output_type": "stream",
          "name": "stdout",
          "text": [
            "Found 799 validated image filenames belonging to 10 classes.\n",
            "Found 200 validated image filenames belonging to 10 classes.\n",
            "Epoch 1/500\n",
            "25/25 [==============================] - 18s 426ms/step - loss: 2.5756 - accuracy: 0.2578 - auc_10: 0.6705 - val_loss: 8.1829 - val_accuracy: 0.1200 - val_auc_10: 0.5548\n",
            "Epoch 2/500\n",
            "25/25 [==============================] - 7s 293ms/step - loss: 2.0908 - accuracy: 0.3517 - auc_10: 0.7732 - val_loss: 4.6390 - val_accuracy: 0.1250 - val_auc_10: 0.5880\n",
            "Epoch 3/500\n",
            "25/25 [==============================] - 7s 260ms/step - loss: 1.9284 - accuracy: 0.3892 - auc_10: 0.8034 - val_loss: 2.9952 - val_accuracy: 0.1800 - val_auc_10: 0.6275\n",
            "Epoch 4/500\n",
            "25/25 [==============================] - 6s 239ms/step - loss: 1.7553 - accuracy: 0.4168 - auc_10: 0.8314 - val_loss: 2.7472 - val_accuracy: 0.1550 - val_auc_10: 0.6513\n",
            "Epoch 5/500\n",
            "25/25 [==============================] - 9s 378ms/step - loss: 1.5748 - accuracy: 0.4606 - auc_10: 0.8600 - val_loss: 2.3744 - val_accuracy: 0.2150 - val_auc_10: 0.6853\n",
            "Epoch 6/500\n",
            "25/25 [==============================] - 8s 338ms/step - loss: 1.5296 - accuracy: 0.4656 - auc_10: 0.8697 - val_loss: 2.2163 - val_accuracy: 0.2450 - val_auc_10: 0.7048\n",
            "Epoch 7/500\n",
            "25/25 [==============================] - 7s 278ms/step - loss: 1.6073 - accuracy: 0.4668 - auc_10: 0.8535 - val_loss: 1.9515 - val_accuracy: 0.2200 - val_auc_10: 0.7561\n",
            "Epoch 8/500\n",
            "25/25 [==============================] - 7s 286ms/step - loss: 1.5534 - accuracy: 0.4781 - auc_10: 0.8609 - val_loss: 1.8215 - val_accuracy: 0.3200 - val_auc_10: 0.7875\n",
            "Epoch 9/500\n",
            "25/25 [==============================] - 6s 249ms/step - loss: 1.5296 - accuracy: 0.4819 - auc_10: 0.8635 - val_loss: 1.7470 - val_accuracy: 0.3800 - val_auc_10: 0.8211\n",
            "Epoch 10/500\n",
            "25/25 [==============================] - 8s 317ms/step - loss: 1.4661 - accuracy: 0.4768 - auc_10: 0.8759 - val_loss: 1.6687 - val_accuracy: 0.3850 - val_auc_10: 0.8435\n",
            "Epoch 11/500\n",
            "25/25 [==============================] - 7s 287ms/step - loss: 1.3066 - accuracy: 0.5394 - auc_10: 0.9016 - val_loss: 1.6690 - val_accuracy: 0.4250 - val_auc_10: 0.8441\n",
            "Epoch 12/500\n",
            "25/25 [==============================] - 8s 319ms/step - loss: 1.3789 - accuracy: 0.5369 - auc_10: 0.8900 - val_loss: 1.6021 - val_accuracy: 0.4350 - val_auc_10: 0.8574\n",
            "Epoch 13/500\n",
            "25/25 [==============================] - 6s 255ms/step - loss: 1.2891 - accuracy: 0.5369 - auc_10: 0.9062 - val_loss: 1.4556 - val_accuracy: 0.5100 - val_auc_10: 0.8863\n",
            "Epoch 14/500\n",
            "25/25 [==============================] - 7s 257ms/step - loss: 1.2721 - accuracy: 0.5544 - auc_10: 0.9079 - val_loss: 1.4076 - val_accuracy: 0.5100 - val_auc_10: 0.8937\n",
            "Epoch 15/500\n",
            "25/25 [==============================] - 7s 264ms/step - loss: 1.2213 - accuracy: 0.5970 - auc_10: 0.9169 - val_loss: 1.4117 - val_accuracy: 0.5450 - val_auc_10: 0.8862\n",
            "Epoch 16/500\n",
            "25/25 [==============================] - 7s 261ms/step - loss: 1.2063 - accuracy: 0.5945 - auc_10: 0.9186 - val_loss: 1.2991 - val_accuracy: 0.5450 - val_auc_10: 0.9049\n",
            "Epoch 17/500\n",
            "25/25 [==============================] - 8s 323ms/step - loss: 1.1854 - accuracy: 0.5832 - auc_10: 0.9211 - val_loss: 1.2844 - val_accuracy: 0.5700 - val_auc_10: 0.9078\n",
            "Epoch 18/500\n",
            "25/25 [==============================] - 6s 252ms/step - loss: 1.0931 - accuracy: 0.6283 - auc_10: 0.9321 - val_loss: 1.2181 - val_accuracy: 0.6050 - val_auc_10: 0.9151\n",
            "Epoch 19/500\n",
            "25/25 [==============================] - 6s 241ms/step - loss: 1.0115 - accuracy: 0.6471 - auc_10: 0.9421 - val_loss: 1.2630 - val_accuracy: 0.5600 - val_auc_10: 0.9090\n",
            "Epoch 20/500\n",
            "25/25 [==============================] - 7s 294ms/step - loss: 0.9448 - accuracy: 0.6771 - auc_10: 0.9480 - val_loss: 1.2398 - val_accuracy: 0.5750 - val_auc_10: 0.9128\n",
            "Epoch 21/500\n",
            "25/25 [==============================] - 6s 233ms/step - loss: 0.9360 - accuracy: 0.6834 - auc_10: 0.9495 - val_loss: 1.1975 - val_accuracy: 0.5900 - val_auc_10: 0.9179\n",
            "Epoch 22/500\n",
            "25/25 [==============================] - 6s 228ms/step - loss: 0.8898 - accuracy: 0.7034 - auc_10: 0.9543 - val_loss: 1.2040 - val_accuracy: 0.5800 - val_auc_10: 0.9183\n",
            "Epoch 23/500\n",
            "25/25 [==============================] - 6s 257ms/step - loss: 0.9501 - accuracy: 0.6746 - auc_10: 0.9469 - val_loss: 1.1642 - val_accuracy: 0.6000 - val_auc_10: 0.9227\n",
            "Epoch 24/500\n",
            "25/25 [==============================] - 6s 231ms/step - loss: 0.8981 - accuracy: 0.6909 - auc_10: 0.9531 - val_loss: 1.1511 - val_accuracy: 0.6000 - val_auc_10: 0.9253\n",
            "Epoch 25/500\n",
            "25/25 [==============================] - 7s 291ms/step - loss: 0.8554 - accuracy: 0.6871 - auc_10: 0.9586 - val_loss: 1.0920 - val_accuracy: 0.6250 - val_auc_10: 0.9334\n",
            "Epoch 26/500\n",
            "25/25 [==============================] - 6s 235ms/step - loss: 0.8153 - accuracy: 0.7134 - auc_10: 0.9611 - val_loss: 1.1232 - val_accuracy: 0.5950 - val_auc_10: 0.9291\n",
            "Epoch 27/500\n",
            "25/25 [==============================] - 6s 237ms/step - loss: 0.7695 - accuracy: 0.7334 - auc_10: 0.9648 - val_loss: 1.2021 - val_accuracy: 0.6150 - val_auc_10: 0.9229\n",
            "Epoch 28/500\n",
            "25/25 [==============================] - 7s 264ms/step - loss: 0.8146 - accuracy: 0.7234 - auc_10: 0.9613 - val_loss: 1.1388 - val_accuracy: 0.5850 - val_auc_10: 0.9308\n",
            "Epoch 29/500\n",
            "25/25 [==============================] - 6s 241ms/step - loss: 0.7144 - accuracy: 0.7434 - auc_10: 0.9695 - val_loss: 1.1420 - val_accuracy: 0.5950 - val_auc_10: 0.9294\n",
            "Epoch 30/500\n",
            "25/25 [==============================] - 8s 302ms/step - loss: 0.6581 - accuracy: 0.7685 - auc_10: 0.9751 - val_loss: 1.1226 - val_accuracy: 0.6100 - val_auc_10: 0.9302\n",
            "Epoch 31/500\n",
            "25/25 [==============================] - 6s 234ms/step - loss: 0.6480 - accuracy: 0.7747 - auc_10: 0.9754 - val_loss: 1.1553 - val_accuracy: 0.6050 - val_auc_10: 0.9275\n",
            "Epoch 32/500\n",
            "25/25 [==============================] - 6s 255ms/step - loss: 0.6380 - accuracy: 0.7935 - auc_10: 0.9754 - val_loss: 1.1517 - val_accuracy: 0.5950 - val_auc_10: 0.9267\n",
            "Epoch 33/500\n",
            "25/25 [==============================] - 6s 238ms/step - loss: 0.6165 - accuracy: 0.7872 - auc_10: 0.9782 - val_loss: 1.2374 - val_accuracy: 0.5900 - val_auc_10: 0.9187\n",
            "Epoch 34/500\n",
            "25/25 [==============================] - 7s 279ms/step - loss: 0.5820 - accuracy: 0.7947 - auc_10: 0.9792 - val_loss: 1.2339 - val_accuracy: 0.6000 - val_auc_10: 0.9210\n",
            "Epoch 35/500\n",
            "25/25 [==============================] - 6s 252ms/step - loss: 0.5614 - accuracy: 0.8135 - auc_10: 0.9812 - val_loss: 1.1494 - val_accuracy: 0.6350 - val_auc_10: 0.9284\n",
            "Epoch 36/500\n",
            "25/25 [==============================] - 7s 277ms/step - loss: 0.5003 - accuracy: 0.8248 - auc_10: 0.9826 - val_loss: 1.2280 - val_accuracy: 0.5950 - val_auc_10: 0.9256\n",
            "Epoch 37/500\n",
            "25/25 [==============================] - 7s 286ms/step - loss: 0.4717 - accuracy: 0.8423 - auc_10: 0.9852 - val_loss: 1.1838 - val_accuracy: 0.6250 - val_auc_10: 0.9256\n",
            "Epoch 38/500\n",
            "25/25 [==============================] - 6s 237ms/step - loss: 0.5616 - accuracy: 0.7960 - auc_10: 0.9808 - val_loss: 1.1774 - val_accuracy: 0.6000 - val_auc_10: 0.9238\n",
            "Epoch 39/500\n",
            "25/25 [==============================] - 7s 269ms/step - loss: 0.5495 - accuracy: 0.8185 - auc_10: 0.9820 - val_loss: 1.1270 - val_accuracy: 0.5950 - val_auc_10: 0.9304\n",
            "Epoch 40/500\n",
            "25/25 [==============================] - 6s 228ms/step - loss: 0.5805 - accuracy: 0.7885 - auc_10: 0.9799 - val_loss: 1.2673 - val_accuracy: 0.6100 - val_auc_10: 0.9210\n",
            "Epoch 41/500\n",
            "25/25 [==============================] - 7s 266ms/step - loss: 0.5878 - accuracy: 0.8010 - auc_10: 0.9798 - val_loss: 1.2251 - val_accuracy: 0.6200 - val_auc_10: 0.9268\n",
            "Epoch 42/500\n",
            "25/25 [==============================] - 6s 252ms/step - loss: 0.5403 - accuracy: 0.8248 - auc_10: 0.9815 - val_loss: 1.1566 - val_accuracy: 0.6650 - val_auc_10: 0.9291\n",
            "Epoch 43/500\n",
            "25/25 [==============================] - 7s 263ms/step - loss: 0.5207 - accuracy: 0.8110 - auc_10: 0.9843 - val_loss: 1.1492 - val_accuracy: 0.6500 - val_auc_10: 0.9272\n",
            "Epoch 44/500\n",
            "25/25 [==============================] - 6s 232ms/step - loss: 0.5207 - accuracy: 0.8223 - auc_10: 0.9825 - val_loss: 1.1418 - val_accuracy: 0.6150 - val_auc_10: 0.9318\n",
            "Epoch 45/500\n",
            "25/25 [==============================] - 6s 234ms/step - loss: 0.6324 - accuracy: 0.7647 - auc_10: 0.9772 - val_loss: 1.0970 - val_accuracy: 0.6550 - val_auc_10: 0.9354\n",
            "Epoch 46/500\n",
            "25/25 [==============================] - 7s 267ms/step - loss: 0.5784 - accuracy: 0.7847 - auc_10: 0.9796 - val_loss: 1.3109 - val_accuracy: 0.5850 - val_auc_10: 0.9200\n",
            "Epoch 47/500\n",
            "25/25 [==============================] - 6s 233ms/step - loss: 0.5881 - accuracy: 0.7985 - auc_10: 0.9783 - val_loss: 1.4114 - val_accuracy: 0.6050 - val_auc_10: 0.9103\n",
            "Epoch 48/500\n",
            "25/25 [==============================] - 7s 264ms/step - loss: 0.5906 - accuracy: 0.7722 - auc_10: 0.9799 - val_loss: 1.3001 - val_accuracy: 0.6300 - val_auc_10: 0.9185\n",
            "Epoch 49/500\n",
            "25/25 [==============================] - 6s 231ms/step - loss: 0.5457 - accuracy: 0.8023 - auc_10: 0.9823 - val_loss: 1.2877 - val_accuracy: 0.6200 - val_auc_10: 0.9217\n",
            "Epoch 50/500\n",
            "25/25 [==============================] - 6s 250ms/step - loss: 0.5146 - accuracy: 0.8260 - auc_10: 0.9822 - val_loss: 1.1886 - val_accuracy: 0.6200 - val_auc_10: 0.9276\n",
            "Epoch 51/500\n",
            "25/25 [==============================] - 7s 267ms/step - loss: 0.4634 - accuracy: 0.8423 - auc_10: 0.9870 - val_loss: 1.2340 - val_accuracy: 0.6350 - val_auc_10: 0.9268\n",
            "Epoch 52/500\n",
            "25/25 [==============================] - 6s 232ms/step - loss: 0.4818 - accuracy: 0.8223 - auc_10: 0.9857 - val_loss: 1.2133 - val_accuracy: 0.5900 - val_auc_10: 0.9247\n",
            "Epoch 53/500\n",
            "25/25 [==============================] - 8s 338ms/step - loss: 0.4567 - accuracy: 0.8360 - auc_10: 0.9870 - val_loss: 1.2359 - val_accuracy: 0.6000 - val_auc_10: 0.9273\n",
            "Epoch 54/500\n",
            "25/25 [==============================] - 8s 304ms/step - loss: 0.4818 - accuracy: 0.8260 - auc_10: 0.9850 - val_loss: 1.2325 - val_accuracy: 0.5700 - val_auc_10: 0.9283\n",
            "Epoch 55/500\n",
            "25/25 [==============================] - 6s 236ms/step - loss: 0.4021 - accuracy: 0.8511 - auc_10: 0.9889 - val_loss: 1.1914 - val_accuracy: 0.6300 - val_auc_10: 0.9247\n",
            "Epoch 56/500\n",
            "25/25 [==============================] - 7s 266ms/step - loss: 0.4103 - accuracy: 0.8598 - auc_10: 0.9894 - val_loss: 1.2888 - val_accuracy: 0.6000 - val_auc_10: 0.9221\n",
            "Epoch 57/500\n",
            "25/25 [==============================] - 7s 263ms/step - loss: 0.3937 - accuracy: 0.8786 - auc_10: 0.9879 - val_loss: 1.2107 - val_accuracy: 0.6350 - val_auc_10: 0.9293\n",
            "Epoch 58/500\n",
            "25/25 [==============================] - 6s 245ms/step - loss: 0.3472 - accuracy: 0.8748 - auc_10: 0.9926 - val_loss: 1.2255 - val_accuracy: 0.6100 - val_auc_10: 0.9185\n",
            "Epoch 59/500\n",
            "25/25 [==============================] - 7s 264ms/step - loss: 0.3140 - accuracy: 0.8874 - auc_10: 0.9939 - val_loss: 1.2561 - val_accuracy: 0.6400 - val_auc_10: 0.9210\n",
            "Epoch 60/500\n",
            "25/25 [==============================] - 6s 235ms/step - loss: 0.3743 - accuracy: 0.8636 - auc_10: 0.9905 - val_loss: 1.3119 - val_accuracy: 0.6350 - val_auc_10: 0.9211\n",
            "Epoch 61/500\n",
            "25/25 [==============================] - 6s 251ms/step - loss: 0.4136 - accuracy: 0.8486 - auc_10: 0.9882 - val_loss: 1.4030 - val_accuracy: 0.6400 - val_auc_10: 0.9109\n",
            "Epoch 62/500\n",
            "25/25 [==============================] - 7s 261ms/step - loss: 0.3841 - accuracy: 0.8661 - auc_10: 0.9897 - val_loss: 1.4282 - val_accuracy: 0.6050 - val_auc_10: 0.9113\n"
          ]
        }
      ]
    },
    {
      "cell_type": "code",
      "source": [
        "fig, (ax1, ax2) = plt.subplots(2,1, figsize=(12,6))\n",
        "ax2.plot(history.history['loss'], color='orange', label='Loss')\n",
        "ax2.plot(history.history['val_loss'], color='blue', label='val_loss')\n",
        "ax2.legend(loc='upper right')\n",
        "ax1.plot(history.history['accuracy'], label='Accuracy', color='orange')\n",
        "ax1.plot(history.history['val_accuracy'], label='val_accuracy', color='blue')\n",
        "ax1.legend(loc=\"upper right\")\n",
        "ax1.set_title(\"Model-Accuracy w.r.t Epochs\", loc='center')\n",
        "plt.xlabel(\"Epochs\")\n",
        "plt.ylabel(\"Loss\")\n",
        "ax1.set_xlabel(\"Epoch\")\n",
        "ax1.set_ylabel(\"Accuracy\")\n",
        "plt.show()"
      ],
      "metadata": {
        "colab": {
          "base_uri": "https://localhost:8080/",
          "height": 564
        },
        "id": "GSjy98eF4NQV",
        "outputId": "851a25ae-35fc-4ba1-d930-ce7b719536b8"
      },
      "execution_count": 72,
      "outputs": [
        {
          "output_type": "display_data",
          "data": {
            "text/plain": [
              "<Figure size 1200x600 with 2 Axes>"
            ],
            "image/png": "[encoded data removed]"
          },
          "metadata": {}
        }
      ]
    },
    {
      "cell_type": "code",
      "source": [
        "labels = pd.get_dummies(np.array(test_gen.labels))\n",
        "y_pred = new_model.predict(test_gen)\n",
        "y_pred_classes = np.argmax(np.array(y_pred), axis=1)\n",
        "y_true = np.argmax(np.array(labels), axis=1)\n",
        "m = AUC()\n",
        "m.update_state(labels, y_pred)\n",
        "\n",
        "print(\"Accuracy of the Test dataset:\", accuracy_score(y_pred_classes, y_true))\n",
        "print(\"AUC of the Test dataset:\", m.result().numpy())"
      ],
      "metadata": {
        "colab": {
          "base_uri": "https://localhost:8080/"
        },
        "id": "HIlGK3wC4NQV",
        "outputId": "217b715d-9279-41da-c855-6b4d243029ef"
      },
      "execution_count": 73,
      "outputs": [
        {
          "output_type": "stream",
          "name": "stdout",
          "text": [
            "32/32 [==============================] - 8s 216ms/step\n",
            "Accuracy of the Test dataset: 0.9049049049049049\n",
            "AUC of the Test dataset: 0.98901755\n"
          ]
        }
      ]
    },
    {
      "cell_type": "code",
      "source": [
        "cm = confusion_matrix(y_pred_classes, y_true,)\n",
        "plt.clf()\n",
        "fig = plt.figure(figsize = (12,12)) \n",
        "ax = fig.add_subplot(111)\n",
        "ax.set_aspect(1)\n",
        "plt.imshow(cm, cmap = plt.cm.Blues, interpolation='nearest')\n",
        "\n",
        "plt.title(\"Confusion Matrix\")\n",
        "plt.colorbar()\n",
        "tick_marks = np.arange(len(range(10)))\n",
        "plt.xticks(tick_marks, y_new.columns)\n",
        "plt.yticks(tick_marks, y_new.columns)\n",
        "thresh = cm.max()/2\n",
        "for i, j in itertools.product(range(cm.shape[0]), range(cm.shape[1])):\n",
        "    plt.text(j, i , cm[i,j], horizontalalignment=\"center\", color=\"white\" if cm[i,j]>thresh else \"black\")\n",
        "\n",
        "plt.tight_layout()\n",
        "plt.ylabel(\"True Label\")\n",
        "plt.xlabel(\"Predicted Label\")\n",
        "plt.show()"
      ],
      "metadata": {
        "colab": {
          "base_uri": "https://localhost:8080/",
          "height": 1000
        },
        "id": "sUH_HSN14NQV",
        "outputId": "30907ce6-6fc3-4345-a5e4-4d1679c1006d"
      },
      "execution_count": 74,
      "outputs": [
        {
          "output_type": "display_data",
          "data": {
            "text/plain": [
              "<Figure size 640x480 with 0 Axes>"
            ]
          },
          "metadata": {}
        },
        {
          "output_type": "display_data",
          "data": {
            "text/plain": [
              "<Figure size 1200x1200 with 2 Axes>"
            ],
            "image/png": "[encoded data removed]"
          },
          "metadata": {}
        }
      ]
    }
  ],
  "metadata": {
    "kernelspec": {
      "display_name": "Python 3.9.13 ('Columbia')",
      "language": "python",
      "name": "python3"
    },
    "language_info": {
      "codemirror_mode": {
        "name": "ipython",
        "version": 3
      },
      "file_extension": ".py",
      "mimetype": "text/x-python",
      "name": "python",
      "nbconvert_exporter": "python",
      "pygments_lexer": "ipython3",
      "version": "3.9.13"
    },
    "orig_nbformat": 4,
    "vscode": {
      "interpreter": {
        "hash": "ccd2c648c5a6eeb8a41cd93bc6bbe3d4241470c9b6a8b405b546e5e08db09a06"
      }
    },
    "colab": {
      "provenance": []
    },
    "accelerator": "GPU",
    "gpuClass": "standard"
  },
  "nbformat": 4,
  "nbformat_minor": 0
}